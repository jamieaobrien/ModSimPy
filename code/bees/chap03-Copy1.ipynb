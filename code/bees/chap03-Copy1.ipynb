{
 "cells": [
  {
   "cell_type": "markdown",
   "metadata": {},
   "source": [
    "# Modeling and Simulation in Python\n",
    "\n",
    "Chapter 3: Explain\n",
    "\n",
    "Copyright 2017 Allen Downey\n",
    "\n",
    "License: [Creative Commons Attribution 4.0 International](https://creativecommons.org/licenses/by/4.0)\n"
   ]
  },
  {
   "cell_type": "code",
   "execution_count": 24,
   "metadata": {},
   "outputs": [
    {
     "ename": "ModuleNotFoundError",
     "evalue": "No module named 'modsim'",
     "output_type": "error",
     "traceback": [
      "\u001b[1;31m---------------------------------------------------------------------------\u001b[0m",
      "\u001b[1;31mModuleNotFoundError\u001b[0m                       Traceback (most recent call last)",
      "\u001b[1;32m<ipython-input-24-5d7a09a5773f>\u001b[0m in \u001b[0;36m<module>\u001b[1;34m()\u001b[0m\n\u001b[0;32m     14\u001b[0m \u001b[0mget_ipython\u001b[0m\u001b[1;33m(\u001b[0m\u001b[1;33m)\u001b[0m\u001b[1;33m.\u001b[0m\u001b[0mmagic\u001b[0m\u001b[1;33m(\u001b[0m\u001b[1;34m'matplotlib inline'\u001b[0m\u001b[1;33m)\u001b[0m\u001b[1;33m\u001b[0m\u001b[0m\n\u001b[0;32m     15\u001b[0m \u001b[1;33m\u001b[0m\u001b[0m\n\u001b[1;32m---> 16\u001b[1;33m \u001b[1;32mfrom\u001b[0m \u001b[0mmodsim\u001b[0m \u001b[1;32mimport\u001b[0m \u001b[1;33m*\u001b[0m\u001b[1;33m\u001b[0m\u001b[0m\n\u001b[0m",
      "\u001b[1;31mModuleNotFoundError\u001b[0m: No module named 'modsim'"
     ]
    }
   ],
   "source": [
    "# If you want the figures to appear in the notebook, \n",
    "# and you want to interact with them, use\n",
    "# %matplotlib notebook\n",
    "\n",
    "# If you want the figures to appear in the notebook, \n",
    "# and you don't want to interact with them, use\n",
    "# %matplotlib inline\n",
    "\n",
    "# If you want the figures to appear in separate windows, use\n",
    "# %matplotlib qt5\n",
    "\n",
    "# To switch from one to another, you have to select Kernel->Restart\n",
    "\n",
    "%matplotlib inline\n",
    "\n",
    "from modsim import *"
   ]
  },
  {
   "cell_type": "markdown",
   "metadata": {},
   "source": [
    "Pandas is a module that provides tools for reading and processing data.  The `read_html` reads a web page from a file or the Internet and creates one DataFrame for each table on the page."
   ]
  },
  {
   "cell_type": "code",
   "execution_count": 5,
   "metadata": {
    "collapsed": true
   },
   "outputs": [],
   "source": [
    "from pandas import read_html"
   ]
  },
  {
   "cell_type": "markdown",
   "metadata": {},
   "source": [
    "The data directory contains a downloaded copy of https://en.wikipedia.org/wiki/World_population_estimates"
   ]
  },
  {
   "cell_type": "code",
   "execution_count": 4,
   "metadata": {
    "collapsed": true
   },
   "outputs": [],
   "source": [
    "filename = 'data/World_population_estimates.html'\n",
    "tables = read_html(filename, header=0, index_col=0, decimal='M')"
   ]
  },
  {
   "cell_type": "markdown",
   "metadata": {},
   "source": [
    "`tables` is a sequence of DataFrame objects.  We can select the DataFrame we want using the bracket operator.  The tables are numbered from 0, so `table2` is actually the third table on the page.\n",
    "\n",
    "`head` selects the header and the first five rows."
   ]
  },
  {
   "cell_type": "code",
   "execution_count": 5,
   "metadata": {
    "collapsed": true,
    "scrolled": true
   },
   "outputs": [],
   "source": [
    "table2 = tables[2]\n",
    "table2.head()"
   ]
  },
  {
   "cell_type": "markdown",
   "metadata": {},
   "source": [
    "`tail` selects the last five rows."
   ]
  },
  {
   "cell_type": "code",
   "execution_count": 6,
   "metadata": {
    "collapsed": true,
    "scrolled": true
   },
   "outputs": [],
   "source": [
    "table2.tail()"
   ]
  },
  {
   "cell_type": "markdown",
   "metadata": {},
   "source": [
    "Long column names are awkard to work with, but we can replace them with abbreviated names."
   ]
  },
  {
   "cell_type": "code",
   "execution_count": 7,
   "metadata": {
    "collapsed": true
   },
   "outputs": [],
   "source": [
    "table2.columns = ['census', 'prb', 'un', 'maddison', \n",
    "                  'hyde', 'tanton', 'biraben', 'mj', \n",
    "                  'thomlinson', 'durand', 'clark']"
   ]
  },
  {
   "cell_type": "markdown",
   "metadata": {},
   "source": [
    "Here's what the DataFrame looks like now.  \n",
    "\n",
    "Some of the values use scientific notation; for example, `2.544000e+09` is shorthand for $2.544 \\cdot 10^9$ or 2.544 billion.\n",
    "\n",
    "`NaN` is a special value that indicates missing data."
   ]
  },
  {
   "cell_type": "code",
   "execution_count": 8,
   "metadata": {
    "collapsed": true
   },
   "outputs": [],
   "source": [
    "table2"
   ]
  },
  {
   "cell_type": "markdown",
   "metadata": {},
   "source": [
    "We can use dot notatio to select a column from a DataFrame.  The result is a Series."
   ]
  },
  {
   "cell_type": "code",
   "execution_count": 9,
   "metadata": {
    "collapsed": true
   },
   "outputs": [],
   "source": [
    "census = table2.census\n",
    "census"
   ]
  },
  {
   "cell_type": "markdown",
   "metadata": {},
   "source": [
    "A Series object has two parts, `values` and `index`.\n",
    "\n",
    "The `values` part is an array."
   ]
  },
  {
   "cell_type": "code",
   "execution_count": 10,
   "metadata": {
    "collapsed": true
   },
   "outputs": [],
   "source": [
    "census.values"
   ]
  },
  {
   "cell_type": "markdown",
   "metadata": {},
   "source": [
    "The `index` part is yet another kind of object, an `Int64Index`."
   ]
  },
  {
   "cell_type": "code",
   "execution_count": 11,
   "metadata": {
    "collapsed": true
   },
   "outputs": [],
   "source": [
    "census.index"
   ]
  },
  {
   "cell_type": "markdown",
   "metadata": {},
   "source": [
    "If you ever wonder what kind of object a variable refers to, you can use the `type` function.\n",
    "\n",
    "The result indicates what type the object is, and the module where that type is defined.\n",
    "\n",
    "DataFrame, Series, and Int64Index are defined by Pandas.\n",
    "\n",
    "array is defined by NumPy."
   ]
  },
  {
   "cell_type": "code",
   "execution_count": 12,
   "metadata": {
    "collapsed": true
   },
   "outputs": [],
   "source": [
    "type(table2)"
   ]
  },
  {
   "cell_type": "code",
   "execution_count": 13,
   "metadata": {
    "collapsed": true
   },
   "outputs": [],
   "source": [
    "type(census)"
   ]
  },
  {
   "cell_type": "code",
   "execution_count": 14,
   "metadata": {
    "collapsed": true
   },
   "outputs": [],
   "source": [
    "type(census.index)"
   ]
  },
  {
   "cell_type": "code",
   "execution_count": 15,
   "metadata": {
    "collapsed": true
   },
   "outputs": [],
   "source": [
    "type(census.values)"
   ]
  },
  {
   "cell_type": "markdown",
   "metadata": {},
   "source": [
    "This function plots the estimates generated by the US Censis and UN DESA, and labels the axes.\n",
    "\n",
    "`1e9` is scientific notation for $1 \\cdot 10^9$ or 1 billion."
   ]
  },
  {
   "cell_type": "code",
   "execution_count": 16,
   "metadata": {
    "collapsed": true
   },
   "outputs": [],
   "source": [
    "def plot_estimates(table):\n",
    "    \"\"\"Plot world population estimates.\n",
    "    \n",
    "    table: DataFrame with columns 'un' and 'census'\n",
    "    \"\"\"\n",
    "    un = table.un / 1e9\n",
    "    census = table.census / 1e9\n",
    "    \n",
    "    plot(census, ':', color='darkblue', label='US Census')\n",
    "    plot(un, '--', color='green', label='UN DESA')\n",
    "    \n",
    "    decorate(xlabel='Year',\n",
    "             ylabel='World population (billion)')"
   ]
  },
  {
   "cell_type": "markdown",
   "metadata": {},
   "source": [
    "Now we can plot the estimates."
   ]
  },
  {
   "cell_type": "code",
   "execution_count": 17,
   "metadata": {
    "collapsed": true,
    "scrolled": false
   },
   "outputs": [],
   "source": [
    "newfig()\n",
    "plot_estimates(table2)\n",
    "savefig('chap03-fig01.pdf')"
   ]
  },
  {
   "cell_type": "markdown",
   "metadata": {},
   "source": [
    "From here on, we will work in units of billions."
   ]
  },
  {
   "cell_type": "code",
   "execution_count": 18,
   "metadata": {
    "collapsed": true
   },
   "outputs": [],
   "source": [
    "un = table2.un / 1e9"
   ]
  },
  {
   "cell_type": "code",
   "execution_count": 19,
   "metadata": {
    "collapsed": true
   },
   "outputs": [],
   "source": [
    "census = table2.census / 1e9"
   ]
  },
  {
   "cell_type": "markdown",
   "metadata": {},
   "source": [
    "This expression computes the elementwise differences between the series, then divides through by the UN value to produce relative errors, then finds the largest element.\n",
    "\n",
    "So the largest relative error between the estimates is about 1.3%."
   ]
  },
  {
   "cell_type": "code",
   "execution_count": 20,
   "metadata": {
    "collapsed": true
   },
   "outputs": [],
   "source": [
    "max(abs(census - un) / un) * 100"
   ]
  },
  {
   "cell_type": "markdown",
   "metadata": {},
   "source": [
    "**Exercise:** Break down that expression into smaller steps and display the intermediate results, to make sure you understand how it works.\n",
    "\n",
    "Where in the series is the largest relative error between the two estimates, near the beginning or the end?\n",
    "\n",
    "When I computed relative errors, I used `un` as the denominator.  But that was an arbitraty choice.  What happens if we use `census` instead?  How much difference does it make."
   ]
  },
  {
   "cell_type": "code",
   "execution_count": 21,
   "metadata": {
    "collapsed": true,
    "scrolled": true
   },
   "outputs": [],
   "source": [
    "# Solution goes here"
   ]
  },
  {
   "cell_type": "code",
   "execution_count": 22,
   "metadata": {
    "collapsed": true,
    "scrolled": true
   },
   "outputs": [],
   "source": [
    "# Solution goes here"
   ]
  },
  {
   "cell_type": "code",
   "execution_count": 23,
   "metadata": {
    "collapsed": true,
    "scrolled": true
   },
   "outputs": [],
   "source": [
    "# Solution goes here"
   ]
  },
  {
   "cell_type": "code",
   "execution_count": 24,
   "metadata": {
    "collapsed": true
   },
   "outputs": [],
   "source": [
    "# Solution goes here"
   ]
  },
  {
   "cell_type": "markdown",
   "metadata": {},
   "source": [
    "### Constant growth"
   ]
  },
  {
   "cell_type": "markdown",
   "metadata": {},
   "source": [
    "We can select an element from a series using bracket notation and one of the elements from the index.  Here's the first element:"
   ]
  },
  {
   "cell_type": "code",
   "execution_count": 25,
   "metadata": {
    "collapsed": true
   },
   "outputs": [],
   "source": [
    "census[1950]"
   ]
  },
  {
   "cell_type": "markdown",
   "metadata": {},
   "source": [
    "And the last element."
   ]
  },
  {
   "cell_type": "code",
   "execution_count": 26,
   "metadata": {
    "collapsed": true
   },
   "outputs": [],
   "source": [
    "census[2015]"
   ]
  },
  {
   "cell_type": "markdown",
   "metadata": {},
   "source": [
    "But we can get the first and last years from the index itself:"
   ]
  },
  {
   "cell_type": "code",
   "execution_count": 27,
   "metadata": {
    "collapsed": true
   },
   "outputs": [],
   "source": [
    "first_year = census.index[0]\n",
    "last_year = census.index[-1]\n",
    "first_year, last_year"
   ]
  },
  {
   "cell_type": "markdown",
   "metadata": {},
   "source": [
    "And use them to look up the first and last elements.\n",
    "\n",
    "Then we can compute the average annual growth in billions of people per year."
   ]
  },
  {
   "cell_type": "code",
   "execution_count": 28,
   "metadata": {
    "collapsed": true
   },
   "outputs": [],
   "source": [
    "total_growth = census[last_year] - census[first_year]\n",
    "elapsed_time = last_year - first_year\n",
    "annual_growth = total_growth / elapsed_time\n",
    "annual_growth"
   ]
  },
  {
   "cell_type": "markdown",
   "metadata": {},
   "source": [
    "Now let's create a `TimeSeries` to contain values generated by a linear growth model."
   ]
  },
  {
   "cell_type": "code",
   "execution_count": 29,
   "metadata": {
    "collapsed": true
   },
   "outputs": [],
   "source": [
    "results = TimeSeries()"
   ]
  },
  {
   "cell_type": "markdown",
   "metadata": {},
   "source": [
    "Initially the Series is empty, but we can initialize it so the starting value, in 1950, is the 1950 population estimated by the US Census."
   ]
  },
  {
   "cell_type": "code",
   "execution_count": 30,
   "metadata": {
    "collapsed": true
   },
   "outputs": [],
   "source": [
    "results[1950] = census[1950]\n",
    "results"
   ]
  },
  {
   "cell_type": "markdown",
   "metadata": {},
   "source": [
    "After that, the population in the model grows by a constant amount each year."
   ]
  },
  {
   "cell_type": "code",
   "execution_count": 31,
   "metadata": {
    "collapsed": true
   },
   "outputs": [],
   "source": [
    "for t in linrange(1950, 2015):\n",
    "    results[t+1] = results[t] + annual_growth"
   ]
  },
  {
   "cell_type": "markdown",
   "metadata": {},
   "source": [
    "Here's what the results looks like, compared to the actual data."
   ]
  },
  {
   "cell_type": "code",
   "execution_count": 32,
   "metadata": {
    "collapsed": true
   },
   "outputs": [],
   "source": [
    "newfig()\n",
    "plot_estimates(table2)\n",
    "plot(results, '--', color='gray', label='model')\n",
    "decorate(xlabel='Year', ylabel='World population (billion)')\n",
    "savefig('chap03-fig02.pdf')"
   ]
  },
  {
   "cell_type": "markdown",
   "metadata": {},
   "source": [
    "The model fits the data pretty well after 1990, but not so well before."
   ]
  },
  {
   "cell_type": "markdown",
   "metadata": {},
   "source": [
    "**Exercise:**  Try fitting the model using data from 1970 to the present, and see if that does a better job.\n",
    "\n",
    "Hint: Copy the code from above and make a few changes.\n",
    "\n",
    "Make sure your model starts in 1950, even though the estimated annual growth is based on later data.  You might have to shift the first value in the series up or down to match the data."
   ]
  },
  {
   "cell_type": "code",
   "execution_count": 33,
   "metadata": {
    "collapsed": true
   },
   "outputs": [],
   "source": [
    "# Solution goes here"
   ]
  },
  {
   "cell_type": "markdown",
   "metadata": {},
   "source": [
    "### Now with system objects"
   ]
  },
  {
   "cell_type": "markdown",
   "metadata": {},
   "source": [
    "We can rewrite the code from the previous section using system objects."
   ]
  },
  {
   "cell_type": "code",
   "execution_count": 34,
   "metadata": {
    "collapsed": true
   },
   "outputs": [],
   "source": [
    "t0 = census.index[0]\n",
    "t_end = census.index[-1]\n",
    "total_growth = census[t_end] - census[t0]\n",
    "elapsed_time = t_end - t0\n",
    "annual_growth = total_growth / elapsed_time"
   ]
  },
  {
   "cell_type": "markdown",
   "metadata": {},
   "source": [
    "Here's the system object."
   ]
  },
  {
   "cell_type": "code",
   "execution_count": 35,
   "metadata": {
    "collapsed": true
   },
   "outputs": [],
   "source": [
    "system = System(t0=t0, \n",
    "                t_end=t_end,\n",
    "                p0=census[t0],\n",
    "                annual_growth=annual_growth)"
   ]
  },
  {
   "cell_type": "markdown",
   "metadata": {},
   "source": [
    "And we can encapsulate the code tha runs the model in a function that stores the resulting Series as a new system variable."
   ]
  },
  {
   "cell_type": "code",
   "execution_count": 36,
   "metadata": {
    "collapsed": true
   },
   "outputs": [],
   "source": [
    "def run_simulation1(system):\n",
    "    \"\"\"Runs the constant growth model.\n",
    "    \n",
    "    Adds TimeSeries to `system` as `results`.\n",
    "    \n",
    "    system: system object\n",
    "    \"\"\"\n",
    "    results = TimeSeries()\n",
    "    results[system.t0] = system.p0\n",
    "    for t in linrange(system.t0, system.t_end):\n",
    "        results[t+1] = results[t] + system.annual_growth\n",
    "    system.results = results"
   ]
  },
  {
   "cell_type": "markdown",
   "metadata": {},
   "source": [
    "We can also encapsulate the code that plots the results."
   ]
  },
  {
   "cell_type": "code",
   "execution_count": 37,
   "metadata": {
    "collapsed": true
   },
   "outputs": [],
   "source": [
    "def plot_results(system, title=None):\n",
    "    \"\"\"Plot the estimates and the model.\n",
    "    \n",
    "    system: System object with `results`\n",
    "    \"\"\"\n",
    "    newfig()\n",
    "    plot_estimates(table2)\n",
    "    plot(system.results, '--', color='gray', label='model')\n",
    "    decorate(xlabel='Year', \n",
    "             ylabel='World population (billion)',\n",
    "             title=title)"
   ]
  },
  {
   "cell_type": "markdown",
   "metadata": {},
   "source": [
    "Here's how we run it."
   ]
  },
  {
   "cell_type": "code",
   "execution_count": 38,
   "metadata": {
    "collapsed": true
   },
   "outputs": [],
   "source": [
    "run_simulation1(system)\n",
    "plot_results(system, title='Constant growth model')"
   ]
  },
  {
   "cell_type": "markdown",
   "metadata": {},
   "source": [
    "`plot_results` uses `decorate`, which takes parameters that specify the title of the figure, labels for the $x$ and $y$ axis, and limits for the axes.  To read the documentation of `decorate`, run the cells below."
   ]
  },
  {
   "cell_type": "code",
   "execution_count": 39,
   "metadata": {
    "collapsed": true
   },
   "outputs": [],
   "source": [
    "help(decorate)"
   ]
  },
  {
   "cell_type": "code",
   "execution_count": 40,
   "metadata": {
    "collapsed": true,
    "scrolled": true
   },
   "outputs": [],
   "source": [
    "plt.getp(plt.gca())"
   ]
  },
  {
   "cell_type": "markdown",
   "metadata": {},
   "source": [
    "**Exercise:** The constant growth model doesn't make a lot of sense, because it seems like the number of deaths and births should depend on the size of the population.  As a small improvement, let's write a version of `run_simulation1` where the number of deaths is proportional to the size of the population, but the number of births is constant.  This model doesn't make a lot of sense, either, but it's a good exercise.\n",
    "\n",
    "Write a function called `run_simulation1b` that implements a model where the number of births is constant, but the number of deaths is proportional to the current size of the population.  Set the death rate to `0.01`, which means that 1% of the population dies each year; then choose the number of annual births to make the model fit the data as well as you can.\n",
    "\n",
    "Hint: It probably won't fit very well."
   ]
  },
  {
   "cell_type": "code",
   "execution_count": 41,
   "metadata": {
    "collapsed": true
   },
   "outputs": [],
   "source": [
    "# Solution goes here"
   ]
  },
  {
   "cell_type": "code",
   "execution_count": 42,
   "metadata": {
    "collapsed": true
   },
   "outputs": [],
   "source": [
    "# Solution goes here"
   ]
  },
  {
   "cell_type": "markdown",
   "metadata": {},
   "source": [
    "## Proportional death, proportional birth"
   ]
  },
  {
   "cell_type": "markdown",
   "metadata": {},
   "source": [
    "Now let's get to a more realistic model where the number of births and deaths is proportional to the current population."
   ]
  },
  {
   "cell_type": "code",
   "execution_count": 43,
   "metadata": {
    "collapsed": true
   },
   "outputs": [],
   "source": [
    "def run_simulation2(system):\n",
    "    \"\"\"Runs the constant growth model.\n",
    "    \n",
    "    Adds TimeSeries to `system` as `results`.\n",
    "    \n",
    "    system: system object\n",
    "    \"\"\"\n",
    "    results = TimeSeries()\n",
    "    results[system.t0] = system.p0\n",
    "    for t in linrange(system.t0, system.t_end):\n",
    "        births = system.birth_rate * results[t]\n",
    "        deaths = system.death_rate * results[t]\n",
    "        results[t+1] = results[t] + births - deaths\n",
    "    system.results = results"
   ]
  },
  {
   "cell_type": "markdown",
   "metadata": {},
   "source": [
    "I kept the death rate at 1% and chose the birth rate to fit the data."
   ]
  },
  {
   "cell_type": "code",
   "execution_count": 44,
   "metadata": {
    "collapsed": true
   },
   "outputs": [],
   "source": [
    "system.death_rate = 0.01\n",
    "system.birth_rate = 0.027"
   ]
  },
  {
   "cell_type": "markdown",
   "metadata": {},
   "source": [
    "Here's what it looks like."
   ]
  },
  {
   "cell_type": "code",
   "execution_count": 45,
   "metadata": {
    "collapsed": true
   },
   "outputs": [],
   "source": [
    "run_simulation2(system)\n",
    "plot_results(system, title='Proportional model')\n",
    "savefig('chap03-fig03.pdf')"
   ]
  },
  {
   "cell_type": "markdown",
   "metadata": {},
   "source": [
    "The model fits the data pretty well for the first 20 years, but not so well after that."
   ]
  },
  {
   "cell_type": "markdown",
   "metadata": {},
   "source": [
    "**Exercise:** In this implementation, we compute the number of deaths and births separately, but since they are both proportional to the current population, we can combine them.\n",
    "\n",
    "Write a function called `run_simulation2b` that implements a model with a single parameter, `alpha`, that represents the net growth rate, which is the difference between the birth and death rates.  For example, if `alpha=0.01`, the population should grow by 1% per year.\n",
    "\n",
    "Choose the value of `alpha` that fits the data best."
   ]
  },
  {
   "cell_type": "code",
   "execution_count": 46,
   "metadata": {
    "collapsed": true
   },
   "outputs": [],
   "source": [
    "# Solution goes here"
   ]
  },
  {
   "cell_type": "code",
   "execution_count": 47,
   "metadata": {
    "collapsed": true
   },
   "outputs": [],
   "source": [
    "# Solution goes here"
   ]
  },
  {
   "cell_type": "markdown",
   "metadata": {},
   "source": [
    "### Factoring out the update function"
   ]
  },
  {
   "cell_type": "markdown",
   "metadata": {},
   "source": [
    "The functions that run the model all look the same except the body of the loop.  So we can factor that part out into a function."
   ]
  },
  {
   "cell_type": "code",
   "execution_count": 48,
   "metadata": {
    "collapsed": true
   },
   "outputs": [],
   "source": [
    "def update_func1(pop, t, system):\n",
    "    \"\"\"Compute the population next year.\n",
    "    \n",
    "    pop: current population\n",
    "    t: current year\n",
    "    system: system object containing parameters of the model\n",
    "    \n",
    "    returns: population next year\n",
    "    \"\"\"\n",
    "    births = system.birth_rate * pop\n",
    "    deaths = system.death_rate * pop\n",
    "    return pop + births - deaths"
   ]
  },
  {
   "cell_type": "markdown",
   "metadata": {},
   "source": [
    "Now the name `update_func1` refers to a function object."
   ]
  },
  {
   "cell_type": "code",
   "execution_count": 49,
   "metadata": {
    "collapsed": true
   },
   "outputs": [],
   "source": [
    "update_func1"
   ]
  },
  {
   "cell_type": "markdown",
   "metadata": {},
   "source": [
    "Which we can confirm by checking its type."
   ]
  },
  {
   "cell_type": "code",
   "execution_count": 50,
   "metadata": {
    "collapsed": true
   },
   "outputs": [],
   "source": [
    "type(update_func1)"
   ]
  },
  {
   "cell_type": "markdown",
   "metadata": {},
   "source": [
    "`run_simulation` takes the update function as a parameter and calls it just like any other function."
   ]
  },
  {
   "cell_type": "code",
   "execution_count": 2,
   "metadata": {
    "collapsed": true
   },
   "outputs": [],
   "source": [
    "def run_simulation(system, update_func):\n",
    "    \"\"\"Simulate the system using any update function.\n",
    "    \n",
    "    Adds TimeSeries to `system` as `results`.\n",
    "\n",
    "    system: System object\n",
    "    update_func: function that computes the population next year\n",
    "    \"\"\"\n",
    "    results = TimeSeries()\n",
    "    results[system.t0] = system.p0\n",
    "    for t in linrange(system.t0, system.t_end):\n",
    "        results[t+1] = update_func(results[t], t, system)\n",
    "    system.results = results"
   ]
  },
  {
   "cell_type": "markdown",
   "metadata": {},
   "source": [
    "Here's how we use it."
   ]
  },
  {
   "cell_type": "code",
   "execution_count": 52,
   "metadata": {
    "collapsed": true
   },
   "outputs": [],
   "source": [
    "run_simulation(system, update_func1)"
   ]
  },
  {
   "cell_type": "markdown",
   "metadata": {},
   "source": [
    "Remember not to put parentheses after `update_func1`.  What happens if you try?"
   ]
  },
  {
   "cell_type": "code",
   "execution_count": 53,
   "metadata": {
    "collapsed": true
   },
   "outputs": [],
   "source": [
    "plot_results(system, title='Proportional model, factored')"
   ]
  },
  {
   "cell_type": "markdown",
   "metadata": {},
   "source": [
    "**Exercise:** When you run `run_simulation`, it runs `update_func1` once for each year between `t0` and `t_end`.  To see that for yourself, add a print statement at the beginning of `update_func1` that prints the values of `t` and `pop`, then run `run_simulation` again."
   ]
  },
  {
   "cell_type": "markdown",
   "metadata": {},
   "source": [
    "### Combining birth and death"
   ]
  },
  {
   "cell_type": "markdown",
   "metadata": {},
   "source": [
    "Since births and deaths get added up, we don't have to compute them separately.  We can combine the birth and death rates into a single net growth rate."
   ]
  },
  {
   "cell_type": "code",
   "execution_count": 54,
   "metadata": {
    "collapsed": true
   },
   "outputs": [],
   "source": [
    "def update_func1b(pop, t, system):\n",
    "    \"\"\"Compute the population next year.\n",
    "    \n",
    "    pop: current population\n",
    "    t: current year\n",
    "    system: system object containing parameters of the model\n",
    "    \n",
    "    returns: population next year\n",
    "    \"\"\"\n",
    "    net_growth = system.alpha  * pop\n",
    "    return pop + net_growth"
   ]
  },
  {
   "cell_type": "markdown",
   "metadata": {},
   "source": [
    "Here's how it works:"
   ]
  },
  {
   "cell_type": "code",
   "execution_count": 55,
   "metadata": {
    "collapsed": true
   },
   "outputs": [],
   "source": [
    "system.alpha = system.birth_rate - system.death_rate\n",
    "\n",
    "run_simulation(system, update_func1b)\n",
    "plot_results(system, title='Proportional model, combined birth and death')"
   ]
  },
  {
   "cell_type": "markdown",
   "metadata": {},
   "source": [
    "**Exercise:** Maybe the reason the proportional model doesn't work very well is that the growth rate, `alpha`, might be changing over time.  So let's try a model with different growth rates before and after 1980 (as an arbitrary choice).\n",
    "\n",
    "Write a function called `update_func1c` that takes `pop`, `t`, and `system` as parameters.  The system object, `system`, should contains two parameters: the growth rate before 1980, `alpha1`, and the growth rate after 1980, `alpha2`.  It should compute and return the simulated population one year later.\n",
    "\n",
    "Note: Don't forget the `return` statement."
   ]
  },
  {
   "cell_type": "code",
   "execution_count": 56,
   "metadata": {
    "collapsed": true,
    "scrolled": false
   },
   "outputs": [],
   "source": [
    "# Solution goes here"
   ]
  },
  {
   "cell_type": "code",
   "execution_count": 57,
   "metadata": {
    "collapsed": true
   },
   "outputs": [],
   "source": [
    "# Solution goes here"
   ]
  },
  {
   "cell_type": "markdown",
   "metadata": {},
   "source": [
    "### Quadratic growth"
   ]
  },
  {
   "cell_type": "markdown",
   "metadata": {},
   "source": [
    "Here's the implementation of the quadratic growth model."
   ]
  },
  {
   "cell_type": "code",
   "execution_count": 58,
   "metadata": {
    "collapsed": true
   },
   "outputs": [],
   "source": [
    "def update_func2(pop, t, system):\n",
    "    \"\"\"Compute the population next year.\n",
    "    \n",
    "    pop: current population\n",
    "    t: current year\n",
    "    system: system object containing parameters of the model\n",
    "    \n",
    "    returns: population next year\n",
    "    \"\"\"\n",
    "    net_growth = system.alpha * pop + system.beta * pop**2\n",
    "    return pop + net_growth"
   ]
  },
  {
   "cell_type": "markdown",
   "metadata": {},
   "source": [
    "And here are the results.  Can you find values for the parameters that make the model fit better?"
   ]
  },
  {
   "cell_type": "code",
   "execution_count": 59,
   "metadata": {
    "collapsed": true
   },
   "outputs": [],
   "source": [
    "system.alpha = 0.025\n",
    "system.beta = -0.0018\n",
    "\n",
    "run_simulation(system, update_func2)\n",
    "plot_results(system, title='Quadratic model')\n",
    "savefig('chap03-fig04.pdf')"
   ]
  },
  {
   "cell_type": "markdown",
   "metadata": {},
   "source": [
    "To understand the quadratic model better, let's plot net growth as a function of population."
   ]
  },
  {
   "cell_type": "code",
   "execution_count": 60,
   "metadata": {
    "collapsed": true
   },
   "outputs": [],
   "source": [
    "pop_array = linspace(0.001, 15, 100)\n",
    "net_growth_array = system.alpha * pop_array + system.beta * pop_array**2"
   ]
  },
  {
   "cell_type": "markdown",
   "metadata": {},
   "source": [
    "Here's what it looks like.  Remember that the x axis is population now, not time.\n",
    "\n",
    "The function `sns.set` sets the style for the plots.  I added a grid to this one to make it easier to read."
   ]
  },
  {
   "cell_type": "code",
   "execution_count": 61,
   "metadata": {
    "collapsed": true
   },
   "outputs": [],
   "source": [
    "newfig()\n",
    "sns.set(style='whitegrid', font_scale=1.5)\n",
    "plot(pop_array, net_growth_array, '-')\n",
    "decorate(xlabel='Population (billions)',\n",
    "         ylabel='Net growth (billions)',\n",
    "         legend=False)\n",
    "savefig('chap03-fig05.pdf')"
   ]
  },
  {
   "cell_type": "markdown",
   "metadata": {},
   "source": [
    "Using `sns.set` to reset the plot style."
   ]
  },
  {
   "cell_type": "code",
   "execution_count": 62,
   "metadata": {
    "collapsed": true
   },
   "outputs": [],
   "source": [
    "sns.set(style='white', font_scale=1.5)"
   ]
  },
  {
   "cell_type": "markdown",
   "metadata": {},
   "source": [
    "In the book we found that the net growth is 0 when the population is $-\\alpha/\\beta$:"
   ]
  },
  {
   "cell_type": "code",
   "execution_count": 63,
   "metadata": {
    "collapsed": true
   },
   "outputs": [],
   "source": [
    "-system.alpha / system.beta"
   ]
  },
  {
   "cell_type": "markdown",
   "metadata": {},
   "source": [
    "This is the equilibrium the population tends toward."
   ]
  },
  {
   "cell_type": "markdown",
   "metadata": {},
   "source": [
    "**Exercise:** In the book, I presented a different way to parameterize the quadratic model:\n",
    "\n",
    "$ \\Delta p = r p (1 - p / K) $\n",
    "\n",
    "where $r=\\alpha$ and $K=-\\alpha/\\beta$.  Write a version of `update_func2` that implements this version of the model.  Test it by computing system variables `r` and `K` equivalent to `alpha` and `beta`, and confirm that you get the same results. "
   ]
  },
  {
   "cell_type": "code",
   "execution_count": 64,
   "metadata": {
    "collapsed": true
   },
   "outputs": [],
   "source": [
    "# Solution goes here"
   ]
  },
  {
   "cell_type": "code",
   "execution_count": 65,
   "metadata": {
    "collapsed": true
   },
   "outputs": [],
   "source": [
    "# Solution goes here"
   ]
  },
  {
   "cell_type": "code",
   "execution_count": 66,
   "metadata": {
    "collapsed": true
   },
   "outputs": [],
   "source": [
    "# Solution goes here"
   ]
  },
  {
   "cell_type": "markdown",
   "metadata": {},
   "source": [
    "**Exercise:** On the Wikipedia page about world population estimates, the first table contains estimates for prehistoric populations.  The following cells process this table and plot some of the results."
   ]
  },
  {
   "cell_type": "markdown",
   "metadata": {},
   "source": [
    "Select `table1`, which is the second table on the page."
   ]
  },
  {
   "cell_type": "code",
   "execution_count": 67,
   "metadata": {
    "collapsed": true
   },
   "outputs": [],
   "source": [
    "table1 = tables[1]\n",
    "table1.head()"
   ]
  },
  {
   "cell_type": "markdown",
   "metadata": {},
   "source": [
    "Not all agencies and researchers provided estimates for the same dates.  Again `NaN` is the special value that indicates missing data."
   ]
  },
  {
   "cell_type": "code",
   "execution_count": 68,
   "metadata": {
    "collapsed": true
   },
   "outputs": [],
   "source": [
    "table1.tail()"
   ]
  },
  {
   "cell_type": "markdown",
   "metadata": {},
   "source": [
    "Some of the estimates are in a form we can't read as numbers.  We could clean them up by hand, but for simplicity I'll replace any value that has an `M` in it with `NaN`."
   ]
  },
  {
   "cell_type": "code",
   "execution_count": 69,
   "metadata": {
    "collapsed": true
   },
   "outputs": [],
   "source": [
    "table1.replace('M', np.nan, regex=True, inplace=True)"
   ]
  },
  {
   "cell_type": "markdown",
   "metadata": {},
   "source": [
    "Again, we'll replace the long column names with more convenient abbreviations."
   ]
  },
  {
   "cell_type": "code",
   "execution_count": 70,
   "metadata": {
    "collapsed": true
   },
   "outputs": [],
   "source": [
    "table1.columns = ['prb', 'un', 'maddison', 'hyde', 'tanton', \n",
    "                  'biraben', 'mj', 'thomlinson', 'durand', 'clark']"
   ]
  },
  {
   "cell_type": "markdown",
   "metadata": {},
   "source": [
    "This function plots selected estimates."
   ]
  },
  {
   "cell_type": "code",
   "execution_count": 71,
   "metadata": {
    "collapsed": true
   },
   "outputs": [],
   "source": [
    "def plot_prehistory(table):\n",
    "    \"\"\"Plots population estimates.\n",
    "    \n",
    "    table: DataFrame\n",
    "    \"\"\"\n",
    "    plot(table.prb, 'ro', label='PRB')\n",
    "    plot(table.un, 'co', label='UN')\n",
    "    plot(table.hyde, 'yo', label='HYDE')\n",
    "    plot(table.tanton, 'go', label='Tanton')\n",
    "    plot(table.biraben, 'bo', label='Biraben')\n",
    "    plot(table.mj, 'mo', label='McEvedy & Jones')"
   ]
  },
  {
   "cell_type": "markdown",
   "metadata": {},
   "source": [
    "Here are the results.  Notice that we are working in millions now, not billions."
   ]
  },
  {
   "cell_type": "code",
   "execution_count": 72,
   "metadata": {
    "collapsed": true,
    "scrolled": false
   },
   "outputs": [],
   "source": [
    "newfig()\n",
    "plot_prehistory(table1)\n",
    "decorate(xlabel='Year', \n",
    "         ylabel='World population (millions)',\n",
    "         title='Prehistorical population estimates')"
   ]
  },
  {
   "cell_type": "markdown",
   "metadata": {},
   "source": [
    "We can use `xlim` to zoom in on everything after Year 0."
   ]
  },
  {
   "cell_type": "code",
   "execution_count": 73,
   "metadata": {
    "collapsed": true
   },
   "outputs": [],
   "source": [
    "newfig()\n",
    "plot_prehistory(table1)\n",
    "decorate(xlim=[0, 2000], xlabel='Year', \n",
    "         ylabel='World population (millions)',\n",
    "         title='Prehistorical population estimates')"
   ]
  },
  {
   "cell_type": "markdown",
   "metadata": {},
   "source": [
    "See if you can find a model that fits these data well from Year -1000 to 1940, or from Year 0 to 1940.\n",
    "\n",
    "How well does your best model predict actual population growth from 1950 to the present?"
   ]
  },
  {
   "cell_type": "code",
   "execution_count": 74,
   "metadata": {
    "collapsed": true
   },
   "outputs": [],
   "source": [
    "# Solution goes here"
   ]
  },
  {
   "cell_type": "code",
   "execution_count": 75,
   "metadata": {
    "collapsed": true
   },
   "outputs": [],
   "source": [
    "# Solution goes here"
   ]
  },
  {
   "cell_type": "code",
   "execution_count": 3,
   "metadata": {},
   "outputs": [
    {
     "data": {
      "text/plain": [
       "function"
      ]
     },
     "execution_count": 3,
     "metadata": {},
     "output_type": "execute_result"
    }
   ],
   "source": [
    "# Solution goes here\n",
    "\n",
    "type(run_simulation)"
   ]
  },
  {
   "cell_type": "markdown",
   "metadata": {
    "collapsed": true
   },
   "source": [
    "### Disfunctions"
   ]
  },
  {
   "cell_type": "code",
   "execution_count": 78,
   "metadata": {
    "collapsed": true
   },
   "outputs": [],
   "source": [
    "def carrying_capacity(system):\n",
    "    K = -system.alpha / system.beta\n",
    "    return K\n",
    "    \n",
    "sys1 = System(alpha=0.025, beta=-0.0018)\n",
    "pop = carrying_capacity(sys1)\n",
    "print(pop)"
   ]
  },
  {
   "cell_type": "code",
   "execution_count": 80,
   "metadata": {
    "collapsed": true
   },
   "outputs": [],
   "source": [
    "def carrying_capacity():\n",
    "    K = -system.alpha / system.beta\n",
    "    return K\n",
    "    \n",
    "system = System(alpha=0.025, beta=-0.0018)\n",
    "pop = carrying_capacity()\n",
    "print(pop)"
   ]
  },
  {
   "cell_type": "code",
   "execution_count": 81,
   "metadata": {
    "collapsed": true
   },
   "outputs": [],
   "source": [
    "def carrying_capacity(system):\n",
    "    system = System(alpha=0.025, beta=-0.0018)\n",
    "    K = -system.alpha / system.beta\n",
    "    return K\n",
    "    \n",
    "sys1 = System(alpha=0.025, beta=-0.0018)\n",
    "pop = carrying_capacity(sys1)\n",
    "print(pop)"
   ]
  },
  {
   "cell_type": "code",
   "execution_count": 82,
   "metadata": {
    "collapsed": true
   },
   "outputs": [],
   "source": [
    "def carrying_capacity(system):\n",
    "    K = -system.alpha / system.beta\n",
    "    \n",
    "sys1 = System(alpha=0.025, beta=-0.0018)\n",
    "pop = carrying_capacity(sys1)\n",
    "print(pop)"
   ]
  },
  {
   "cell_type": "code",
   "execution_count": 83,
   "metadata": {
    "collapsed": true
   },
   "outputs": [],
   "source": [
    "def carrying_capacity(system):\n",
    "    K = -system.alpha / system.beta\n",
    "    return K\n",
    "    \n",
    "sys1 = System(alpha=0.025, beta=-0.0018)\n",
    "carrying_capacity(sys1)\n",
    "print(K)"
   ]
  },
  {
   "cell_type": "code",
   "execution_count": 15,
   "metadata": {},
   "outputs": [
    {
     "name": "stdout",
     "output_type": "stream",
     "text": [
      "          Domain Code        Domain  Area Code                      Area  \\\n",
      "Year Code                                                                  \n",
      "1961               QA  Live Animals        231  United States of America   \n",
      "1962               QA  Live Animals        231  United States of America   \n",
      "1963               QA  Live Animals        231  United States of America   \n",
      "1964               QA  Live Animals        231  United States of America   \n",
      "1965               QA  Live Animals        231  United States of America   \n",
      "1966               QA  Live Animals        231  United States of America   \n",
      "1967               QA  Live Animals        231  United States of America   \n",
      "1968               QA  Live Animals        231  United States of America   \n",
      "1969               QA  Live Animals        231  United States of America   \n",
      "1970               QA  Live Animals        231  United States of America   \n",
      "1971               QA  Live Animals        231  United States of America   \n",
      "1972               QA  Live Animals        231  United States of America   \n",
      "1973               QA  Live Animals        231  United States of America   \n",
      "1974               QA  Live Animals        231  United States of America   \n",
      "1975               QA  Live Animals        231  United States of America   \n",
      "1976               QA  Live Animals        231  United States of America   \n",
      "1977               QA  Live Animals        231  United States of America   \n",
      "1978               QA  Live Animals        231  United States of America   \n",
      "1979               QA  Live Animals        231  United States of America   \n",
      "1980               QA  Live Animals        231  United States of America   \n",
      "1981               QA  Live Animals        231  United States of America   \n",
      "1982               QA  Live Animals        231  United States of America   \n",
      "1983               QA  Live Animals        231  United States of America   \n",
      "1984               QA  Live Animals        231  United States of America   \n",
      "1985               QA  Live Animals        231  United States of America   \n",
      "1986               QA  Live Animals        231  United States of America   \n",
      "1987               QA  Live Animals        231  United States of America   \n",
      "1988               QA  Live Animals        231  United States of America   \n",
      "1989               QA  Live Animals        231  United States of America   \n",
      "1990               QA  Live Animals        231  United States of America   \n",
      "1991               QA  Live Animals        231  United States of America   \n",
      "1992               QA  Live Animals        231  United States of America   \n",
      "1993               QA  Live Animals        231  United States of America   \n",
      "1994               QA  Live Animals        231  United States of America   \n",
      "1995               QA  Live Animals        231  United States of America   \n",
      "1996               QA  Live Animals        231  United States of America   \n",
      "1997               QA  Live Animals        231  United States of America   \n",
      "1998               QA  Live Animals        231  United States of America   \n",
      "1999               QA  Live Animals        231  United States of America   \n",
      "2000               QA  Live Animals        231  United States of America   \n",
      "2001               QA  Live Animals        231  United States of America   \n",
      "2002               QA  Live Animals        231  United States of America   \n",
      "2003               QA  Live Animals        231  United States of America   \n",
      "2004               QA  Live Animals        231  United States of America   \n",
      "2005               QA  Live Animals        231  United States of America   \n",
      "2006               QA  Live Animals        231  United States of America   \n",
      "2007               QA  Live Animals        231  United States of America   \n",
      "2008               QA  Live Animals        231  United States of America   \n",
      "2009               QA  Live Animals        231  United States of America   \n",
      "2010               QA  Live Animals        231  United States of America   \n",
      "2011               QA  Live Animals        231  United States of America   \n",
      "2012               QA  Live Animals        231  United States of America   \n",
      "2013               QA  Live Animals        231  United States of America   \n",
      "2014               QA  Live Animals        231  United States of America   \n",
      "\n",
      "           Element Code Element  Item Code      Item  Year Unit    Value  \\\n",
      "Year Code                                                                  \n",
      "1961               5114  Stocks       1181  Beehives  1961   No  5514000   \n",
      "1962               5114  Stocks       1181  Beehives  1962   No  5506000   \n",
      "1963               5114  Stocks       1181  Beehives  1963   No  5528000   \n",
      "1964               5114  Stocks       1181  Beehives  1964   No  5601000   \n",
      "1965               5114  Stocks       1181  Beehives  1965   No  4718000   \n",
      "1966               5114  Stocks       1181  Beehives  1966   No  4646000   \n",
      "1967               5114  Stocks       1181  Beehives  1967   No  4635000   \n",
      "1968               5114  Stocks       1181  Beehives  1968   No  4539000   \n",
      "1969               5114  Stocks       1181  Beehives  1969   No  4433000   \n",
      "1970               5114  Stocks       1181  Beehives  1970   No  4634000   \n",
      "1971               5114  Stocks       1181  Beehives  1971   No  4107000   \n",
      "1972               5114  Stocks       1181  Beehives  1972   No  4085000   \n",
      "1973               5114  Stocks       1181  Beehives  1973   No  4124000   \n",
      "1974               5114  Stocks       1181  Beehives  1974   No  4210000   \n",
      "1975               5114  Stocks       1181  Beehives  1975   No  4206000   \n",
      "1976               5114  Stocks       1181  Beehives  1976   No  4269000   \n",
      "1977               5114  Stocks       1181  Beehives  1977   No  4323000   \n",
      "1978               5114  Stocks       1181  Beehives  1978   No  4090000   \n",
      "1979               5114  Stocks       1181  Beehives  1979   No  4163000   \n",
      "1980               5114  Stocks       1181  Beehives  1980   No  4141000   \n",
      "1981               5114  Stocks       1181  Beehives  1981   No  4213000   \n",
      "1982               5114  Stocks       1181  Beehives  1982   No  4250000   \n",
      "1983               5114  Stocks       1181  Beehives  1983   No  4275000   \n",
      "1984               5114  Stocks       1181  Beehives  1984   No  4300000   \n",
      "1985               5114  Stocks       1181  Beehives  1985   No  4325000   \n",
      "1986               5114  Stocks       1181  Beehives  1986   No  3205000   \n",
      "1987               5114  Stocks       1181  Beehives  1987   No  3190000   \n",
      "1988               5114  Stocks       1181  Beehives  1988   No  3219000   \n",
      "1989               5114  Stocks       1181  Beehives  1989   No  3443000   \n",
      "1990               5114  Stocks       1181  Beehives  1990   No  3210000   \n",
      "1991               5114  Stocks       1181  Beehives  1991   No  3181000   \n",
      "1992               5114  Stocks       1181  Beehives  1992   No  3030000   \n",
      "1993               5114  Stocks       1181  Beehives  1993   No  2880000   \n",
      "1994               5114  Stocks       1181  Beehives  1994   No  2770000   \n",
      "1995               5114  Stocks       1181  Beehives  1995   No  2648000   \n",
      "1996               5114  Stocks       1181  Beehives  1996   No  2566000   \n",
      "1997               5114  Stocks       1181  Beehives  1997   No  2631000   \n",
      "1998               5114  Stocks       1181  Beehives  1998   No  2633000   \n",
      "1999               5114  Stocks       1181  Beehives  1999   No  2688000   \n",
      "2000               5114  Stocks       1181  Beehives  2000   No  2620000   \n",
      "2001               5114  Stocks       1181  Beehives  2001   No  2513000   \n",
      "2002               5114  Stocks       1181  Beehives  2002   No  2574000   \n",
      "2003               5114  Stocks       1181  Beehives  2003   No  2590000   \n",
      "2004               5114  Stocks       1181  Beehives  2004   No  2556000   \n",
      "2005               5114  Stocks       1181  Beehives  2005   No  2413000   \n",
      "2006               5114  Stocks       1181  Beehives  2006   No  2392000   \n",
      "2007               5114  Stocks       1181  Beehives  2007   No  2301000   \n",
      "2008               5114  Stocks       1181  Beehives  2008   No  2342000   \n",
      "2009               5114  Stocks       1181  Beehives  2009   No  2498000   \n",
      "2010               5114  Stocks       1181  Beehives  2010   No  2692000   \n",
      "2011               5114  Stocks       1181  Beehives  2011   No  2491000   \n",
      "2012               5114  Stocks       1181  Beehives  2012   No  2539000   \n",
      "2013               5114  Stocks       1181  Beehives  2013   No  2640000   \n",
      "2014               5114  Stocks       1181  Beehives  2014   No  2740000   \n",
      "\n",
      "           Flag Flag Description  \n",
      "Year Code                         \n",
      "1961        NaN    Official data  \n",
      "1962        NaN    Official data  \n",
      "1963        NaN    Official data  \n",
      "1964        NaN    Official data  \n",
      "1965        NaN    Official data  \n",
      "1966        NaN    Official data  \n",
      "1967        NaN    Official data  \n",
      "1968        NaN    Official data  \n",
      "1969        NaN    Official data  \n",
      "1970        NaN    Official data  \n",
      "1971        NaN    Official data  \n",
      "1972        NaN    Official data  \n",
      "1973        NaN    Official data  \n",
      "1974        NaN    Official data  \n",
      "1975        NaN    Official data  \n",
      "1976        NaN    Official data  \n",
      "1977        NaN    Official data  \n",
      "1978        NaN    Official data  \n",
      "1979        NaN    Official data  \n",
      "1980        NaN    Official data  \n",
      "1981        NaN    Official data  \n",
      "1982        NaN    Official data  \n",
      "1983        NaN    Official data  \n",
      "1984        NaN    Official data  \n",
      "1985        NaN    Official data  \n",
      "1986        NaN    Official data  \n",
      "1987        NaN    Official data  \n",
      "1988        NaN    Official data  \n",
      "1989        NaN    Official data  \n",
      "1990        NaN    Official data  \n",
      "1991        NaN    Official data  \n",
      "1992        NaN    Official data  \n",
      "1993        NaN    Official data  \n",
      "1994        NaN    Official data  \n",
      "1995        NaN    Official data  \n",
      "1996        NaN    Official data  \n",
      "1997        NaN    Official data  \n",
      "1998        NaN    Official data  \n",
      "1999        NaN    Official data  \n",
      "2000        NaN    Official data  \n",
      "2001        NaN    Official data  \n",
      "2002        NaN    Official data  \n",
      "2003        NaN    Official data  \n",
      "2004        NaN    Official data  \n",
      "2005        NaN    Official data  \n",
      "2006        NaN    Official data  \n",
      "2007        NaN    Official data  \n",
      "2008        NaN    Official data  \n",
      "2009        NaN    Official data  \n",
      "2010        NaN    Official data  \n",
      "2011        NaN    Official data  \n",
      "2012        NaN    Official data  \n",
      "2013        NaN    Official data  \n",
      "2014        NaN    Official data  \n"
     ]
    }
   ],
   "source": [
    "\n",
    "from pandas import read_csv\n",
    "\n",
    "\n",
    "filename = 'bees.csv'\n",
    "tables = read_csv(filename, header=0, index_col=8)\n",
    "\n",
    "print(tables)\n",
    "\n",
    "\n",
    "tables.columns = ['d', 'ac', 'a', 'ec', 'e', 'ic', 'i', 'yc', 'year', 'u', 'value', 'f', 'fd']\n",
    "tables\n",
    "\n",
    "value = tables.value\n",
    "value\n",
    "\n",
    "\n",
    "value.index\n",
    "\n",
    "\n",
    "def plot_estimates(tables):\n",
    "    value = tables.value / 1e6\n",
    "    plot(values, '--', color='green', label='FAO Stats')\n",
    "    \n",
    "    decorate(xlabel='Year',\n",
    "             ylabel='Number of Registered Hives (in Millions)')\n",
    "    \n",
    "    newfig()\n",
    "plot_estimates(tables)\n"
   ]
  },
  {
   "cell_type": "code",
   "execution_count": 16,
   "metadata": {},
   "outputs": [
    {
     "data": {
      "text/html": [
       "<div>\n",
       "<style>\n",
       "    .dataframe thead tr:only-child th {\n",
       "        text-align: right;\n",
       "    }\n",
       "\n",
       "    .dataframe thead th {\n",
       "        text-align: left;\n",
       "    }\n",
       "\n",
       "    .dataframe tbody tr th {\n",
       "        vertical-align: top;\n",
       "    }\n",
       "</style>\n",
       "<table border=\"1\" class=\"dataframe\">\n",
       "  <thead>\n",
       "    <tr style=\"text-align: right;\">\n",
       "      <th></th>\n",
       "      <th>d</th>\n",
       "      <th>ac</th>\n",
       "      <th>a</th>\n",
       "      <th>ec</th>\n",
       "      <th>e</th>\n",
       "      <th>ic</th>\n",
       "      <th>i</th>\n",
       "      <th>yc</th>\n",
       "      <th>year</th>\n",
       "      <th>u</th>\n",
       "      <th>value</th>\n",
       "      <th>f</th>\n",
       "      <th>fd</th>\n",
       "    </tr>\n",
       "    <tr>\n",
       "      <th>Year Code</th>\n",
       "      <th></th>\n",
       "      <th></th>\n",
       "      <th></th>\n",
       "      <th></th>\n",
       "      <th></th>\n",
       "      <th></th>\n",
       "      <th></th>\n",
       "      <th></th>\n",
       "      <th></th>\n",
       "      <th></th>\n",
       "      <th></th>\n",
       "      <th></th>\n",
       "      <th></th>\n",
       "    </tr>\n",
       "  </thead>\n",
       "  <tbody>\n",
       "    <tr>\n",
       "      <th>1961</th>\n",
       "      <td>QA</td>\n",
       "      <td>Live Animals</td>\n",
       "      <td>231</td>\n",
       "      <td>United States of America</td>\n",
       "      <td>5114</td>\n",
       "      <td>Stocks</td>\n",
       "      <td>1181</td>\n",
       "      <td>Beehives</td>\n",
       "      <td>1961</td>\n",
       "      <td>No</td>\n",
       "      <td>5514000</td>\n",
       "      <td>NaN</td>\n",
       "      <td>Official data</td>\n",
       "    </tr>\n",
       "    <tr>\n",
       "      <th>1962</th>\n",
       "      <td>QA</td>\n",
       "      <td>Live Animals</td>\n",
       "      <td>231</td>\n",
       "      <td>United States of America</td>\n",
       "      <td>5114</td>\n",
       "      <td>Stocks</td>\n",
       "      <td>1181</td>\n",
       "      <td>Beehives</td>\n",
       "      <td>1962</td>\n",
       "      <td>No</td>\n",
       "      <td>5506000</td>\n",
       "      <td>NaN</td>\n",
       "      <td>Official data</td>\n",
       "    </tr>\n",
       "    <tr>\n",
       "      <th>1963</th>\n",
       "      <td>QA</td>\n",
       "      <td>Live Animals</td>\n",
       "      <td>231</td>\n",
       "      <td>United States of America</td>\n",
       "      <td>5114</td>\n",
       "      <td>Stocks</td>\n",
       "      <td>1181</td>\n",
       "      <td>Beehives</td>\n",
       "      <td>1963</td>\n",
       "      <td>No</td>\n",
       "      <td>5528000</td>\n",
       "      <td>NaN</td>\n",
       "      <td>Official data</td>\n",
       "    </tr>\n",
       "    <tr>\n",
       "      <th>1964</th>\n",
       "      <td>QA</td>\n",
       "      <td>Live Animals</td>\n",
       "      <td>231</td>\n",
       "      <td>United States of America</td>\n",
       "      <td>5114</td>\n",
       "      <td>Stocks</td>\n",
       "      <td>1181</td>\n",
       "      <td>Beehives</td>\n",
       "      <td>1964</td>\n",
       "      <td>No</td>\n",
       "      <td>5601000</td>\n",
       "      <td>NaN</td>\n",
       "      <td>Official data</td>\n",
       "    </tr>\n",
       "    <tr>\n",
       "      <th>1965</th>\n",
       "      <td>QA</td>\n",
       "      <td>Live Animals</td>\n",
       "      <td>231</td>\n",
       "      <td>United States of America</td>\n",
       "      <td>5114</td>\n",
       "      <td>Stocks</td>\n",
       "      <td>1181</td>\n",
       "      <td>Beehives</td>\n",
       "      <td>1965</td>\n",
       "      <td>No</td>\n",
       "      <td>4718000</td>\n",
       "      <td>NaN</td>\n",
       "      <td>Official data</td>\n",
       "    </tr>\n",
       "    <tr>\n",
       "      <th>1966</th>\n",
       "      <td>QA</td>\n",
       "      <td>Live Animals</td>\n",
       "      <td>231</td>\n",
       "      <td>United States of America</td>\n",
       "      <td>5114</td>\n",
       "      <td>Stocks</td>\n",
       "      <td>1181</td>\n",
       "      <td>Beehives</td>\n",
       "      <td>1966</td>\n",
       "      <td>No</td>\n",
       "      <td>4646000</td>\n",
       "      <td>NaN</td>\n",
       "      <td>Official data</td>\n",
       "    </tr>\n",
       "    <tr>\n",
       "      <th>1967</th>\n",
       "      <td>QA</td>\n",
       "      <td>Live Animals</td>\n",
       "      <td>231</td>\n",
       "      <td>United States of America</td>\n",
       "      <td>5114</td>\n",
       "      <td>Stocks</td>\n",
       "      <td>1181</td>\n",
       "      <td>Beehives</td>\n",
       "      <td>1967</td>\n",
       "      <td>No</td>\n",
       "      <td>4635000</td>\n",
       "      <td>NaN</td>\n",
       "      <td>Official data</td>\n",
       "    </tr>\n",
       "    <tr>\n",
       "      <th>1968</th>\n",
       "      <td>QA</td>\n",
       "      <td>Live Animals</td>\n",
       "      <td>231</td>\n",
       "      <td>United States of America</td>\n",
       "      <td>5114</td>\n",
       "      <td>Stocks</td>\n",
       "      <td>1181</td>\n",
       "      <td>Beehives</td>\n",
       "      <td>1968</td>\n",
       "      <td>No</td>\n",
       "      <td>4539000</td>\n",
       "      <td>NaN</td>\n",
       "      <td>Official data</td>\n",
       "    </tr>\n",
       "    <tr>\n",
       "      <th>1969</th>\n",
       "      <td>QA</td>\n",
       "      <td>Live Animals</td>\n",
       "      <td>231</td>\n",
       "      <td>United States of America</td>\n",
       "      <td>5114</td>\n",
       "      <td>Stocks</td>\n",
       "      <td>1181</td>\n",
       "      <td>Beehives</td>\n",
       "      <td>1969</td>\n",
       "      <td>No</td>\n",
       "      <td>4433000</td>\n",
       "      <td>NaN</td>\n",
       "      <td>Official data</td>\n",
       "    </tr>\n",
       "    <tr>\n",
       "      <th>1970</th>\n",
       "      <td>QA</td>\n",
       "      <td>Live Animals</td>\n",
       "      <td>231</td>\n",
       "      <td>United States of America</td>\n",
       "      <td>5114</td>\n",
       "      <td>Stocks</td>\n",
       "      <td>1181</td>\n",
       "      <td>Beehives</td>\n",
       "      <td>1970</td>\n",
       "      <td>No</td>\n",
       "      <td>4634000</td>\n",
       "      <td>NaN</td>\n",
       "      <td>Official data</td>\n",
       "    </tr>\n",
       "    <tr>\n",
       "      <th>1971</th>\n",
       "      <td>QA</td>\n",
       "      <td>Live Animals</td>\n",
       "      <td>231</td>\n",
       "      <td>United States of America</td>\n",
       "      <td>5114</td>\n",
       "      <td>Stocks</td>\n",
       "      <td>1181</td>\n",
       "      <td>Beehives</td>\n",
       "      <td>1971</td>\n",
       "      <td>No</td>\n",
       "      <td>4107000</td>\n",
       "      <td>NaN</td>\n",
       "      <td>Official data</td>\n",
       "    </tr>\n",
       "    <tr>\n",
       "      <th>1972</th>\n",
       "      <td>QA</td>\n",
       "      <td>Live Animals</td>\n",
       "      <td>231</td>\n",
       "      <td>United States of America</td>\n",
       "      <td>5114</td>\n",
       "      <td>Stocks</td>\n",
       "      <td>1181</td>\n",
       "      <td>Beehives</td>\n",
       "      <td>1972</td>\n",
       "      <td>No</td>\n",
       "      <td>4085000</td>\n",
       "      <td>NaN</td>\n",
       "      <td>Official data</td>\n",
       "    </tr>\n",
       "    <tr>\n",
       "      <th>1973</th>\n",
       "      <td>QA</td>\n",
       "      <td>Live Animals</td>\n",
       "      <td>231</td>\n",
       "      <td>United States of America</td>\n",
       "      <td>5114</td>\n",
       "      <td>Stocks</td>\n",
       "      <td>1181</td>\n",
       "      <td>Beehives</td>\n",
       "      <td>1973</td>\n",
       "      <td>No</td>\n",
       "      <td>4124000</td>\n",
       "      <td>NaN</td>\n",
       "      <td>Official data</td>\n",
       "    </tr>\n",
       "    <tr>\n",
       "      <th>1974</th>\n",
       "      <td>QA</td>\n",
       "      <td>Live Animals</td>\n",
       "      <td>231</td>\n",
       "      <td>United States of America</td>\n",
       "      <td>5114</td>\n",
       "      <td>Stocks</td>\n",
       "      <td>1181</td>\n",
       "      <td>Beehives</td>\n",
       "      <td>1974</td>\n",
       "      <td>No</td>\n",
       "      <td>4210000</td>\n",
       "      <td>NaN</td>\n",
       "      <td>Official data</td>\n",
       "    </tr>\n",
       "    <tr>\n",
       "      <th>1975</th>\n",
       "      <td>QA</td>\n",
       "      <td>Live Animals</td>\n",
       "      <td>231</td>\n",
       "      <td>United States of America</td>\n",
       "      <td>5114</td>\n",
       "      <td>Stocks</td>\n",
       "      <td>1181</td>\n",
       "      <td>Beehives</td>\n",
       "      <td>1975</td>\n",
       "      <td>No</td>\n",
       "      <td>4206000</td>\n",
       "      <td>NaN</td>\n",
       "      <td>Official data</td>\n",
       "    </tr>\n",
       "    <tr>\n",
       "      <th>1976</th>\n",
       "      <td>QA</td>\n",
       "      <td>Live Animals</td>\n",
       "      <td>231</td>\n",
       "      <td>United States of America</td>\n",
       "      <td>5114</td>\n",
       "      <td>Stocks</td>\n",
       "      <td>1181</td>\n",
       "      <td>Beehives</td>\n",
       "      <td>1976</td>\n",
       "      <td>No</td>\n",
       "      <td>4269000</td>\n",
       "      <td>NaN</td>\n",
       "      <td>Official data</td>\n",
       "    </tr>\n",
       "    <tr>\n",
       "      <th>1977</th>\n",
       "      <td>QA</td>\n",
       "      <td>Live Animals</td>\n",
       "      <td>231</td>\n",
       "      <td>United States of America</td>\n",
       "      <td>5114</td>\n",
       "      <td>Stocks</td>\n",
       "      <td>1181</td>\n",
       "      <td>Beehives</td>\n",
       "      <td>1977</td>\n",
       "      <td>No</td>\n",
       "      <td>4323000</td>\n",
       "      <td>NaN</td>\n",
       "      <td>Official data</td>\n",
       "    </tr>\n",
       "    <tr>\n",
       "      <th>1978</th>\n",
       "      <td>QA</td>\n",
       "      <td>Live Animals</td>\n",
       "      <td>231</td>\n",
       "      <td>United States of America</td>\n",
       "      <td>5114</td>\n",
       "      <td>Stocks</td>\n",
       "      <td>1181</td>\n",
       "      <td>Beehives</td>\n",
       "      <td>1978</td>\n",
       "      <td>No</td>\n",
       "      <td>4090000</td>\n",
       "      <td>NaN</td>\n",
       "      <td>Official data</td>\n",
       "    </tr>\n",
       "    <tr>\n",
       "      <th>1979</th>\n",
       "      <td>QA</td>\n",
       "      <td>Live Animals</td>\n",
       "      <td>231</td>\n",
       "      <td>United States of America</td>\n",
       "      <td>5114</td>\n",
       "      <td>Stocks</td>\n",
       "      <td>1181</td>\n",
       "      <td>Beehives</td>\n",
       "      <td>1979</td>\n",
       "      <td>No</td>\n",
       "      <td>4163000</td>\n",
       "      <td>NaN</td>\n",
       "      <td>Official data</td>\n",
       "    </tr>\n",
       "    <tr>\n",
       "      <th>1980</th>\n",
       "      <td>QA</td>\n",
       "      <td>Live Animals</td>\n",
       "      <td>231</td>\n",
       "      <td>United States of America</td>\n",
       "      <td>5114</td>\n",
       "      <td>Stocks</td>\n",
       "      <td>1181</td>\n",
       "      <td>Beehives</td>\n",
       "      <td>1980</td>\n",
       "      <td>No</td>\n",
       "      <td>4141000</td>\n",
       "      <td>NaN</td>\n",
       "      <td>Official data</td>\n",
       "    </tr>\n",
       "    <tr>\n",
       "      <th>1981</th>\n",
       "      <td>QA</td>\n",
       "      <td>Live Animals</td>\n",
       "      <td>231</td>\n",
       "      <td>United States of America</td>\n",
       "      <td>5114</td>\n",
       "      <td>Stocks</td>\n",
       "      <td>1181</td>\n",
       "      <td>Beehives</td>\n",
       "      <td>1981</td>\n",
       "      <td>No</td>\n",
       "      <td>4213000</td>\n",
       "      <td>NaN</td>\n",
       "      <td>Official data</td>\n",
       "    </tr>\n",
       "    <tr>\n",
       "      <th>1982</th>\n",
       "      <td>QA</td>\n",
       "      <td>Live Animals</td>\n",
       "      <td>231</td>\n",
       "      <td>United States of America</td>\n",
       "      <td>5114</td>\n",
       "      <td>Stocks</td>\n",
       "      <td>1181</td>\n",
       "      <td>Beehives</td>\n",
       "      <td>1982</td>\n",
       "      <td>No</td>\n",
       "      <td>4250000</td>\n",
       "      <td>NaN</td>\n",
       "      <td>Official data</td>\n",
       "    </tr>\n",
       "    <tr>\n",
       "      <th>1983</th>\n",
       "      <td>QA</td>\n",
       "      <td>Live Animals</td>\n",
       "      <td>231</td>\n",
       "      <td>United States of America</td>\n",
       "      <td>5114</td>\n",
       "      <td>Stocks</td>\n",
       "      <td>1181</td>\n",
       "      <td>Beehives</td>\n",
       "      <td>1983</td>\n",
       "      <td>No</td>\n",
       "      <td>4275000</td>\n",
       "      <td>NaN</td>\n",
       "      <td>Official data</td>\n",
       "    </tr>\n",
       "    <tr>\n",
       "      <th>1984</th>\n",
       "      <td>QA</td>\n",
       "      <td>Live Animals</td>\n",
       "      <td>231</td>\n",
       "      <td>United States of America</td>\n",
       "      <td>5114</td>\n",
       "      <td>Stocks</td>\n",
       "      <td>1181</td>\n",
       "      <td>Beehives</td>\n",
       "      <td>1984</td>\n",
       "      <td>No</td>\n",
       "      <td>4300000</td>\n",
       "      <td>NaN</td>\n",
       "      <td>Official data</td>\n",
       "    </tr>\n",
       "    <tr>\n",
       "      <th>1985</th>\n",
       "      <td>QA</td>\n",
       "      <td>Live Animals</td>\n",
       "      <td>231</td>\n",
       "      <td>United States of America</td>\n",
       "      <td>5114</td>\n",
       "      <td>Stocks</td>\n",
       "      <td>1181</td>\n",
       "      <td>Beehives</td>\n",
       "      <td>1985</td>\n",
       "      <td>No</td>\n",
       "      <td>4325000</td>\n",
       "      <td>NaN</td>\n",
       "      <td>Official data</td>\n",
       "    </tr>\n",
       "    <tr>\n",
       "      <th>1986</th>\n",
       "      <td>QA</td>\n",
       "      <td>Live Animals</td>\n",
       "      <td>231</td>\n",
       "      <td>United States of America</td>\n",
       "      <td>5114</td>\n",
       "      <td>Stocks</td>\n",
       "      <td>1181</td>\n",
       "      <td>Beehives</td>\n",
       "      <td>1986</td>\n",
       "      <td>No</td>\n",
       "      <td>3205000</td>\n",
       "      <td>NaN</td>\n",
       "      <td>Official data</td>\n",
       "    </tr>\n",
       "    <tr>\n",
       "      <th>1987</th>\n",
       "      <td>QA</td>\n",
       "      <td>Live Animals</td>\n",
       "      <td>231</td>\n",
       "      <td>United States of America</td>\n",
       "      <td>5114</td>\n",
       "      <td>Stocks</td>\n",
       "      <td>1181</td>\n",
       "      <td>Beehives</td>\n",
       "      <td>1987</td>\n",
       "      <td>No</td>\n",
       "      <td>3190000</td>\n",
       "      <td>NaN</td>\n",
       "      <td>Official data</td>\n",
       "    </tr>\n",
       "    <tr>\n",
       "      <th>1988</th>\n",
       "      <td>QA</td>\n",
       "      <td>Live Animals</td>\n",
       "      <td>231</td>\n",
       "      <td>United States of America</td>\n",
       "      <td>5114</td>\n",
       "      <td>Stocks</td>\n",
       "      <td>1181</td>\n",
       "      <td>Beehives</td>\n",
       "      <td>1988</td>\n",
       "      <td>No</td>\n",
       "      <td>3219000</td>\n",
       "      <td>NaN</td>\n",
       "      <td>Official data</td>\n",
       "    </tr>\n",
       "    <tr>\n",
       "      <th>1989</th>\n",
       "      <td>QA</td>\n",
       "      <td>Live Animals</td>\n",
       "      <td>231</td>\n",
       "      <td>United States of America</td>\n",
       "      <td>5114</td>\n",
       "      <td>Stocks</td>\n",
       "      <td>1181</td>\n",
       "      <td>Beehives</td>\n",
       "      <td>1989</td>\n",
       "      <td>No</td>\n",
       "      <td>3443000</td>\n",
       "      <td>NaN</td>\n",
       "      <td>Official data</td>\n",
       "    </tr>\n",
       "    <tr>\n",
       "      <th>1990</th>\n",
       "      <td>QA</td>\n",
       "      <td>Live Animals</td>\n",
       "      <td>231</td>\n",
       "      <td>United States of America</td>\n",
       "      <td>5114</td>\n",
       "      <td>Stocks</td>\n",
       "      <td>1181</td>\n",
       "      <td>Beehives</td>\n",
       "      <td>1990</td>\n",
       "      <td>No</td>\n",
       "      <td>3210000</td>\n",
       "      <td>NaN</td>\n",
       "      <td>Official data</td>\n",
       "    </tr>\n",
       "    <tr>\n",
       "      <th>1991</th>\n",
       "      <td>QA</td>\n",
       "      <td>Live Animals</td>\n",
       "      <td>231</td>\n",
       "      <td>United States of America</td>\n",
       "      <td>5114</td>\n",
       "      <td>Stocks</td>\n",
       "      <td>1181</td>\n",
       "      <td>Beehives</td>\n",
       "      <td>1991</td>\n",
       "      <td>No</td>\n",
       "      <td>3181000</td>\n",
       "      <td>NaN</td>\n",
       "      <td>Official data</td>\n",
       "    </tr>\n",
       "    <tr>\n",
       "      <th>1992</th>\n",
       "      <td>QA</td>\n",
       "      <td>Live Animals</td>\n",
       "      <td>231</td>\n",
       "      <td>United States of America</td>\n",
       "      <td>5114</td>\n",
       "      <td>Stocks</td>\n",
       "      <td>1181</td>\n",
       "      <td>Beehives</td>\n",
       "      <td>1992</td>\n",
       "      <td>No</td>\n",
       "      <td>3030000</td>\n",
       "      <td>NaN</td>\n",
       "      <td>Official data</td>\n",
       "    </tr>\n",
       "    <tr>\n",
       "      <th>1993</th>\n",
       "      <td>QA</td>\n",
       "      <td>Live Animals</td>\n",
       "      <td>231</td>\n",
       "      <td>United States of America</td>\n",
       "      <td>5114</td>\n",
       "      <td>Stocks</td>\n",
       "      <td>1181</td>\n",
       "      <td>Beehives</td>\n",
       "      <td>1993</td>\n",
       "      <td>No</td>\n",
       "      <td>2880000</td>\n",
       "      <td>NaN</td>\n",
       "      <td>Official data</td>\n",
       "    </tr>\n",
       "    <tr>\n",
       "      <th>1994</th>\n",
       "      <td>QA</td>\n",
       "      <td>Live Animals</td>\n",
       "      <td>231</td>\n",
       "      <td>United States of America</td>\n",
       "      <td>5114</td>\n",
       "      <td>Stocks</td>\n",
       "      <td>1181</td>\n",
       "      <td>Beehives</td>\n",
       "      <td>1994</td>\n",
       "      <td>No</td>\n",
       "      <td>2770000</td>\n",
       "      <td>NaN</td>\n",
       "      <td>Official data</td>\n",
       "    </tr>\n",
       "    <tr>\n",
       "      <th>1995</th>\n",
       "      <td>QA</td>\n",
       "      <td>Live Animals</td>\n",
       "      <td>231</td>\n",
       "      <td>United States of America</td>\n",
       "      <td>5114</td>\n",
       "      <td>Stocks</td>\n",
       "      <td>1181</td>\n",
       "      <td>Beehives</td>\n",
       "      <td>1995</td>\n",
       "      <td>No</td>\n",
       "      <td>2648000</td>\n",
       "      <td>NaN</td>\n",
       "      <td>Official data</td>\n",
       "    </tr>\n",
       "    <tr>\n",
       "      <th>1996</th>\n",
       "      <td>QA</td>\n",
       "      <td>Live Animals</td>\n",
       "      <td>231</td>\n",
       "      <td>United States of America</td>\n",
       "      <td>5114</td>\n",
       "      <td>Stocks</td>\n",
       "      <td>1181</td>\n",
       "      <td>Beehives</td>\n",
       "      <td>1996</td>\n",
       "      <td>No</td>\n",
       "      <td>2566000</td>\n",
       "      <td>NaN</td>\n",
       "      <td>Official data</td>\n",
       "    </tr>\n",
       "    <tr>\n",
       "      <th>1997</th>\n",
       "      <td>QA</td>\n",
       "      <td>Live Animals</td>\n",
       "      <td>231</td>\n",
       "      <td>United States of America</td>\n",
       "      <td>5114</td>\n",
       "      <td>Stocks</td>\n",
       "      <td>1181</td>\n",
       "      <td>Beehives</td>\n",
       "      <td>1997</td>\n",
       "      <td>No</td>\n",
       "      <td>2631000</td>\n",
       "      <td>NaN</td>\n",
       "      <td>Official data</td>\n",
       "    </tr>\n",
       "    <tr>\n",
       "      <th>1998</th>\n",
       "      <td>QA</td>\n",
       "      <td>Live Animals</td>\n",
       "      <td>231</td>\n",
       "      <td>United States of America</td>\n",
       "      <td>5114</td>\n",
       "      <td>Stocks</td>\n",
       "      <td>1181</td>\n",
       "      <td>Beehives</td>\n",
       "      <td>1998</td>\n",
       "      <td>No</td>\n",
       "      <td>2633000</td>\n",
       "      <td>NaN</td>\n",
       "      <td>Official data</td>\n",
       "    </tr>\n",
       "    <tr>\n",
       "      <th>1999</th>\n",
       "      <td>QA</td>\n",
       "      <td>Live Animals</td>\n",
       "      <td>231</td>\n",
       "      <td>United States of America</td>\n",
       "      <td>5114</td>\n",
       "      <td>Stocks</td>\n",
       "      <td>1181</td>\n",
       "      <td>Beehives</td>\n",
       "      <td>1999</td>\n",
       "      <td>No</td>\n",
       "      <td>2688000</td>\n",
       "      <td>NaN</td>\n",
       "      <td>Official data</td>\n",
       "    </tr>\n",
       "    <tr>\n",
       "      <th>2000</th>\n",
       "      <td>QA</td>\n",
       "      <td>Live Animals</td>\n",
       "      <td>231</td>\n",
       "      <td>United States of America</td>\n",
       "      <td>5114</td>\n",
       "      <td>Stocks</td>\n",
       "      <td>1181</td>\n",
       "      <td>Beehives</td>\n",
       "      <td>2000</td>\n",
       "      <td>No</td>\n",
       "      <td>2620000</td>\n",
       "      <td>NaN</td>\n",
       "      <td>Official data</td>\n",
       "    </tr>\n",
       "    <tr>\n",
       "      <th>2001</th>\n",
       "      <td>QA</td>\n",
       "      <td>Live Animals</td>\n",
       "      <td>231</td>\n",
       "      <td>United States of America</td>\n",
       "      <td>5114</td>\n",
       "      <td>Stocks</td>\n",
       "      <td>1181</td>\n",
       "      <td>Beehives</td>\n",
       "      <td>2001</td>\n",
       "      <td>No</td>\n",
       "      <td>2513000</td>\n",
       "      <td>NaN</td>\n",
       "      <td>Official data</td>\n",
       "    </tr>\n",
       "    <tr>\n",
       "      <th>2002</th>\n",
       "      <td>QA</td>\n",
       "      <td>Live Animals</td>\n",
       "      <td>231</td>\n",
       "      <td>United States of America</td>\n",
       "      <td>5114</td>\n",
       "      <td>Stocks</td>\n",
       "      <td>1181</td>\n",
       "      <td>Beehives</td>\n",
       "      <td>2002</td>\n",
       "      <td>No</td>\n",
       "      <td>2574000</td>\n",
       "      <td>NaN</td>\n",
       "      <td>Official data</td>\n",
       "    </tr>\n",
       "    <tr>\n",
       "      <th>2003</th>\n",
       "      <td>QA</td>\n",
       "      <td>Live Animals</td>\n",
       "      <td>231</td>\n",
       "      <td>United States of America</td>\n",
       "      <td>5114</td>\n",
       "      <td>Stocks</td>\n",
       "      <td>1181</td>\n",
       "      <td>Beehives</td>\n",
       "      <td>2003</td>\n",
       "      <td>No</td>\n",
       "      <td>2590000</td>\n",
       "      <td>NaN</td>\n",
       "      <td>Official data</td>\n",
       "    </tr>\n",
       "    <tr>\n",
       "      <th>2004</th>\n",
       "      <td>QA</td>\n",
       "      <td>Live Animals</td>\n",
       "      <td>231</td>\n",
       "      <td>United States of America</td>\n",
       "      <td>5114</td>\n",
       "      <td>Stocks</td>\n",
       "      <td>1181</td>\n",
       "      <td>Beehives</td>\n",
       "      <td>2004</td>\n",
       "      <td>No</td>\n",
       "      <td>2556000</td>\n",
       "      <td>NaN</td>\n",
       "      <td>Official data</td>\n",
       "    </tr>\n",
       "    <tr>\n",
       "      <th>2005</th>\n",
       "      <td>QA</td>\n",
       "      <td>Live Animals</td>\n",
       "      <td>231</td>\n",
       "      <td>United States of America</td>\n",
       "      <td>5114</td>\n",
       "      <td>Stocks</td>\n",
       "      <td>1181</td>\n",
       "      <td>Beehives</td>\n",
       "      <td>2005</td>\n",
       "      <td>No</td>\n",
       "      <td>2413000</td>\n",
       "      <td>NaN</td>\n",
       "      <td>Official data</td>\n",
       "    </tr>\n",
       "    <tr>\n",
       "      <th>2006</th>\n",
       "      <td>QA</td>\n",
       "      <td>Live Animals</td>\n",
       "      <td>231</td>\n",
       "      <td>United States of America</td>\n",
       "      <td>5114</td>\n",
       "      <td>Stocks</td>\n",
       "      <td>1181</td>\n",
       "      <td>Beehives</td>\n",
       "      <td>2006</td>\n",
       "      <td>No</td>\n",
       "      <td>2392000</td>\n",
       "      <td>NaN</td>\n",
       "      <td>Official data</td>\n",
       "    </tr>\n",
       "    <tr>\n",
       "      <th>2007</th>\n",
       "      <td>QA</td>\n",
       "      <td>Live Animals</td>\n",
       "      <td>231</td>\n",
       "      <td>United States of America</td>\n",
       "      <td>5114</td>\n",
       "      <td>Stocks</td>\n",
       "      <td>1181</td>\n",
       "      <td>Beehives</td>\n",
       "      <td>2007</td>\n",
       "      <td>No</td>\n",
       "      <td>2301000</td>\n",
       "      <td>NaN</td>\n",
       "      <td>Official data</td>\n",
       "    </tr>\n",
       "    <tr>\n",
       "      <th>2008</th>\n",
       "      <td>QA</td>\n",
       "      <td>Live Animals</td>\n",
       "      <td>231</td>\n",
       "      <td>United States of America</td>\n",
       "      <td>5114</td>\n",
       "      <td>Stocks</td>\n",
       "      <td>1181</td>\n",
       "      <td>Beehives</td>\n",
       "      <td>2008</td>\n",
       "      <td>No</td>\n",
       "      <td>2342000</td>\n",
       "      <td>NaN</td>\n",
       "      <td>Official data</td>\n",
       "    </tr>\n",
       "    <tr>\n",
       "      <th>2009</th>\n",
       "      <td>QA</td>\n",
       "      <td>Live Animals</td>\n",
       "      <td>231</td>\n",
       "      <td>United States of America</td>\n",
       "      <td>5114</td>\n",
       "      <td>Stocks</td>\n",
       "      <td>1181</td>\n",
       "      <td>Beehives</td>\n",
       "      <td>2009</td>\n",
       "      <td>No</td>\n",
       "      <td>2498000</td>\n",
       "      <td>NaN</td>\n",
       "      <td>Official data</td>\n",
       "    </tr>\n",
       "    <tr>\n",
       "      <th>2010</th>\n",
       "      <td>QA</td>\n",
       "      <td>Live Animals</td>\n",
       "      <td>231</td>\n",
       "      <td>United States of America</td>\n",
       "      <td>5114</td>\n",
       "      <td>Stocks</td>\n",
       "      <td>1181</td>\n",
       "      <td>Beehives</td>\n",
       "      <td>2010</td>\n",
       "      <td>No</td>\n",
       "      <td>2692000</td>\n",
       "      <td>NaN</td>\n",
       "      <td>Official data</td>\n",
       "    </tr>\n",
       "    <tr>\n",
       "      <th>2011</th>\n",
       "      <td>QA</td>\n",
       "      <td>Live Animals</td>\n",
       "      <td>231</td>\n",
       "      <td>United States of America</td>\n",
       "      <td>5114</td>\n",
       "      <td>Stocks</td>\n",
       "      <td>1181</td>\n",
       "      <td>Beehives</td>\n",
       "      <td>2011</td>\n",
       "      <td>No</td>\n",
       "      <td>2491000</td>\n",
       "      <td>NaN</td>\n",
       "      <td>Official data</td>\n",
       "    </tr>\n",
       "    <tr>\n",
       "      <th>2012</th>\n",
       "      <td>QA</td>\n",
       "      <td>Live Animals</td>\n",
       "      <td>231</td>\n",
       "      <td>United States of America</td>\n",
       "      <td>5114</td>\n",
       "      <td>Stocks</td>\n",
       "      <td>1181</td>\n",
       "      <td>Beehives</td>\n",
       "      <td>2012</td>\n",
       "      <td>No</td>\n",
       "      <td>2539000</td>\n",
       "      <td>NaN</td>\n",
       "      <td>Official data</td>\n",
       "    </tr>\n",
       "    <tr>\n",
       "      <th>2013</th>\n",
       "      <td>QA</td>\n",
       "      <td>Live Animals</td>\n",
       "      <td>231</td>\n",
       "      <td>United States of America</td>\n",
       "      <td>5114</td>\n",
       "      <td>Stocks</td>\n",
       "      <td>1181</td>\n",
       "      <td>Beehives</td>\n",
       "      <td>2013</td>\n",
       "      <td>No</td>\n",
       "      <td>2640000</td>\n",
       "      <td>NaN</td>\n",
       "      <td>Official data</td>\n",
       "    </tr>\n",
       "    <tr>\n",
       "      <th>2014</th>\n",
       "      <td>QA</td>\n",
       "      <td>Live Animals</td>\n",
       "      <td>231</td>\n",
       "      <td>United States of America</td>\n",
       "      <td>5114</td>\n",
       "      <td>Stocks</td>\n",
       "      <td>1181</td>\n",
       "      <td>Beehives</td>\n",
       "      <td>2014</td>\n",
       "      <td>No</td>\n",
       "      <td>2740000</td>\n",
       "      <td>NaN</td>\n",
       "      <td>Official data</td>\n",
       "    </tr>\n",
       "  </tbody>\n",
       "</table>\n",
       "</div>"
      ],
      "text/plain": [
       "            d            ac    a                        ec     e      ic  \\\n",
       "Year Code                                                                  \n",
       "1961       QA  Live Animals  231  United States of America  5114  Stocks   \n",
       "1962       QA  Live Animals  231  United States of America  5114  Stocks   \n",
       "1963       QA  Live Animals  231  United States of America  5114  Stocks   \n",
       "1964       QA  Live Animals  231  United States of America  5114  Stocks   \n",
       "1965       QA  Live Animals  231  United States of America  5114  Stocks   \n",
       "1966       QA  Live Animals  231  United States of America  5114  Stocks   \n",
       "1967       QA  Live Animals  231  United States of America  5114  Stocks   \n",
       "1968       QA  Live Animals  231  United States of America  5114  Stocks   \n",
       "1969       QA  Live Animals  231  United States of America  5114  Stocks   \n",
       "1970       QA  Live Animals  231  United States of America  5114  Stocks   \n",
       "1971       QA  Live Animals  231  United States of America  5114  Stocks   \n",
       "1972       QA  Live Animals  231  United States of America  5114  Stocks   \n",
       "1973       QA  Live Animals  231  United States of America  5114  Stocks   \n",
       "1974       QA  Live Animals  231  United States of America  5114  Stocks   \n",
       "1975       QA  Live Animals  231  United States of America  5114  Stocks   \n",
       "1976       QA  Live Animals  231  United States of America  5114  Stocks   \n",
       "1977       QA  Live Animals  231  United States of America  5114  Stocks   \n",
       "1978       QA  Live Animals  231  United States of America  5114  Stocks   \n",
       "1979       QA  Live Animals  231  United States of America  5114  Stocks   \n",
       "1980       QA  Live Animals  231  United States of America  5114  Stocks   \n",
       "1981       QA  Live Animals  231  United States of America  5114  Stocks   \n",
       "1982       QA  Live Animals  231  United States of America  5114  Stocks   \n",
       "1983       QA  Live Animals  231  United States of America  5114  Stocks   \n",
       "1984       QA  Live Animals  231  United States of America  5114  Stocks   \n",
       "1985       QA  Live Animals  231  United States of America  5114  Stocks   \n",
       "1986       QA  Live Animals  231  United States of America  5114  Stocks   \n",
       "1987       QA  Live Animals  231  United States of America  5114  Stocks   \n",
       "1988       QA  Live Animals  231  United States of America  5114  Stocks   \n",
       "1989       QA  Live Animals  231  United States of America  5114  Stocks   \n",
       "1990       QA  Live Animals  231  United States of America  5114  Stocks   \n",
       "1991       QA  Live Animals  231  United States of America  5114  Stocks   \n",
       "1992       QA  Live Animals  231  United States of America  5114  Stocks   \n",
       "1993       QA  Live Animals  231  United States of America  5114  Stocks   \n",
       "1994       QA  Live Animals  231  United States of America  5114  Stocks   \n",
       "1995       QA  Live Animals  231  United States of America  5114  Stocks   \n",
       "1996       QA  Live Animals  231  United States of America  5114  Stocks   \n",
       "1997       QA  Live Animals  231  United States of America  5114  Stocks   \n",
       "1998       QA  Live Animals  231  United States of America  5114  Stocks   \n",
       "1999       QA  Live Animals  231  United States of America  5114  Stocks   \n",
       "2000       QA  Live Animals  231  United States of America  5114  Stocks   \n",
       "2001       QA  Live Animals  231  United States of America  5114  Stocks   \n",
       "2002       QA  Live Animals  231  United States of America  5114  Stocks   \n",
       "2003       QA  Live Animals  231  United States of America  5114  Stocks   \n",
       "2004       QA  Live Animals  231  United States of America  5114  Stocks   \n",
       "2005       QA  Live Animals  231  United States of America  5114  Stocks   \n",
       "2006       QA  Live Animals  231  United States of America  5114  Stocks   \n",
       "2007       QA  Live Animals  231  United States of America  5114  Stocks   \n",
       "2008       QA  Live Animals  231  United States of America  5114  Stocks   \n",
       "2009       QA  Live Animals  231  United States of America  5114  Stocks   \n",
       "2010       QA  Live Animals  231  United States of America  5114  Stocks   \n",
       "2011       QA  Live Animals  231  United States of America  5114  Stocks   \n",
       "2012       QA  Live Animals  231  United States of America  5114  Stocks   \n",
       "2013       QA  Live Animals  231  United States of America  5114  Stocks   \n",
       "2014       QA  Live Animals  231  United States of America  5114  Stocks   \n",
       "\n",
       "              i        yc  year   u    value   f             fd  \n",
       "Year Code                                                        \n",
       "1961       1181  Beehives  1961  No  5514000 NaN  Official data  \n",
       "1962       1181  Beehives  1962  No  5506000 NaN  Official data  \n",
       "1963       1181  Beehives  1963  No  5528000 NaN  Official data  \n",
       "1964       1181  Beehives  1964  No  5601000 NaN  Official data  \n",
       "1965       1181  Beehives  1965  No  4718000 NaN  Official data  \n",
       "1966       1181  Beehives  1966  No  4646000 NaN  Official data  \n",
       "1967       1181  Beehives  1967  No  4635000 NaN  Official data  \n",
       "1968       1181  Beehives  1968  No  4539000 NaN  Official data  \n",
       "1969       1181  Beehives  1969  No  4433000 NaN  Official data  \n",
       "1970       1181  Beehives  1970  No  4634000 NaN  Official data  \n",
       "1971       1181  Beehives  1971  No  4107000 NaN  Official data  \n",
       "1972       1181  Beehives  1972  No  4085000 NaN  Official data  \n",
       "1973       1181  Beehives  1973  No  4124000 NaN  Official data  \n",
       "1974       1181  Beehives  1974  No  4210000 NaN  Official data  \n",
       "1975       1181  Beehives  1975  No  4206000 NaN  Official data  \n",
       "1976       1181  Beehives  1976  No  4269000 NaN  Official data  \n",
       "1977       1181  Beehives  1977  No  4323000 NaN  Official data  \n",
       "1978       1181  Beehives  1978  No  4090000 NaN  Official data  \n",
       "1979       1181  Beehives  1979  No  4163000 NaN  Official data  \n",
       "1980       1181  Beehives  1980  No  4141000 NaN  Official data  \n",
       "1981       1181  Beehives  1981  No  4213000 NaN  Official data  \n",
       "1982       1181  Beehives  1982  No  4250000 NaN  Official data  \n",
       "1983       1181  Beehives  1983  No  4275000 NaN  Official data  \n",
       "1984       1181  Beehives  1984  No  4300000 NaN  Official data  \n",
       "1985       1181  Beehives  1985  No  4325000 NaN  Official data  \n",
       "1986       1181  Beehives  1986  No  3205000 NaN  Official data  \n",
       "1987       1181  Beehives  1987  No  3190000 NaN  Official data  \n",
       "1988       1181  Beehives  1988  No  3219000 NaN  Official data  \n",
       "1989       1181  Beehives  1989  No  3443000 NaN  Official data  \n",
       "1990       1181  Beehives  1990  No  3210000 NaN  Official data  \n",
       "1991       1181  Beehives  1991  No  3181000 NaN  Official data  \n",
       "1992       1181  Beehives  1992  No  3030000 NaN  Official data  \n",
       "1993       1181  Beehives  1993  No  2880000 NaN  Official data  \n",
       "1994       1181  Beehives  1994  No  2770000 NaN  Official data  \n",
       "1995       1181  Beehives  1995  No  2648000 NaN  Official data  \n",
       "1996       1181  Beehives  1996  No  2566000 NaN  Official data  \n",
       "1997       1181  Beehives  1997  No  2631000 NaN  Official data  \n",
       "1998       1181  Beehives  1998  No  2633000 NaN  Official data  \n",
       "1999       1181  Beehives  1999  No  2688000 NaN  Official data  \n",
       "2000       1181  Beehives  2000  No  2620000 NaN  Official data  \n",
       "2001       1181  Beehives  2001  No  2513000 NaN  Official data  \n",
       "2002       1181  Beehives  2002  No  2574000 NaN  Official data  \n",
       "2003       1181  Beehives  2003  No  2590000 NaN  Official data  \n",
       "2004       1181  Beehives  2004  No  2556000 NaN  Official data  \n",
       "2005       1181  Beehives  2005  No  2413000 NaN  Official data  \n",
       "2006       1181  Beehives  2006  No  2392000 NaN  Official data  \n",
       "2007       1181  Beehives  2007  No  2301000 NaN  Official data  \n",
       "2008       1181  Beehives  2008  No  2342000 NaN  Official data  \n",
       "2009       1181  Beehives  2009  No  2498000 NaN  Official data  \n",
       "2010       1181  Beehives  2010  No  2692000 NaN  Official data  \n",
       "2011       1181  Beehives  2011  No  2491000 NaN  Official data  \n",
       "2012       1181  Beehives  2012  No  2539000 NaN  Official data  \n",
       "2013       1181  Beehives  2013  No  2640000 NaN  Official data  \n",
       "2014       1181  Beehives  2014  No  2740000 NaN  Official data  "
      ]
     },
     "execution_count": 16,
     "metadata": {},
     "output_type": "execute_result"
    }
   ],
   "source": [
    "\n",
    "\n",
    "tables.columns = ['d', 'ac', 'a', 'ec', 'e', 'ic', 'i', 'yc', 'year', 'u', 'value', 'f', 'fd']\n",
    "tables\n",
    "\n",
    "value = tables.value\n",
    "value\n",
    "\n",
    "\n",
    "value.index\n",
    "\n",
    "\n",
    "def plot_estimates(tables):\n",
    "    value = tables.value / 1e6\n",
    "    plot(values, '--', color='green', label='FAO Stats')\n",
    "    \n",
    "    decorate(xlabel='Year',\n",
    "             ylabel='Number of Registered Hives (in Millions)')\n",
    "    \n",
    "    newfig()\n",
    "plot_estimates(tables)"
   ]
  },
  {
   "cell_type": "code",
   "execution_count": 18,
   "metadata": {},
   "outputs": [
    {
     "data": {
      "text/plain": [
       "Year Code\n",
       "1961    5514000\n",
       "1962    5506000\n",
       "1963    5528000\n",
       "1964    5601000\n",
       "1965    4718000\n",
       "1966    4646000\n",
       "1967    4635000\n",
       "1968    4539000\n",
       "1969    4433000\n",
       "1970    4634000\n",
       "1971    4107000\n",
       "1972    4085000\n",
       "1973    4124000\n",
       "1974    4210000\n",
       "1975    4206000\n",
       "1976    4269000\n",
       "1977    4323000\n",
       "1978    4090000\n",
       "1979    4163000\n",
       "1980    4141000\n",
       "1981    4213000\n",
       "1982    4250000\n",
       "1983    4275000\n",
       "1984    4300000\n",
       "1985    4325000\n",
       "1986    3205000\n",
       "1987    3190000\n",
       "1988    3219000\n",
       "1989    3443000\n",
       "1990    3210000\n",
       "1991    3181000\n",
       "1992    3030000\n",
       "1993    2880000\n",
       "1994    2770000\n",
       "1995    2648000\n",
       "1996    2566000\n",
       "1997    2631000\n",
       "1998    2633000\n",
       "1999    2688000\n",
       "2000    2620000\n",
       "2001    2513000\n",
       "2002    2574000\n",
       "2003    2590000\n",
       "2004    2556000\n",
       "2005    2413000\n",
       "2006    2392000\n",
       "2007    2301000\n",
       "2008    2342000\n",
       "2009    2498000\n",
       "2010    2692000\n",
       "2011    2491000\n",
       "2012    2539000\n",
       "2013    2640000\n",
       "2014    2740000\n",
       "Name: value, dtype: int64"
      ]
     },
     "execution_count": 18,
     "metadata": {},
     "output_type": "execute_result"
    }
   ],
   "source": [
    "value = tables.value\n",
    "value\n",
    "\n",
    "\n",
    "value.index\n",
    "\n",
    "\n",
    "def plot_estimates(tables):\n",
    "    value = tables.value / 1e6\n",
    "    plot(values, '--', color='green', label='FAO Stats')\n",
    "    \n",
    "    decorate(xlabel='Year',\n",
    "             ylabel='Number of Registered Hives (in Millions)')\n",
    "    \n",
    "    newfig()\n",
    "plot_estimates(tables)"
   ]
  },
  {
   "cell_type": "code",
   "execution_count": 19,
   "metadata": {},
   "outputs": [
    {
     "data": {
      "text/plain": [
       "array([5514000, 5506000, 5528000, 5601000, 4718000, 4646000, 4635000,\n",
       "       4539000, 4433000, 4634000, 4107000, 4085000, 4124000, 4210000,\n",
       "       4206000, 4269000, 4323000, 4090000, 4163000, 4141000, 4213000,\n",
       "       4250000, 4275000, 4300000, 4325000, 3205000, 3190000, 3219000,\n",
       "       3443000, 3210000, 3181000, 3030000, 2880000, 2770000, 2648000,\n",
       "       2566000, 2631000, 2633000, 2688000, 2620000, 2513000, 2574000,\n",
       "       2590000, 2556000, 2413000, 2392000, 2301000, 2342000, 2498000,\n",
       "       2692000, 2491000, 2539000, 2640000, 2740000], dtype=int64)"
      ]
     },
     "execution_count": 19,
     "metadata": {},
     "output_type": "execute_result"
    }
   ],
   "source": [
    "value.values\n"
   ]
  },
  {
   "cell_type": "code",
   "execution_count": 20,
   "metadata": {},
   "outputs": [
    {
     "data": {
      "text/plain": [
       "Int64Index([1961, 1962, 1963, 1964, 1965, 1966, 1967, 1968, 1969, 1970, 1971,\n",
       "            1972, 1973, 1974, 1975, 1976, 1977, 1978, 1979, 1980, 1981, 1982,\n",
       "            1983, 1984, 1985, 1986, 1987, 1988, 1989, 1990, 1991, 1992, 1993,\n",
       "            1994, 1995, 1996, 1997, 1998, 1999, 2000, 2001, 2002, 2003, 2004,\n",
       "            2005, 2006, 2007, 2008, 2009, 2010, 2011, 2012, 2013, 2014],\n",
       "           dtype='int64', name='Year Code')"
      ]
     },
     "execution_count": 20,
     "metadata": {},
     "output_type": "execute_result"
    }
   ],
   "source": [
    "value.index\n",
    "\n",
    "\n",
    "def plot_estimates(tables):\n",
    "    value = tables.value / 1e6\n",
    "    plot(values, '--', color='green', label='FAO Stats')\n",
    "    \n",
    "    decorate(xlabel='Year',\n",
    "             ylabel='Number of Registered Hives (in Millions)')\n",
    "    \n",
    "    newfig()\n",
    "plot_estimates(tables)"
   ]
  },
  {
   "cell_type": "code",
   "execution_count": 21,
   "metadata": {
    "collapsed": true
   },
   "outputs": [],
   "source": [
    "def plot_estimates(tables):\n",
    "    value = tables.value / 1e6\n",
    "    plot(values, '--', color='green', label='FAO Stats')\n",
    "    \n",
    "    decorate(xlabel='Year',\n",
    "             ylabel='Number of Registered Hives (in Millions)')\n",
    "    \n",
    "    newfig()\n",
    "plot_estimates(tables)\n"
   ]
  },
  {
   "cell_type": "code",
   "execution_count": 22,
   "metadata": {},
   "outputs": [
    {
     "ename": "NameError",
     "evalue": "name 'newfig' is not defined",
     "output_type": "error",
     "traceback": [
      "\u001b[1;31m---------------------------------------------------------------------------\u001b[0m",
      "\u001b[1;31mNameError\u001b[0m                                 Traceback (most recent call last)",
      "\u001b[1;32m<ipython-input-22-2bedc3927e95>\u001b[0m in \u001b[0;36m<module>\u001b[1;34m()\u001b[0m\n\u001b[1;32m----> 1\u001b[1;33m \u001b[0mnewfig\u001b[0m\u001b[1;33m(\u001b[0m\u001b[1;33m)\u001b[0m\u001b[1;33m\u001b[0m\u001b[0m\n\u001b[0m\u001b[0;32m      2\u001b[0m \u001b[0mplot_estimates\u001b[0m\u001b[1;33m(\u001b[0m\u001b[0mtables\u001b[0m\u001b[1;33m)\u001b[0m\u001b[1;33m\u001b[0m\u001b[0m\n",
      "\u001b[1;31mNameError\u001b[0m: name 'newfig' is not defined"
     ]
    }
   ],
   "source": [
    "newfig()\n",
    "plot_estimates(tables)\n"
   ]
  }
 ],
 "metadata": {
  "kernelspec": {
   "display_name": "Python 3",
   "language": "python",
   "name": "python3"
  },
  "language_info": {
   "codemirror_mode": {
    "name": "ipython",
    "version": 3
   },
   "file_extension": ".py",
   "mimetype": "text/x-python",
   "name": "python",
   "nbconvert_exporter": "python",
   "pygments_lexer": "ipython3",
   "version": "3.6.1"
  }
 },
 "nbformat": 4,
 "nbformat_minor": 1
}
