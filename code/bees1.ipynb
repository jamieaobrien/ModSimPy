{
 "cells": [
  {
   "cell_type": "markdown",
   "metadata": {},
   "source": [
    "# Modeling and Simulation in Python\n",
    "\n",
    "Chapter 3: Explain\n",
    "\n",
    "Copyright 2017 Allen Downey\n",
    "\n",
    "License: [Creative Commons Attribution 4.0 International](https://creativecommons.org/licenses/by/4.0)\n"
   ]
  },
  {
   "cell_type": "code",
   "execution_count": 3,
   "metadata": {
    "collapsed": true
   },
   "outputs": [],
   "source": [
    "# If you want the figures to appear in the notebook, \n",
    "# and you want to interact with them, use\n",
    "# %matplotlib notebook\n",
    "\n",
    "# If you want the figures to appear in the notebook, \n",
    "# and you don't want to interact with them, use\n",
    "# %matplotlib inline\n",
    "\n",
    "# If you want the figures to appear in separate windows, use\n",
    "# %matplotlib qt5\n",
    "\n",
    "# To switch from one to another, you have to select Kernel->Restart\n",
    "\n",
    "%matplotlib inline\n",
    "\n",
    "from modsim import *"
   ]
  },
  {
   "cell_type": "markdown",
   "metadata": {},
   "source": [
    "Pandas is a module that provides tools for reading and processing data.  The `read_html` reads a web page from a file or the Internet and creates one DataFrame for each table on the page."
   ]
  },
  {
   "cell_type": "code",
   "execution_count": 3,
   "metadata": {
    "collapsed": true
   },
   "outputs": [],
   "source": [
    "from pandas import read_html"
   ]
  },
  {
   "cell_type": "markdown",
   "metadata": {},
   "source": [
    "The data directory contains a downloaded copy of https://en.wikipedia.org/wiki/World_population_estimates"
   ]
  },
  {
   "cell_type": "code",
   "execution_count": 4,
   "metadata": {
    "collapsed": true
   },
   "outputs": [],
   "source": [
    "filename = 'data/World_population_estimates.html'\n",
    "tables = read_html(filename, header=0, index_col=0, decimal='M')"
   ]
  },
  {
   "cell_type": "markdown",
   "metadata": {},
   "source": [
    "`tables` is a sequence of DataFrame objects.  We can select the DataFrame we want using the bracket operator.  The tables are numbered from 0, so `table2` is actually the third table on the page.\n",
    "\n",
    "`head` selects the header and the first five rows."
   ]
  },
  {
   "cell_type": "code",
   "execution_count": 5,
   "metadata": {
    "collapsed": true,
    "scrolled": true
   },
   "outputs": [],
   "source": [
    "table2 = tables[2]\n",
    "table2.head()"
   ]
  },
  {
   "cell_type": "markdown",
   "metadata": {},
   "source": [
    "`tail` selects the last five rows."
   ]
  },
  {
   "cell_type": "code",
   "execution_count": 6,
   "metadata": {
    "collapsed": true,
    "scrolled": true
   },
   "outputs": [],
   "source": [
    "table2.tail()"
   ]
  },
  {
   "cell_type": "markdown",
   "metadata": {},
   "source": [
    "Long column names are awkard to work with, but we can replace them with abbreviated names."
   ]
  },
  {
   "cell_type": "code",
   "execution_count": 7,
   "metadata": {
    "collapsed": true
   },
   "outputs": [],
   "source": [
    "table2.columns = ['census', 'prb', 'un', 'maddison', \n",
    "                  'hyde', 'tanton', 'biraben', 'mj', \n",
    "                  'thomlinson', 'durand', 'clark']"
   ]
  },
  {
   "cell_type": "markdown",
   "metadata": {},
   "source": [
    "Here's what the DataFrame looks like now.  \n",
    "\n",
    "Some of the values use scientific notation; for example, `2.544000e+09` is shorthand for $2.544 \\cdot 10^9$ or 2.544 billion.\n",
    "\n",
    "`NaN` is a special value that indicates missing data."
   ]
  },
  {
   "cell_type": "code",
   "execution_count": 8,
   "metadata": {
    "collapsed": true
   },
   "outputs": [],
   "source": [
    "table2"
   ]
  },
  {
   "cell_type": "markdown",
   "metadata": {},
   "source": [
    "We can use dot notatio to select a column from a DataFrame.  The result is a Series."
   ]
  },
  {
   "cell_type": "code",
   "execution_count": 9,
   "metadata": {
    "collapsed": true
   },
   "outputs": [],
   "source": [
    "census = table2.census\n",
    "census"
   ]
  },
  {
   "cell_type": "markdown",
   "metadata": {},
   "source": [
    "A Series object has two parts, `values` and `index`.\n",
    "\n",
    "The `values` part is an array."
   ]
  },
  {
   "cell_type": "code",
   "execution_count": 10,
   "metadata": {
    "collapsed": true
   },
   "outputs": [],
   "source": [
    "census.values"
   ]
  },
  {
   "cell_type": "markdown",
   "metadata": {},
   "source": [
    "The `index` part is yet another kind of object, an `Int64Index`."
   ]
  },
  {
   "cell_type": "code",
   "execution_count": 11,
   "metadata": {
    "collapsed": true
   },
   "outputs": [],
   "source": [
    "census.index"
   ]
  },
  {
   "cell_type": "markdown",
   "metadata": {},
   "source": [
    "If you ever wonder what kind of object a variable refers to, you can use the `type` function.\n",
    "\n",
    "The result indicates what type the object is, and the module where that type is defined.\n",
    "\n",
    "DataFrame, Series, and Int64Index are defined by Pandas.\n",
    "\n",
    "array is defined by NumPy."
   ]
  },
  {
   "cell_type": "code",
   "execution_count": 12,
   "metadata": {
    "collapsed": true
   },
   "outputs": [],
   "source": [
    "type(table2)"
   ]
  },
  {
   "cell_type": "code",
   "execution_count": 13,
   "metadata": {
    "collapsed": true
   },
   "outputs": [],
   "source": [
    "type(census)"
   ]
  },
  {
   "cell_type": "code",
   "execution_count": 14,
   "metadata": {
    "collapsed": true
   },
   "outputs": [],
   "source": [
    "type(census.index)"
   ]
  },
  {
   "cell_type": "code",
   "execution_count": 15,
   "metadata": {
    "collapsed": true
   },
   "outputs": [],
   "source": [
    "type(census.values)"
   ]
  },
  {
   "cell_type": "markdown",
   "metadata": {},
   "source": [
    "This function plots the estimates generated by the US Censis and UN DESA, and labels the axes.\n",
    "\n",
    "`1e9` is scientific notation for $1 \\cdot 10^9$ or 1 billion."
   ]
  },
  {
   "cell_type": "code",
   "execution_count": 16,
   "metadata": {
    "collapsed": true
   },
   "outputs": [],
   "source": [
    "def plot_estimates(table):\n",
    "    \"\"\"Plot world population estimates.\n",
    "    \n",
    "    table: DataFrame with columns 'un' and 'census'\n",
    "    \"\"\"\n",
    "    un = table.un / 1e9\n",
    "    census = table.census / 1e9\n",
    "    \n",
    "    plot(census, ':', color='darkblue', label='US Census')\n",
    "    plot(un, '--', color='green', label='UN DESA')\n",
    "    \n",
    "    decorate(xlabel='Year',\n",
    "             ylabel='World population (billion)')"
   ]
  },
  {
   "cell_type": "markdown",
   "metadata": {},
   "source": [
    "Now we can plot the estimates."
   ]
  },
  {
   "cell_type": "code",
   "execution_count": 17,
   "metadata": {
    "collapsed": true,
    "scrolled": false
   },
   "outputs": [],
   "source": [
    "newfig()\n",
    "plot_estimates(table2)\n",
    "savefig('chap03-fig01.pdf')"
   ]
  },
  {
   "cell_type": "markdown",
   "metadata": {},
   "source": [
    "From here on, we will work in units of billions."
   ]
  },
  {
   "cell_type": "code",
   "execution_count": 18,
   "metadata": {
    "collapsed": true
   },
   "outputs": [],
   "source": [
    "un = table2.un / 1e9"
   ]
  },
  {
   "cell_type": "code",
   "execution_count": 19,
   "metadata": {
    "collapsed": true
   },
   "outputs": [],
   "source": [
    "census = table2.census / 1e9"
   ]
  },
  {
   "cell_type": "markdown",
   "metadata": {},
   "source": [
    "This expression computes the elementwise differences between the series, then divides through by the UN value to produce relative errors, then finds the largest element.\n",
    "\n",
    "So the largest relative error between the estimates is about 1.3%."
   ]
  },
  {
   "cell_type": "code",
   "execution_count": 20,
   "metadata": {
    "collapsed": true
   },
   "outputs": [],
   "source": [
    "max(abs(census - un) / un) * 100"
   ]
  },
  {
   "cell_type": "markdown",
   "metadata": {},
   "source": [
    "**Exercise:** Break down that expression into smaller steps and display the intermediate results, to make sure you understand how it works.\n",
    "\n",
    "Where in the series is the largest relative error between the two estimates, near the beginning or the end?\n",
    "\n",
    "When I computed relative errors, I used `un` as the denominator.  But that was an arbitraty choice.  What happens if we use `census` instead?  How much difference does it make."
   ]
  },
  {
   "cell_type": "code",
   "execution_count": 21,
   "metadata": {
    "collapsed": true,
    "scrolled": true
   },
   "outputs": [],
   "source": [
    "# Solution goes here"
   ]
  },
  {
   "cell_type": "code",
   "execution_count": 22,
   "metadata": {
    "collapsed": true,
    "scrolled": true
   },
   "outputs": [],
   "source": [
    "# Solution goes here"
   ]
  },
  {
   "cell_type": "code",
   "execution_count": 23,
   "metadata": {
    "collapsed": true,
    "scrolled": true
   },
   "outputs": [],
   "source": [
    "# Solution goes here"
   ]
  },
  {
   "cell_type": "code",
   "execution_count": 24,
   "metadata": {
    "collapsed": true
   },
   "outputs": [],
   "source": [
    "# Solution goes here"
   ]
  },
  {
   "cell_type": "markdown",
   "metadata": {},
   "source": [
    "### Constant growth"
   ]
  },
  {
   "cell_type": "markdown",
   "metadata": {},
   "source": [
    "We can select an element from a series using bracket notation and one of the elements from the index.  Here's the first element:"
   ]
  },
  {
   "cell_type": "code",
   "execution_count": 25,
   "metadata": {
    "collapsed": true
   },
   "outputs": [],
   "source": [
    "census[1950]"
   ]
  },
  {
   "cell_type": "markdown",
   "metadata": {},
   "source": [
    "And the last element."
   ]
  },
  {
   "cell_type": "code",
   "execution_count": 26,
   "metadata": {
    "collapsed": true
   },
   "outputs": [],
   "source": [
    "census[2015]"
   ]
  },
  {
   "cell_type": "markdown",
   "metadata": {},
   "source": [
    "But we can get the first and last years from the index itself:"
   ]
  },
  {
   "cell_type": "code",
   "execution_count": 27,
   "metadata": {
    "collapsed": true
   },
   "outputs": [],
   "source": [
    "first_year = census.index[0]\n",
    "last_year = census.index[-1]\n",
    "first_year, last_year"
   ]
  },
  {
   "cell_type": "markdown",
   "metadata": {},
   "source": [
    "And use them to look up the first and last elements.\n",
    "\n",
    "Then we can compute the average annual growth in billions of people per year."
   ]
  },
  {
   "cell_type": "code",
   "execution_count": 28,
   "metadata": {
    "collapsed": true
   },
   "outputs": [],
   "source": [
    "total_growth = census[last_year] - census[first_year]\n",
    "elapsed_time = last_year - first_year\n",
    "annual_growth = total_growth / elapsed_time\n",
    "annual_growth"
   ]
  },
  {
   "cell_type": "markdown",
   "metadata": {},
   "source": [
    "Now let's create a `TimeSeries` to contain values generated by a linear growth model."
   ]
  },
  {
   "cell_type": "code",
   "execution_count": 29,
   "metadata": {
    "collapsed": true
   },
   "outputs": [],
   "source": [
    "results = TimeSeries()"
   ]
  },
  {
   "cell_type": "markdown",
   "metadata": {},
   "source": [
    "Initially the Series is empty, but we can initialize it so the starting value, in 1950, is the 1950 population estimated by the US Census."
   ]
  },
  {
   "cell_type": "code",
   "execution_count": 30,
   "metadata": {
    "collapsed": true
   },
   "outputs": [],
   "source": [
    "results[1950] = census[1950]\n",
    "results"
   ]
  },
  {
   "cell_type": "markdown",
   "metadata": {},
   "source": [
    "After that, the population in the model grows by a constant amount each year."
   ]
  },
  {
   "cell_type": "code",
   "execution_count": 31,
   "metadata": {
    "collapsed": true
   },
   "outputs": [],
   "source": [
    "for t in linrange(1950, 2015):\n",
    "    results[t+1] = results[t] + annual_growth"
   ]
  },
  {
   "cell_type": "markdown",
   "metadata": {},
   "source": [
    "Here's what the results looks like, compared to the actual data."
   ]
  },
  {
   "cell_type": "code",
   "execution_count": 32,
   "metadata": {
    "collapsed": true
   },
   "outputs": [],
   "source": [
    "newfig()\n",
    "plot_estimates(table2)\n",
    "plot(results, '--', color='gray', label='model')\n",
    "decorate(xlabel='Year', ylabel='World population (billion)')\n",
    "savefig('chap03-fig02.pdf')"
   ]
  },
  {
   "cell_type": "markdown",
   "metadata": {},
   "source": [
    "The model fits the data pretty well after 1990, but not so well before."
   ]
  },
  {
   "cell_type": "markdown",
   "metadata": {},
   "source": [
    "**Exercise:**  Try fitting the model using data from 1970 to the present, and see if that does a better job.\n",
    "\n",
    "Hint: Copy the code from above and make a few changes.\n",
    "\n",
    "Make sure your model starts in 1950, even though the estimated annual growth is based on later data.  You might have to shift the first value in the series up or down to match the data."
   ]
  },
  {
   "cell_type": "code",
   "execution_count": 33,
   "metadata": {
    "collapsed": true
   },
   "outputs": [],
   "source": [
    "# Solution goes here"
   ]
  },
  {
   "cell_type": "markdown",
   "metadata": {},
   "source": [
    "### Now with system objects"
   ]
  },
  {
   "cell_type": "markdown",
   "metadata": {},
   "source": [
    "We can rewrite the code from the previous section using system objects."
   ]
  },
  {
   "cell_type": "code",
   "execution_count": 34,
   "metadata": {
    "collapsed": true
   },
   "outputs": [],
   "source": [
    "t0 = census.index[0]\n",
    "t_end = census.index[-1]\n",
    "total_growth = census[t_end] - census[t0]\n",
    "elapsed_time = t_end - t0\n",
    "annual_growth = total_growth / elapsed_time"
   ]
  },
  {
   "cell_type": "markdown",
   "metadata": {},
   "source": [
    "Here's the system object."
   ]
  },
  {
   "cell_type": "code",
   "execution_count": 35,
   "metadata": {
    "collapsed": true
   },
   "outputs": [],
   "source": [
    "system = System(t0=t0, \n",
    "                t_end=t_end,\n",
    "                p0=census[t0],\n",
    "                annual_growth=annual_growth)"
   ]
  },
  {
   "cell_type": "markdown",
   "metadata": {},
   "source": [
    "And we can encapsulate the code tha runs the model in a function that stores the resulting Series as a new system variable."
   ]
  },
  {
   "cell_type": "code",
   "execution_count": 36,
   "metadata": {
    "collapsed": true
   },
   "outputs": [],
   "source": [
    "def run_simulation1(system):\n",
    "    \"\"\"Runs the constant growth model.\n",
    "    \n",
    "    Adds TimeSeries to `system` as `results`.\n",
    "    \n",
    "    system: system object\n",
    "    \"\"\"\n",
    "    results = TimeSeries()\n",
    "    results[system.t0] = system.p0\n",
    "    for t in linrange(system.t0, system.t_end):\n",
    "        results[t+1] = results[t] + system.annual_growth\n",
    "    system.results = results"
   ]
  },
  {
   "cell_type": "markdown",
   "metadata": {},
   "source": [
    "We can also encapsulate the code that plots the results."
   ]
  },
  {
   "cell_type": "code",
   "execution_count": 37,
   "metadata": {
    "collapsed": true
   },
   "outputs": [],
   "source": [
    "def plot_results(system, title=None):\n",
    "    \"\"\"Plot the estimates and the model.\n",
    "    \n",
    "    system: System object with `results`\n",
    "    \"\"\"\n",
    "    newfig()\n",
    "    plot_estimates(table2)\n",
    "    plot(system.results, '--', color='gray', label='model')\n",
    "    decorate(xlabel='Year', \n",
    "             ylabel='World population (billion)',\n",
    "             title=title)"
   ]
  },
  {
   "cell_type": "markdown",
   "metadata": {},
   "source": [
    "Here's how we run it."
   ]
  },
  {
   "cell_type": "code",
   "execution_count": 38,
   "metadata": {
    "collapsed": true
   },
   "outputs": [],
   "source": [
    "run_simulation1(system)\n",
    "plot_results(system, title='Constant growth model')"
   ]
  },
  {
   "cell_type": "markdown",
   "metadata": {},
   "source": [
    "`plot_results` uses `decorate`, which takes parameters that specify the title of the figure, labels for the $x$ and $y$ axis, and limits for the axes.  To read the documentation of `decorate`, run the cells below."
   ]
  },
  {
   "cell_type": "code",
   "execution_count": 39,
   "metadata": {
    "collapsed": true
   },
   "outputs": [],
   "source": [
    "help(decorate)"
   ]
  },
  {
   "cell_type": "code",
   "execution_count": 40,
   "metadata": {
    "collapsed": true,
    "scrolled": true
   },
   "outputs": [],
   "source": [
    "plt.getp(plt.gca())"
   ]
  },
  {
   "cell_type": "markdown",
   "metadata": {},
   "source": [
    "**Exercise:** The constant growth model doesn't make a lot of sense, because it seems like the number of deaths and births should depend on the size of the population.  As a small improvement, let's write a version of `run_simulation1` where the number of deaths is proportional to the size of the population, but the number of births is constant.  This model doesn't make a lot of sense, either, but it's a good exercise.\n",
    "\n",
    "Write a function called `run_simulation1b` that implements a model where the number of births is constant, but the number of deaths is proportional to the current size of the population.  Set the death rate to `0.01`, which means that 1% of the population dies each year; then choose the number of annual births to make the model fit the data as well as you can.\n",
    "\n",
    "Hint: It probably won't fit very well."
   ]
  },
  {
   "cell_type": "code",
   "execution_count": 41,
   "metadata": {
    "collapsed": true
   },
   "outputs": [],
   "source": [
    "# Solution goes here"
   ]
  },
  {
   "cell_type": "code",
   "execution_count": 42,
   "metadata": {
    "collapsed": true
   },
   "outputs": [],
   "source": [
    "# Solution goes here"
   ]
  },
  {
   "cell_type": "markdown",
   "metadata": {},
   "source": [
    "## Proportional death, proportional birth"
   ]
  },
  {
   "cell_type": "markdown",
   "metadata": {},
   "source": [
    "Now let's get to a more realistic model where the number of births and deaths is proportional to the current population."
   ]
  },
  {
   "cell_type": "code",
   "execution_count": 43,
   "metadata": {
    "collapsed": true
   },
   "outputs": [],
   "source": [
    "def run_simulation2(system):\n",
    "    \"\"\"Runs the constant growth model.\n",
    "    \n",
    "    Adds TimeSeries to `system` as `results`.\n",
    "    \n",
    "    system: system object\n",
    "    \"\"\"\n",
    "    results = TimeSeries()\n",
    "    results[system.t0] = system.p0\n",
    "    for t in linrange(system.t0, system.t_end):\n",
    "        births = system.birth_rate * results[t]\n",
    "        deaths = system.death_rate * results[t]\n",
    "        results[t+1] = results[t] + births - deaths\n",
    "    system.results = results"
   ]
  },
  {
   "cell_type": "markdown",
   "metadata": {},
   "source": [
    "I kept the death rate at 1% and chose the birth rate to fit the data."
   ]
  },
  {
   "cell_type": "code",
   "execution_count": 44,
   "metadata": {
    "collapsed": true
   },
   "outputs": [],
   "source": [
    "system.death_rate = 0.01\n",
    "system.birth_rate = 0.027"
   ]
  },
  {
   "cell_type": "markdown",
   "metadata": {},
   "source": [
    "Here's what it looks like."
   ]
  },
  {
   "cell_type": "code",
   "execution_count": 45,
   "metadata": {
    "collapsed": true
   },
   "outputs": [],
   "source": [
    "run_simulation2(system)\n",
    "plot_results(system, title='Proportional model')\n",
    "savefig('chap03-fig03.pdf')"
   ]
  },
  {
   "cell_type": "markdown",
   "metadata": {},
   "source": [
    "The model fits the data pretty well for the first 20 years, but not so well after that."
   ]
  },
  {
   "cell_type": "markdown",
   "metadata": {},
   "source": [
    "**Exercise:** In this implementation, we compute the number of deaths and births separately, but since they are both proportional to the current population, we can combine them.\n",
    "\n",
    "Write a function called `run_simulation2b` that implements a model with a single parameter, `alpha`, that represents the net growth rate, which is the difference between the birth and death rates.  For example, if `alpha=0.01`, the population should grow by 1% per year.\n",
    "\n",
    "Choose the value of `alpha` that fits the data best."
   ]
  },
  {
   "cell_type": "code",
   "execution_count": 46,
   "metadata": {
    "collapsed": true
   },
   "outputs": [],
   "source": [
    "# Solution goes here"
   ]
  },
  {
   "cell_type": "code",
   "execution_count": 47,
   "metadata": {
    "collapsed": true
   },
   "outputs": [],
   "source": [
    "# Solution goes here"
   ]
  },
  {
   "cell_type": "markdown",
   "metadata": {},
   "source": [
    "### Factoring out the update function"
   ]
  },
  {
   "cell_type": "markdown",
   "metadata": {},
   "source": [
    "The functions that run the model all look the same except the body of the loop.  So we can factor that part out into a function."
   ]
  },
  {
   "cell_type": "code",
   "execution_count": 48,
   "metadata": {
    "collapsed": true
   },
   "outputs": [],
   "source": [
    "def update_func1(pop, t, system):\n",
    "    \"\"\"Compute the population next year.\n",
    "    \n",
    "    pop: current population\n",
    "    t: current year\n",
    "    system: system object containing parameters of the model\n",
    "    \n",
    "    returns: population next year\n",
    "    \"\"\"\n",
    "    births = system.birth_rate * pop\n",
    "    deaths = system.death_rate * pop\n",
    "    return pop + births - deaths"
   ]
  },
  {
   "cell_type": "markdown",
   "metadata": {},
   "source": [
    "Now the name `update_func1` refers to a function object."
   ]
  },
  {
   "cell_type": "code",
   "execution_count": 49,
   "metadata": {
    "collapsed": true
   },
   "outputs": [],
   "source": [
    "update_func1"
   ]
  },
  {
   "cell_type": "markdown",
   "metadata": {},
   "source": [
    "Which we can confirm by checking its type."
   ]
  },
  {
   "cell_type": "code",
   "execution_count": 50,
   "metadata": {
    "collapsed": true
   },
   "outputs": [],
   "source": [
    "type(update_func1)"
   ]
  },
  {
   "cell_type": "markdown",
   "metadata": {},
   "source": [
    "`run_simulation` takes the update function as a parameter and calls it just like any other function."
   ]
  },
  {
   "cell_type": "code",
   "execution_count": 51,
   "metadata": {
    "collapsed": true
   },
   "outputs": [],
   "source": [
    "def run_simulation(system, update_func):\n",
    "    \"\"\"Simulate the system using any update function.\n",
    "    \n",
    "    Adds TimeSeries to `system` as `results`.\n",
    "\n",
    "    system: System object\n",
    "    update_func: function that computes the population next year\n",
    "    \"\"\"\n",
    "    results = TimeSeries()\n",
    "    results[system.t0] = system.p0\n",
    "    for t in linrange(system.t0, system.t_end):\n",
    "        results[t+1] = update_func(results[t], t, system)\n",
    "    system.results = results"
   ]
  },
  {
   "cell_type": "markdown",
   "metadata": {},
   "source": [
    "Here's how we use it."
   ]
  },
  {
   "cell_type": "code",
   "execution_count": 52,
   "metadata": {
    "collapsed": true
   },
   "outputs": [],
   "source": [
    "run_simulation(system, update_func1)"
   ]
  },
  {
   "cell_type": "markdown",
   "metadata": {},
   "source": [
    "Remember not to put parentheses after `update_func1`.  What happens if you try?"
   ]
  },
  {
   "cell_type": "code",
   "execution_count": 53,
   "metadata": {
    "collapsed": true
   },
   "outputs": [],
   "source": [
    "plot_results(system, title='Proportional model, factored')"
   ]
  },
  {
   "cell_type": "markdown",
   "metadata": {},
   "source": [
    "**Exercise:** When you run `run_simulation`, it runs `update_func1` once for each year between `t0` and `t_end`.  To see that for yourself, add a print statement at the beginning of `update_func1` that prints the values of `t` and `pop`, then run `run_simulation` again."
   ]
  },
  {
   "cell_type": "markdown",
   "metadata": {},
   "source": [
    "### Combining birth and death"
   ]
  },
  {
   "cell_type": "markdown",
   "metadata": {},
   "source": [
    "Since births and deaths get added up, we don't have to compute them separately.  We can combine the birth and death rates into a single net growth rate."
   ]
  },
  {
   "cell_type": "code",
   "execution_count": 54,
   "metadata": {
    "collapsed": true
   },
   "outputs": [],
   "source": [
    "def update_func1b(pop, t, system):\n",
    "    \"\"\"Compute the population next year.\n",
    "    \n",
    "    pop: current population\n",
    "    t: current year\n",
    "    system: system object containing parameters of the model\n",
    "    \n",
    "    returns: population next year\n",
    "    \"\"\"\n",
    "    net_growth = system.alpha  * pop\n",
    "    return pop + net_growth"
   ]
  },
  {
   "cell_type": "markdown",
   "metadata": {},
   "source": [
    "Here's how it works:"
   ]
  },
  {
   "cell_type": "code",
   "execution_count": 55,
   "metadata": {
    "collapsed": true
   },
   "outputs": [],
   "source": [
    "system.alpha = system.birth_rate - system.death_rate\n",
    "\n",
    "run_simulation(system, update_func1b)\n",
    "plot_results(system, title='Proportional model, combined birth and death')"
   ]
  },
  {
   "cell_type": "markdown",
   "metadata": {},
   "source": [
    "**Exercise:** Maybe the reason the proportional model doesn't work very well is that the growth rate, `alpha`, might be changing over time.  So let's try a model with different growth rates before and after 1980 (as an arbitrary choice).\n",
    "\n",
    "Write a function called `update_func1c` that takes `pop`, `t`, and `system` as parameters.  The system object, `system`, should contains two parameters: the growth rate before 1980, `alpha1`, and the growth rate after 1980, `alpha2`.  It should compute and return the simulated population one year later.\n",
    "\n",
    "Note: Don't forget the `return` statement."
   ]
  },
  {
   "cell_type": "code",
   "execution_count": 56,
   "metadata": {
    "collapsed": true,
    "scrolled": false
   },
   "outputs": [],
   "source": [
    "# Solution goes here"
   ]
  },
  {
   "cell_type": "code",
   "execution_count": 57,
   "metadata": {
    "collapsed": true
   },
   "outputs": [],
   "source": [
    "# Solution goes here"
   ]
  },
  {
   "cell_type": "markdown",
   "metadata": {},
   "source": [
    "### Quadratic growth"
   ]
  },
  {
   "cell_type": "markdown",
   "metadata": {},
   "source": [
    "Here's the implementation of the quadratic growth model."
   ]
  },
  {
   "cell_type": "code",
   "execution_count": 58,
   "metadata": {
    "collapsed": true
   },
   "outputs": [],
   "source": [
    "def update_func2(pop, t, system):\n",
    "    \"\"\"Compute the population next year.\n",
    "    \n",
    "    pop: current population\n",
    "    t: current year\n",
    "    system: system object containing parameters of the model\n",
    "    \n",
    "    returns: population next year\n",
    "    \"\"\"\n",
    "    net_growth = system.alpha * pop + system.beta * pop**2\n",
    "    return pop + net_growth"
   ]
  },
  {
   "cell_type": "markdown",
   "metadata": {},
   "source": [
    "And here are the results.  Can you find values for the parameters that make the model fit better?"
   ]
  },
  {
   "cell_type": "code",
   "execution_count": 59,
   "metadata": {
    "collapsed": true
   },
   "outputs": [],
   "source": [
    "system.alpha = 0.025\n",
    "system.beta = -0.0018\n",
    "\n",
    "run_simulation(system, update_func2)\n",
    "plot_results(system, title='Quadratic model')\n",
    "savefig('chap03-fig04.pdf')"
   ]
  },
  {
   "cell_type": "markdown",
   "metadata": {},
   "source": [
    "To understand the quadratic model better, let's plot net growth as a function of population."
   ]
  },
  {
   "cell_type": "code",
   "execution_count": 60,
   "metadata": {
    "collapsed": true
   },
   "outputs": [],
   "source": [
    "pop_array = linspace(0.001, 15, 100)\n",
    "net_growth_array = system.alpha * pop_array + system.beta * pop_array**2"
   ]
  },
  {
   "cell_type": "markdown",
   "metadata": {},
   "source": [
    "Here's what it looks like.  Remember that the x axis is population now, not time.\n",
    "\n",
    "The function `sns.set` sets the style for the plots.  I added a grid to this one to make it easier to read."
   ]
  },
  {
   "cell_type": "code",
   "execution_count": 61,
   "metadata": {
    "collapsed": true
   },
   "outputs": [],
   "source": [
    "newfig()\n",
    "sns.set(style='whitegrid', font_scale=1.5)\n",
    "plot(pop_array, net_growth_array, '-')\n",
    "decorate(xlabel='Population (billions)',\n",
    "         ylabel='Net growth (billions)',\n",
    "         legend=False)\n",
    "savefig('chap03-fig05.pdf')"
   ]
  },
  {
   "cell_type": "markdown",
   "metadata": {},
   "source": [
    "Using `sns.set` to reset the plot style."
   ]
  },
  {
   "cell_type": "code",
   "execution_count": 62,
   "metadata": {
    "collapsed": true
   },
   "outputs": [],
   "source": [
    "sns.set(style='white', font_scale=1.5)"
   ]
  },
  {
   "cell_type": "markdown",
   "metadata": {},
   "source": [
    "In the book we found that the net growth is 0 when the population is $-\\alpha/\\beta$:"
   ]
  },
  {
   "cell_type": "code",
   "execution_count": 63,
   "metadata": {
    "collapsed": true
   },
   "outputs": [],
   "source": [
    "-system.alpha / system.beta"
   ]
  },
  {
   "cell_type": "markdown",
   "metadata": {},
   "source": [
    "This is the equilibrium the population tends toward."
   ]
  },
  {
   "cell_type": "markdown",
   "metadata": {},
   "source": [
    "**Exercise:** In the book, I presented a different way to parameterize the quadratic model:\n",
    "\n",
    "$ \\Delta p = r p (1 - p / K) $\n",
    "\n",
    "where $r=\\alpha$ and $K=-\\alpha/\\beta$.  Write a version of `update_func2` that implements this version of the model.  Test it by computing system variables `r` and `K` equivalent to `alpha` and `beta`, and confirm that you get the same results. "
   ]
  },
  {
   "cell_type": "code",
   "execution_count": 64,
   "metadata": {
    "collapsed": true
   },
   "outputs": [],
   "source": [
    "# Solution goes here"
   ]
  },
  {
   "cell_type": "code",
   "execution_count": 65,
   "metadata": {
    "collapsed": true
   },
   "outputs": [],
   "source": [
    "# Solution goes here"
   ]
  },
  {
   "cell_type": "code",
   "execution_count": 66,
   "metadata": {
    "collapsed": true
   },
   "outputs": [],
   "source": [
    "# Solution goes here"
   ]
  },
  {
   "cell_type": "markdown",
   "metadata": {},
   "source": [
    "**Exercise:** On the Wikipedia page about world population estimates, the first table contains estimates for prehistoric populations.  The following cells process this table and plot some of the results."
   ]
  },
  {
   "cell_type": "markdown",
   "metadata": {},
   "source": [
    "Select `table1`, which is the second table on the page."
   ]
  },
  {
   "cell_type": "code",
   "execution_count": 67,
   "metadata": {
    "collapsed": true
   },
   "outputs": [],
   "source": [
    "table1 = tables[1]\n",
    "table1.head()"
   ]
  },
  {
   "cell_type": "markdown",
   "metadata": {},
   "source": [
    "Not all agencies and researchers provided estimates for the same dates.  Again `NaN` is the special value that indicates missing data."
   ]
  },
  {
   "cell_type": "code",
   "execution_count": 68,
   "metadata": {
    "collapsed": true
   },
   "outputs": [],
   "source": [
    "table1.tail()"
   ]
  },
  {
   "cell_type": "markdown",
   "metadata": {},
   "source": [
    "Some of the estimates are in a form we can't read as numbers.  We could clean them up by hand, but for simplicity I'll replace any value that has an `M` in it with `NaN`."
   ]
  },
  {
   "cell_type": "code",
   "execution_count": 69,
   "metadata": {
    "collapsed": true
   },
   "outputs": [],
   "source": [
    "table1.replace('M', np.nan, regex=True, inplace=True)"
   ]
  },
  {
   "cell_type": "markdown",
   "metadata": {},
   "source": [
    "Again, we'll replace the long column names with more convenient abbreviations."
   ]
  },
  {
   "cell_type": "code",
   "execution_count": 70,
   "metadata": {
    "collapsed": true
   },
   "outputs": [],
   "source": [
    "table1.columns = ['prb', 'un', 'maddison', 'hyde', 'tanton', \n",
    "                  'biraben', 'mj', 'thomlinson', 'durand', 'clark']"
   ]
  },
  {
   "cell_type": "markdown",
   "metadata": {},
   "source": [
    "This function plots selected estimates."
   ]
  },
  {
   "cell_type": "code",
   "execution_count": 71,
   "metadata": {
    "collapsed": true
   },
   "outputs": [],
   "source": [
    "def plot_prehistory(table):\n",
    "    \"\"\"Plots population estimates.\n",
    "    \n",
    "    table: DataFrame\n",
    "    \"\"\"\n",
    "    plot(table.prb, 'ro', label='PRB')\n",
    "    plot(table.un, 'co', label='UN')\n",
    "    plot(table.hyde, 'yo', label='HYDE')\n",
    "    plot(table.tanton, 'go', label='Tanton')\n",
    "    plot(table.biraben, 'bo', label='Biraben')\n",
    "    plot(table.mj, 'mo', label='McEvedy & Jones')"
   ]
  },
  {
   "cell_type": "markdown",
   "metadata": {},
   "source": [
    "Here are the results.  Notice that we are working in millions now, not billions."
   ]
  },
  {
   "cell_type": "code",
   "execution_count": 72,
   "metadata": {
    "collapsed": true,
    "scrolled": false
   },
   "outputs": [],
   "source": [
    "newfig()\n",
    "plot_prehistory(table1)\n",
    "decorate(xlabel='Year', \n",
    "         ylabel='World population (millions)',\n",
    "         title='Prehistorical population estimates')"
   ]
  },
  {
   "cell_type": "markdown",
   "metadata": {},
   "source": [
    "We can use `xlim` to zoom in on everything after Year 0."
   ]
  },
  {
   "cell_type": "code",
   "execution_count": 73,
   "metadata": {
    "collapsed": true
   },
   "outputs": [],
   "source": [
    "newfig()\n",
    "plot_prehistory(table1)\n",
    "decorate(xlim=[0, 2000], xlabel='Year', \n",
    "         ylabel='World population (millions)',\n",
    "         title='Prehistorical population estimates')"
   ]
  },
  {
   "cell_type": "markdown",
   "metadata": {},
   "source": [
    "See if you can find a model that fits these data well from Year -1000 to 1940, or from Year 0 to 1940.\n",
    "\n",
    "How well does your best model predict actual population growth from 1950 to the present?"
   ]
  },
  {
   "cell_type": "code",
   "execution_count": 74,
   "metadata": {
    "collapsed": true
   },
   "outputs": [],
   "source": [
    "# Solution goes here"
   ]
  },
  {
   "cell_type": "code",
   "execution_count": 75,
   "metadata": {
    "collapsed": true
   },
   "outputs": [],
   "source": [
    "# Solution goes here"
   ]
  },
  {
   "cell_type": "code",
   "execution_count": 76,
   "metadata": {
    "collapsed": true
   },
   "outputs": [],
   "source": [
    "# Solution goes here"
   ]
  },
  {
   "cell_type": "markdown",
   "metadata": {
    "collapsed": true
   },
   "source": [
    "### Disfunctions"
   ]
  },
  {
   "cell_type": "code",
   "execution_count": 333,
   "metadata": {},
   "outputs": [
    {
     "name": "stdout",
     "output_type": "stream",
     "text": [
      "13.8888888889\n"
     ]
    }
   ],
   "source": [
    "def carrying_capacity(system):\n",
    "    K = -system.alpha / system.beta\n",
    "    return K\n",
    "    \n",
    "sys1 = System(alpha=0.025, beta=-0.0018)\n",
    "pop = carrying_capacity(sys1)\n",
    "print(pop)"
   ]
  },
  {
   "cell_type": "code",
   "execution_count": 334,
   "metadata": {},
   "outputs": [
    {
     "name": "stdout",
     "output_type": "stream",
     "text": [
      "13.8888888889\n"
     ]
    }
   ],
   "source": [
    "def carrying_capacity():\n",
    "    K = -system.alpha / system.beta\n",
    "    return K\n",
    "    \n",
    "system = System(alpha=0.025, beta=-0.0018)\n",
    "pop = carrying_capacity()\n",
    "print(pop)"
   ]
  },
  {
   "cell_type": "code",
   "execution_count": 335,
   "metadata": {},
   "outputs": [
    {
     "name": "stdout",
     "output_type": "stream",
     "text": [
      "13.8888888889\n"
     ]
    }
   ],
   "source": [
    "def carrying_capacity(system):\n",
    "    system = System(alpha=0.025, beta=-0.0018)\n",
    "    K = -system.alpha / system.beta\n",
    "    return K\n",
    "    \n",
    "sys1 = System(alpha=0.025, beta=-0.0018)\n",
    "pop = carrying_capacity(sys1)\n",
    "print(pop)"
   ]
  },
  {
   "cell_type": "code",
   "execution_count": 336,
   "metadata": {},
   "outputs": [
    {
     "name": "stdout",
     "output_type": "stream",
     "text": [
      "None\n"
     ]
    }
   ],
   "source": [
    "def carrying_capacity(system):\n",
    "    K = -system.alpha / system.beta\n",
    "    \n",
    "sys1 = System(alpha=0.025, beta=-0.0018)\n",
    "pop = carrying_capacity(sys1)\n",
    "print(pop)"
   ]
  },
  {
   "cell_type": "code",
   "execution_count": 337,
   "metadata": {},
   "outputs": [
    {
     "ename": "NameError",
     "evalue": "name 'K' is not defined",
     "output_type": "error",
     "traceback": [
      "\u001b[1;31m---------------------------------------------------------------------------\u001b[0m",
      "\u001b[1;31mNameError\u001b[0m                                 Traceback (most recent call last)",
      "\u001b[1;32m<ipython-input-337-f7ffbb8c97d4>\u001b[0m in \u001b[0;36m<module>\u001b[1;34m()\u001b[0m\n\u001b[0;32m      5\u001b[0m \u001b[0msys1\u001b[0m \u001b[1;33m=\u001b[0m \u001b[0mSystem\u001b[0m\u001b[1;33m(\u001b[0m\u001b[0malpha\u001b[0m\u001b[1;33m=\u001b[0m\u001b[1;36m0.025\u001b[0m\u001b[1;33m,\u001b[0m \u001b[0mbeta\u001b[0m\u001b[1;33m=\u001b[0m\u001b[1;33m-\u001b[0m\u001b[1;36m0.0018\u001b[0m\u001b[1;33m)\u001b[0m\u001b[1;33m\u001b[0m\u001b[0m\n\u001b[0;32m      6\u001b[0m \u001b[0mcarrying_capacity\u001b[0m\u001b[1;33m(\u001b[0m\u001b[0msys1\u001b[0m\u001b[1;33m)\u001b[0m\u001b[1;33m\u001b[0m\u001b[0m\n\u001b[1;32m----> 7\u001b[1;33m \u001b[0mprint\u001b[0m\u001b[1;33m(\u001b[0m\u001b[0mK\u001b[0m\u001b[1;33m)\u001b[0m\u001b[1;33m\u001b[0m\u001b[0m\n\u001b[0m",
      "\u001b[1;31mNameError\u001b[0m: name 'K' is not defined"
     ]
    }
   ],
   "source": [
    "def carrying_capacity(system):\n",
    "    K = -system.alpha / system.beta\n",
    "    return K\n",
    "    \n",
    "sys1 = System(alpha=0.025, beta=-0.0018)\n",
    "carrying_capacity(sys1)\n",
    "print(K)"
   ]
  },
  {
   "cell_type": "code",
   "execution_count": 473,
   "metadata": {},
   "outputs": [
    {
     "name": "stdout",
     "output_type": "stream",
     "text": [
      "          Domain Code        Domain  Area Code                      Area  \\\n",
      "Year Code                                                                  \n",
      "1961               QA  Live Animals      231.0  United States of America   \n",
      "1962               QA  Live Animals      231.0  United States of America   \n",
      "1963               QA  Live Animals      231.0  United States of America   \n",
      "1964               QA  Live Animals      231.0  United States of America   \n",
      "1965               QA  Live Animals      231.0  United States of America   \n",
      "1966               QA  Live Animals      231.0  United States of America   \n",
      "1967               QA  Live Animals      231.0  United States of America   \n",
      "1968               QA  Live Animals      231.0  United States of America   \n",
      "1969               QA  Live Animals      231.0  United States of America   \n",
      "1970               QA  Live Animals      231.0  United States of America   \n",
      "1971               QA  Live Animals      231.0  United States of America   \n",
      "1972               QA  Live Animals      231.0  United States of America   \n",
      "1973               QA  Live Animals      231.0  United States of America   \n",
      "1974               QA  Live Animals      231.0  United States of America   \n",
      "1975               QA  Live Animals      231.0  United States of America   \n",
      "1976               QA  Live Animals      231.0  United States of America   \n",
      "1977               QA  Live Animals      231.0  United States of America   \n",
      "1978               QA  Live Animals      231.0  United States of America   \n",
      "1979               QA  Live Animals      231.0  United States of America   \n",
      "1980               QA  Live Animals      231.0  United States of America   \n",
      "1981               QA  Live Animals      231.0  United States of America   \n",
      "1982               QA  Live Animals      231.0  United States of America   \n",
      "1983               QA  Live Animals      231.0  United States of America   \n",
      "1984               QA  Live Animals      231.0  United States of America   \n",
      "1985               QA  Live Animals      231.0  United States of America   \n",
      "1986               QA  Live Animals      231.0  United States of America   \n",
      "1987               QA  Live Animals      231.0  United States of America   \n",
      "1988               QA  Live Animals      231.0  United States of America   \n",
      "1989               QA  Live Animals      231.0  United States of America   \n",
      "1990               QA  Live Animals      231.0  United States of America   \n",
      "...               ...           ...        ...                       ...   \n",
      "2171              NaN           NaN        NaN                       NaN   \n",
      "2172              NaN           NaN        NaN                       NaN   \n",
      "2173              NaN           NaN        NaN                       NaN   \n",
      "2174              NaN           NaN        NaN                       NaN   \n",
      "2175              NaN           NaN        NaN                       NaN   \n",
      "2176              NaN           NaN        NaN                       NaN   \n",
      "2177              NaN           NaN        NaN                       NaN   \n",
      "2178              NaN           NaN        NaN                       NaN   \n",
      "2179              NaN           NaN        NaN                       NaN   \n",
      "2180              NaN           NaN        NaN                       NaN   \n",
      "2181              NaN           NaN        NaN                       NaN   \n",
      "2182              NaN           NaN        NaN                       NaN   \n",
      "2183              NaN           NaN        NaN                       NaN   \n",
      "2184              NaN           NaN        NaN                       NaN   \n",
      "2185              NaN           NaN        NaN                       NaN   \n",
      "2186              NaN           NaN        NaN                       NaN   \n",
      "2187              NaN           NaN        NaN                       NaN   \n",
      "2188              NaN           NaN        NaN                       NaN   \n",
      "2189              NaN           NaN        NaN                       NaN   \n",
      "2190              NaN           NaN        NaN                       NaN   \n",
      "2191              NaN           NaN        NaN                       NaN   \n",
      "2192              NaN           NaN        NaN                       NaN   \n",
      "2193              NaN           NaN        NaN                       NaN   \n",
      "2194              NaN           NaN        NaN                       NaN   \n",
      "2195              NaN           NaN        NaN                       NaN   \n",
      "2196              NaN           NaN        NaN                       NaN   \n",
      "2197              NaN           NaN        NaN                       NaN   \n",
      "2198              NaN           NaN        NaN                       NaN   \n",
      "2199              NaN           NaN        NaN                       NaN   \n",
      "2200              NaN           NaN        NaN                       NaN   \n",
      "\n",
      "           Element Code Element  Item Code      Item    Year Unit      Value  \\\n",
      "Year Code                                                                      \n",
      "1961             5114.0  Stocks     1181.0  Beehives  1961.0   No  5514000.0   \n",
      "1962             5114.0  Stocks     1181.0  Beehives  1962.0   No  5506000.0   \n",
      "1963             5114.0  Stocks     1181.0  Beehives  1963.0   No  5528000.0   \n",
      "1964             5114.0  Stocks     1181.0  Beehives  1964.0   No  5601000.0   \n",
      "1965             5114.0  Stocks     1181.0  Beehives  1965.0   No  4718000.0   \n",
      "1966             5114.0  Stocks     1181.0  Beehives  1966.0   No  4646000.0   \n",
      "1967             5114.0  Stocks     1181.0  Beehives  1967.0   No  4635000.0   \n",
      "1968             5114.0  Stocks     1181.0  Beehives  1968.0   No  4539000.0   \n",
      "1969             5114.0  Stocks     1181.0  Beehives  1969.0   No  4433000.0   \n",
      "1970             5114.0  Stocks     1181.0  Beehives  1970.0   No  4634000.0   \n",
      "1971             5114.0  Stocks     1181.0  Beehives  1971.0   No  4107000.0   \n",
      "1972             5114.0  Stocks     1181.0  Beehives  1972.0   No  4085000.0   \n",
      "1973             5114.0  Stocks     1181.0  Beehives  1973.0   No  4124000.0   \n",
      "1974             5114.0  Stocks     1181.0  Beehives  1974.0   No  4210000.0   \n",
      "1975             5114.0  Stocks     1181.0  Beehives  1975.0   No  4206000.0   \n",
      "1976             5114.0  Stocks     1181.0  Beehives  1976.0   No  4269000.0   \n",
      "1977             5114.0  Stocks     1181.0  Beehives  1977.0   No  4323000.0   \n",
      "1978             5114.0  Stocks     1181.0  Beehives  1978.0   No  4090000.0   \n",
      "1979             5114.0  Stocks     1181.0  Beehives  1979.0   No  4163000.0   \n",
      "1980             5114.0  Stocks     1181.0  Beehives  1980.0   No  4141000.0   \n",
      "1981             5114.0  Stocks     1181.0  Beehives  1981.0   No  4213000.0   \n",
      "1982             5114.0  Stocks     1181.0  Beehives  1982.0   No  4250000.0   \n",
      "1983             5114.0  Stocks     1181.0  Beehives  1983.0   No  4275000.0   \n",
      "1984             5114.0  Stocks     1181.0  Beehives  1984.0   No  4300000.0   \n",
      "1985             5114.0  Stocks     1181.0  Beehives  1985.0   No  4325000.0   \n",
      "1986             5114.0  Stocks     1181.0  Beehives  1986.0   No  3205000.0   \n",
      "1987             5114.0  Stocks     1181.0  Beehives  1987.0   No  3190000.0   \n",
      "1988             5114.0  Stocks     1181.0  Beehives  1988.0   No  3219000.0   \n",
      "1989             5114.0  Stocks     1181.0  Beehives  1989.0   No  3443000.0   \n",
      "1990             5114.0  Stocks     1181.0  Beehives  1990.0   No  3210000.0   \n",
      "...                 ...     ...        ...       ...     ...  ...        ...   \n",
      "2171                NaN     NaN        NaN       NaN     NaN  NaN        NaN   \n",
      "2172                NaN     NaN        NaN       NaN     NaN  NaN        NaN   \n",
      "2173                NaN     NaN        NaN       NaN     NaN  NaN        NaN   \n",
      "2174                NaN     NaN        NaN       NaN     NaN  NaN        NaN   \n",
      "2175                NaN     NaN        NaN       NaN     NaN  NaN        NaN   \n",
      "2176                NaN     NaN        NaN       NaN     NaN  NaN        NaN   \n",
      "2177                NaN     NaN        NaN       NaN     NaN  NaN        NaN   \n",
      "2178                NaN     NaN        NaN       NaN     NaN  NaN        NaN   \n",
      "2179                NaN     NaN        NaN       NaN     NaN  NaN        NaN   \n",
      "2180                NaN     NaN        NaN       NaN     NaN  NaN        NaN   \n",
      "2181                NaN     NaN        NaN       NaN     NaN  NaN        NaN   \n",
      "2182                NaN     NaN        NaN       NaN     NaN  NaN        NaN   \n",
      "2183                NaN     NaN        NaN       NaN     NaN  NaN        NaN   \n",
      "2184                NaN     NaN        NaN       NaN     NaN  NaN        NaN   \n",
      "2185                NaN     NaN        NaN       NaN     NaN  NaN        NaN   \n",
      "2186                NaN     NaN        NaN       NaN     NaN  NaN        NaN   \n",
      "2187                NaN     NaN        NaN       NaN     NaN  NaN        NaN   \n",
      "2188                NaN     NaN        NaN       NaN     NaN  NaN        NaN   \n",
      "2189                NaN     NaN        NaN       NaN     NaN  NaN        NaN   \n",
      "2190                NaN     NaN        NaN       NaN     NaN  NaN        NaN   \n",
      "2191                NaN     NaN        NaN       NaN     NaN  NaN        NaN   \n",
      "2192                NaN     NaN        NaN       NaN     NaN  NaN        NaN   \n",
      "2193                NaN     NaN        NaN       NaN     NaN  NaN        NaN   \n",
      "2194                NaN     NaN        NaN       NaN     NaN  NaN        NaN   \n",
      "2195                NaN     NaN        NaN       NaN     NaN  NaN        NaN   \n",
      "2196                NaN     NaN        NaN       NaN     NaN  NaN        NaN   \n",
      "2197                NaN     NaN        NaN       NaN     NaN  NaN        NaN   \n",
      "2198                NaN     NaN        NaN       NaN     NaN  NaN        NaN   \n",
      "2199                NaN     NaN        NaN       NaN     NaN  NaN        NaN   \n",
      "2200                NaN     NaN        NaN       NaN     NaN  NaN        NaN   \n",
      "\n",
      "           Flag Flag Description  \n",
      "Year Code                         \n",
      "1961        NaN    Official data  \n",
      "1962        NaN    Official data  \n",
      "1963        NaN    Official data  \n",
      "1964        NaN    Official data  \n",
      "1965        NaN    Official data  \n",
      "1966        NaN    Official data  \n",
      "1967        NaN    Official data  \n",
      "1968        NaN    Official data  \n",
      "1969        NaN    Official data  \n",
      "1970        NaN    Official data  \n",
      "1971        NaN    Official data  \n",
      "1972        NaN    Official data  \n",
      "1973        NaN    Official data  \n",
      "1974        NaN    Official data  \n",
      "1975        NaN    Official data  \n",
      "1976        NaN    Official data  \n",
      "1977        NaN    Official data  \n",
      "1978        NaN    Official data  \n",
      "1979        NaN    Official data  \n",
      "1980        NaN    Official data  \n",
      "1981        NaN    Official data  \n",
      "1982        NaN    Official data  \n",
      "1983        NaN    Official data  \n",
      "1984        NaN    Official data  \n",
      "1985        NaN    Official data  \n",
      "1986        NaN    Official data  \n",
      "1987        NaN    Official data  \n",
      "1988        NaN    Official data  \n",
      "1989        NaN    Official data  \n",
      "1990        NaN    Official data  \n",
      "...         ...              ...  \n",
      "2171        NaN              NaN  \n",
      "2172        NaN              NaN  \n",
      "2173        NaN              NaN  \n",
      "2174        NaN              NaN  \n",
      "2175        NaN              NaN  \n",
      "2176        NaN              NaN  \n",
      "2177        NaN              NaN  \n",
      "2178        NaN              NaN  \n",
      "2179        NaN              NaN  \n",
      "2180        NaN              NaN  \n",
      "2181        NaN              NaN  \n",
      "2182        NaN              NaN  \n",
      "2183        NaN              NaN  \n",
      "2184        NaN              NaN  \n",
      "2185        NaN              NaN  \n",
      "2186        NaN              NaN  \n",
      "2187        NaN              NaN  \n",
      "2188        NaN              NaN  \n",
      "2189        NaN              NaN  \n",
      "2190        NaN              NaN  \n",
      "2191        NaN              NaN  \n",
      "2192        NaN              NaN  \n",
      "2193        NaN              NaN  \n",
      "2194        NaN              NaN  \n",
      "2195        NaN              NaN  \n",
      "2196        NaN              NaN  \n",
      "2197        NaN              NaN  \n",
      "2198        NaN              NaN  \n",
      "2199        NaN              NaN  \n",
      "2200        NaN              NaN  \n",
      "\n",
      "[240 rows x 13 columns]\n"
     ]
    }
   ],
   "source": [
    "from pandas import read_csv\n",
    "\n",
    "filename = 'bees.csv'\n",
    "tables = read_csv(filename, header=0, index_col=8)\n",
    "\n",
    "print(tables)\n",
    "\n"
   ]
  },
  {
   "cell_type": "code",
   "execution_count": 474,
   "metadata": {},
   "outputs": [
    {
     "data": {
      "text/html": [
       "<div>\n",
       "<style>\n",
       "    .dataframe thead tr:only-child th {\n",
       "        text-align: right;\n",
       "    }\n",
       "\n",
       "    .dataframe thead th {\n",
       "        text-align: left;\n",
       "    }\n",
       "\n",
       "    .dataframe tbody tr th {\n",
       "        vertical-align: top;\n",
       "    }\n",
       "</style>\n",
       "<table border=\"1\" class=\"dataframe\">\n",
       "  <thead>\n",
       "    <tr style=\"text-align: right;\">\n",
       "      <th></th>\n",
       "      <th>d</th>\n",
       "      <th>ac</th>\n",
       "      <th>a</th>\n",
       "      <th>ec</th>\n",
       "      <th>e</th>\n",
       "      <th>ic</th>\n",
       "      <th>i</th>\n",
       "      <th>yc</th>\n",
       "      <th>year</th>\n",
       "      <th>u</th>\n",
       "      <th>value</th>\n",
       "      <th>f</th>\n",
       "      <th>fd</th>\n",
       "    </tr>\n",
       "    <tr>\n",
       "      <th>Year Code</th>\n",
       "      <th></th>\n",
       "      <th></th>\n",
       "      <th></th>\n",
       "      <th></th>\n",
       "      <th></th>\n",
       "      <th></th>\n",
       "      <th></th>\n",
       "      <th></th>\n",
       "      <th></th>\n",
       "      <th></th>\n",
       "      <th></th>\n",
       "      <th></th>\n",
       "      <th></th>\n",
       "    </tr>\n",
       "  </thead>\n",
       "  <tbody>\n",
       "    <tr>\n",
       "      <th>1961</th>\n",
       "      <td>QA</td>\n",
       "      <td>Live Animals</td>\n",
       "      <td>231.0</td>\n",
       "      <td>United States of America</td>\n",
       "      <td>5114.0</td>\n",
       "      <td>Stocks</td>\n",
       "      <td>1181.0</td>\n",
       "      <td>Beehives</td>\n",
       "      <td>1961.0</td>\n",
       "      <td>No</td>\n",
       "      <td>5514000.0</td>\n",
       "      <td>NaN</td>\n",
       "      <td>Official data</td>\n",
       "    </tr>\n",
       "    <tr>\n",
       "      <th>1962</th>\n",
       "      <td>QA</td>\n",
       "      <td>Live Animals</td>\n",
       "      <td>231.0</td>\n",
       "      <td>United States of America</td>\n",
       "      <td>5114.0</td>\n",
       "      <td>Stocks</td>\n",
       "      <td>1181.0</td>\n",
       "      <td>Beehives</td>\n",
       "      <td>1962.0</td>\n",
       "      <td>No</td>\n",
       "      <td>5506000.0</td>\n",
       "      <td>NaN</td>\n",
       "      <td>Official data</td>\n",
       "    </tr>\n",
       "    <tr>\n",
       "      <th>1963</th>\n",
       "      <td>QA</td>\n",
       "      <td>Live Animals</td>\n",
       "      <td>231.0</td>\n",
       "      <td>United States of America</td>\n",
       "      <td>5114.0</td>\n",
       "      <td>Stocks</td>\n",
       "      <td>1181.0</td>\n",
       "      <td>Beehives</td>\n",
       "      <td>1963.0</td>\n",
       "      <td>No</td>\n",
       "      <td>5528000.0</td>\n",
       "      <td>NaN</td>\n",
       "      <td>Official data</td>\n",
       "    </tr>\n",
       "    <tr>\n",
       "      <th>1964</th>\n",
       "      <td>QA</td>\n",
       "      <td>Live Animals</td>\n",
       "      <td>231.0</td>\n",
       "      <td>United States of America</td>\n",
       "      <td>5114.0</td>\n",
       "      <td>Stocks</td>\n",
       "      <td>1181.0</td>\n",
       "      <td>Beehives</td>\n",
       "      <td>1964.0</td>\n",
       "      <td>No</td>\n",
       "      <td>5601000.0</td>\n",
       "      <td>NaN</td>\n",
       "      <td>Official data</td>\n",
       "    </tr>\n",
       "    <tr>\n",
       "      <th>1965</th>\n",
       "      <td>QA</td>\n",
       "      <td>Live Animals</td>\n",
       "      <td>231.0</td>\n",
       "      <td>United States of America</td>\n",
       "      <td>5114.0</td>\n",
       "      <td>Stocks</td>\n",
       "      <td>1181.0</td>\n",
       "      <td>Beehives</td>\n",
       "      <td>1965.0</td>\n",
       "      <td>No</td>\n",
       "      <td>4718000.0</td>\n",
       "      <td>NaN</td>\n",
       "      <td>Official data</td>\n",
       "    </tr>\n",
       "    <tr>\n",
       "      <th>1966</th>\n",
       "      <td>QA</td>\n",
       "      <td>Live Animals</td>\n",
       "      <td>231.0</td>\n",
       "      <td>United States of America</td>\n",
       "      <td>5114.0</td>\n",
       "      <td>Stocks</td>\n",
       "      <td>1181.0</td>\n",
       "      <td>Beehives</td>\n",
       "      <td>1966.0</td>\n",
       "      <td>No</td>\n",
       "      <td>4646000.0</td>\n",
       "      <td>NaN</td>\n",
       "      <td>Official data</td>\n",
       "    </tr>\n",
       "    <tr>\n",
       "      <th>1967</th>\n",
       "      <td>QA</td>\n",
       "      <td>Live Animals</td>\n",
       "      <td>231.0</td>\n",
       "      <td>United States of America</td>\n",
       "      <td>5114.0</td>\n",
       "      <td>Stocks</td>\n",
       "      <td>1181.0</td>\n",
       "      <td>Beehives</td>\n",
       "      <td>1967.0</td>\n",
       "      <td>No</td>\n",
       "      <td>4635000.0</td>\n",
       "      <td>NaN</td>\n",
       "      <td>Official data</td>\n",
       "    </tr>\n",
       "    <tr>\n",
       "      <th>1968</th>\n",
       "      <td>QA</td>\n",
       "      <td>Live Animals</td>\n",
       "      <td>231.0</td>\n",
       "      <td>United States of America</td>\n",
       "      <td>5114.0</td>\n",
       "      <td>Stocks</td>\n",
       "      <td>1181.0</td>\n",
       "      <td>Beehives</td>\n",
       "      <td>1968.0</td>\n",
       "      <td>No</td>\n",
       "      <td>4539000.0</td>\n",
       "      <td>NaN</td>\n",
       "      <td>Official data</td>\n",
       "    </tr>\n",
       "    <tr>\n",
       "      <th>1969</th>\n",
       "      <td>QA</td>\n",
       "      <td>Live Animals</td>\n",
       "      <td>231.0</td>\n",
       "      <td>United States of America</td>\n",
       "      <td>5114.0</td>\n",
       "      <td>Stocks</td>\n",
       "      <td>1181.0</td>\n",
       "      <td>Beehives</td>\n",
       "      <td>1969.0</td>\n",
       "      <td>No</td>\n",
       "      <td>4433000.0</td>\n",
       "      <td>NaN</td>\n",
       "      <td>Official data</td>\n",
       "    </tr>\n",
       "    <tr>\n",
       "      <th>1970</th>\n",
       "      <td>QA</td>\n",
       "      <td>Live Animals</td>\n",
       "      <td>231.0</td>\n",
       "      <td>United States of America</td>\n",
       "      <td>5114.0</td>\n",
       "      <td>Stocks</td>\n",
       "      <td>1181.0</td>\n",
       "      <td>Beehives</td>\n",
       "      <td>1970.0</td>\n",
       "      <td>No</td>\n",
       "      <td>4634000.0</td>\n",
       "      <td>NaN</td>\n",
       "      <td>Official data</td>\n",
       "    </tr>\n",
       "    <tr>\n",
       "      <th>1971</th>\n",
       "      <td>QA</td>\n",
       "      <td>Live Animals</td>\n",
       "      <td>231.0</td>\n",
       "      <td>United States of America</td>\n",
       "      <td>5114.0</td>\n",
       "      <td>Stocks</td>\n",
       "      <td>1181.0</td>\n",
       "      <td>Beehives</td>\n",
       "      <td>1971.0</td>\n",
       "      <td>No</td>\n",
       "      <td>4107000.0</td>\n",
       "      <td>NaN</td>\n",
       "      <td>Official data</td>\n",
       "    </tr>\n",
       "    <tr>\n",
       "      <th>1972</th>\n",
       "      <td>QA</td>\n",
       "      <td>Live Animals</td>\n",
       "      <td>231.0</td>\n",
       "      <td>United States of America</td>\n",
       "      <td>5114.0</td>\n",
       "      <td>Stocks</td>\n",
       "      <td>1181.0</td>\n",
       "      <td>Beehives</td>\n",
       "      <td>1972.0</td>\n",
       "      <td>No</td>\n",
       "      <td>4085000.0</td>\n",
       "      <td>NaN</td>\n",
       "      <td>Official data</td>\n",
       "    </tr>\n",
       "    <tr>\n",
       "      <th>1973</th>\n",
       "      <td>QA</td>\n",
       "      <td>Live Animals</td>\n",
       "      <td>231.0</td>\n",
       "      <td>United States of America</td>\n",
       "      <td>5114.0</td>\n",
       "      <td>Stocks</td>\n",
       "      <td>1181.0</td>\n",
       "      <td>Beehives</td>\n",
       "      <td>1973.0</td>\n",
       "      <td>No</td>\n",
       "      <td>4124000.0</td>\n",
       "      <td>NaN</td>\n",
       "      <td>Official data</td>\n",
       "    </tr>\n",
       "    <tr>\n",
       "      <th>1974</th>\n",
       "      <td>QA</td>\n",
       "      <td>Live Animals</td>\n",
       "      <td>231.0</td>\n",
       "      <td>United States of America</td>\n",
       "      <td>5114.0</td>\n",
       "      <td>Stocks</td>\n",
       "      <td>1181.0</td>\n",
       "      <td>Beehives</td>\n",
       "      <td>1974.0</td>\n",
       "      <td>No</td>\n",
       "      <td>4210000.0</td>\n",
       "      <td>NaN</td>\n",
       "      <td>Official data</td>\n",
       "    </tr>\n",
       "    <tr>\n",
       "      <th>1975</th>\n",
       "      <td>QA</td>\n",
       "      <td>Live Animals</td>\n",
       "      <td>231.0</td>\n",
       "      <td>United States of America</td>\n",
       "      <td>5114.0</td>\n",
       "      <td>Stocks</td>\n",
       "      <td>1181.0</td>\n",
       "      <td>Beehives</td>\n",
       "      <td>1975.0</td>\n",
       "      <td>No</td>\n",
       "      <td>4206000.0</td>\n",
       "      <td>NaN</td>\n",
       "      <td>Official data</td>\n",
       "    </tr>\n",
       "    <tr>\n",
       "      <th>1976</th>\n",
       "      <td>QA</td>\n",
       "      <td>Live Animals</td>\n",
       "      <td>231.0</td>\n",
       "      <td>United States of America</td>\n",
       "      <td>5114.0</td>\n",
       "      <td>Stocks</td>\n",
       "      <td>1181.0</td>\n",
       "      <td>Beehives</td>\n",
       "      <td>1976.0</td>\n",
       "      <td>No</td>\n",
       "      <td>4269000.0</td>\n",
       "      <td>NaN</td>\n",
       "      <td>Official data</td>\n",
       "    </tr>\n",
       "    <tr>\n",
       "      <th>1977</th>\n",
       "      <td>QA</td>\n",
       "      <td>Live Animals</td>\n",
       "      <td>231.0</td>\n",
       "      <td>United States of America</td>\n",
       "      <td>5114.0</td>\n",
       "      <td>Stocks</td>\n",
       "      <td>1181.0</td>\n",
       "      <td>Beehives</td>\n",
       "      <td>1977.0</td>\n",
       "      <td>No</td>\n",
       "      <td>4323000.0</td>\n",
       "      <td>NaN</td>\n",
       "      <td>Official data</td>\n",
       "    </tr>\n",
       "    <tr>\n",
       "      <th>1978</th>\n",
       "      <td>QA</td>\n",
       "      <td>Live Animals</td>\n",
       "      <td>231.0</td>\n",
       "      <td>United States of America</td>\n",
       "      <td>5114.0</td>\n",
       "      <td>Stocks</td>\n",
       "      <td>1181.0</td>\n",
       "      <td>Beehives</td>\n",
       "      <td>1978.0</td>\n",
       "      <td>No</td>\n",
       "      <td>4090000.0</td>\n",
       "      <td>NaN</td>\n",
       "      <td>Official data</td>\n",
       "    </tr>\n",
       "    <tr>\n",
       "      <th>1979</th>\n",
       "      <td>QA</td>\n",
       "      <td>Live Animals</td>\n",
       "      <td>231.0</td>\n",
       "      <td>United States of America</td>\n",
       "      <td>5114.0</td>\n",
       "      <td>Stocks</td>\n",
       "      <td>1181.0</td>\n",
       "      <td>Beehives</td>\n",
       "      <td>1979.0</td>\n",
       "      <td>No</td>\n",
       "      <td>4163000.0</td>\n",
       "      <td>NaN</td>\n",
       "      <td>Official data</td>\n",
       "    </tr>\n",
       "    <tr>\n",
       "      <th>1980</th>\n",
       "      <td>QA</td>\n",
       "      <td>Live Animals</td>\n",
       "      <td>231.0</td>\n",
       "      <td>United States of America</td>\n",
       "      <td>5114.0</td>\n",
       "      <td>Stocks</td>\n",
       "      <td>1181.0</td>\n",
       "      <td>Beehives</td>\n",
       "      <td>1980.0</td>\n",
       "      <td>No</td>\n",
       "      <td>4141000.0</td>\n",
       "      <td>NaN</td>\n",
       "      <td>Official data</td>\n",
       "    </tr>\n",
       "    <tr>\n",
       "      <th>1981</th>\n",
       "      <td>QA</td>\n",
       "      <td>Live Animals</td>\n",
       "      <td>231.0</td>\n",
       "      <td>United States of America</td>\n",
       "      <td>5114.0</td>\n",
       "      <td>Stocks</td>\n",
       "      <td>1181.0</td>\n",
       "      <td>Beehives</td>\n",
       "      <td>1981.0</td>\n",
       "      <td>No</td>\n",
       "      <td>4213000.0</td>\n",
       "      <td>NaN</td>\n",
       "      <td>Official data</td>\n",
       "    </tr>\n",
       "    <tr>\n",
       "      <th>1982</th>\n",
       "      <td>QA</td>\n",
       "      <td>Live Animals</td>\n",
       "      <td>231.0</td>\n",
       "      <td>United States of America</td>\n",
       "      <td>5114.0</td>\n",
       "      <td>Stocks</td>\n",
       "      <td>1181.0</td>\n",
       "      <td>Beehives</td>\n",
       "      <td>1982.0</td>\n",
       "      <td>No</td>\n",
       "      <td>4250000.0</td>\n",
       "      <td>NaN</td>\n",
       "      <td>Official data</td>\n",
       "    </tr>\n",
       "    <tr>\n",
       "      <th>1983</th>\n",
       "      <td>QA</td>\n",
       "      <td>Live Animals</td>\n",
       "      <td>231.0</td>\n",
       "      <td>United States of America</td>\n",
       "      <td>5114.0</td>\n",
       "      <td>Stocks</td>\n",
       "      <td>1181.0</td>\n",
       "      <td>Beehives</td>\n",
       "      <td>1983.0</td>\n",
       "      <td>No</td>\n",
       "      <td>4275000.0</td>\n",
       "      <td>NaN</td>\n",
       "      <td>Official data</td>\n",
       "    </tr>\n",
       "    <tr>\n",
       "      <th>1984</th>\n",
       "      <td>QA</td>\n",
       "      <td>Live Animals</td>\n",
       "      <td>231.0</td>\n",
       "      <td>United States of America</td>\n",
       "      <td>5114.0</td>\n",
       "      <td>Stocks</td>\n",
       "      <td>1181.0</td>\n",
       "      <td>Beehives</td>\n",
       "      <td>1984.0</td>\n",
       "      <td>No</td>\n",
       "      <td>4300000.0</td>\n",
       "      <td>NaN</td>\n",
       "      <td>Official data</td>\n",
       "    </tr>\n",
       "    <tr>\n",
       "      <th>1985</th>\n",
       "      <td>QA</td>\n",
       "      <td>Live Animals</td>\n",
       "      <td>231.0</td>\n",
       "      <td>United States of America</td>\n",
       "      <td>5114.0</td>\n",
       "      <td>Stocks</td>\n",
       "      <td>1181.0</td>\n",
       "      <td>Beehives</td>\n",
       "      <td>1985.0</td>\n",
       "      <td>No</td>\n",
       "      <td>4325000.0</td>\n",
       "      <td>NaN</td>\n",
       "      <td>Official data</td>\n",
       "    </tr>\n",
       "    <tr>\n",
       "      <th>1986</th>\n",
       "      <td>QA</td>\n",
       "      <td>Live Animals</td>\n",
       "      <td>231.0</td>\n",
       "      <td>United States of America</td>\n",
       "      <td>5114.0</td>\n",
       "      <td>Stocks</td>\n",
       "      <td>1181.0</td>\n",
       "      <td>Beehives</td>\n",
       "      <td>1986.0</td>\n",
       "      <td>No</td>\n",
       "      <td>3205000.0</td>\n",
       "      <td>NaN</td>\n",
       "      <td>Official data</td>\n",
       "    </tr>\n",
       "    <tr>\n",
       "      <th>1987</th>\n",
       "      <td>QA</td>\n",
       "      <td>Live Animals</td>\n",
       "      <td>231.0</td>\n",
       "      <td>United States of America</td>\n",
       "      <td>5114.0</td>\n",
       "      <td>Stocks</td>\n",
       "      <td>1181.0</td>\n",
       "      <td>Beehives</td>\n",
       "      <td>1987.0</td>\n",
       "      <td>No</td>\n",
       "      <td>3190000.0</td>\n",
       "      <td>NaN</td>\n",
       "      <td>Official data</td>\n",
       "    </tr>\n",
       "    <tr>\n",
       "      <th>1988</th>\n",
       "      <td>QA</td>\n",
       "      <td>Live Animals</td>\n",
       "      <td>231.0</td>\n",
       "      <td>United States of America</td>\n",
       "      <td>5114.0</td>\n",
       "      <td>Stocks</td>\n",
       "      <td>1181.0</td>\n",
       "      <td>Beehives</td>\n",
       "      <td>1988.0</td>\n",
       "      <td>No</td>\n",
       "      <td>3219000.0</td>\n",
       "      <td>NaN</td>\n",
       "      <td>Official data</td>\n",
       "    </tr>\n",
       "    <tr>\n",
       "      <th>1989</th>\n",
       "      <td>QA</td>\n",
       "      <td>Live Animals</td>\n",
       "      <td>231.0</td>\n",
       "      <td>United States of America</td>\n",
       "      <td>5114.0</td>\n",
       "      <td>Stocks</td>\n",
       "      <td>1181.0</td>\n",
       "      <td>Beehives</td>\n",
       "      <td>1989.0</td>\n",
       "      <td>No</td>\n",
       "      <td>3443000.0</td>\n",
       "      <td>NaN</td>\n",
       "      <td>Official data</td>\n",
       "    </tr>\n",
       "    <tr>\n",
       "      <th>1990</th>\n",
       "      <td>QA</td>\n",
       "      <td>Live Animals</td>\n",
       "      <td>231.0</td>\n",
       "      <td>United States of America</td>\n",
       "      <td>5114.0</td>\n",
       "      <td>Stocks</td>\n",
       "      <td>1181.0</td>\n",
       "      <td>Beehives</td>\n",
       "      <td>1990.0</td>\n",
       "      <td>No</td>\n",
       "      <td>3210000.0</td>\n",
       "      <td>NaN</td>\n",
       "      <td>Official data</td>\n",
       "    </tr>\n",
       "    <tr>\n",
       "      <th>...</th>\n",
       "      <td>...</td>\n",
       "      <td>...</td>\n",
       "      <td>...</td>\n",
       "      <td>...</td>\n",
       "      <td>...</td>\n",
       "      <td>...</td>\n",
       "      <td>...</td>\n",
       "      <td>...</td>\n",
       "      <td>...</td>\n",
       "      <td>...</td>\n",
       "      <td>...</td>\n",
       "      <td>...</td>\n",
       "      <td>...</td>\n",
       "    </tr>\n",
       "    <tr>\n",
       "      <th>2171</th>\n",
       "      <td>NaN</td>\n",
       "      <td>NaN</td>\n",
       "      <td>NaN</td>\n",
       "      <td>NaN</td>\n",
       "      <td>NaN</td>\n",
       "      <td>NaN</td>\n",
       "      <td>NaN</td>\n",
       "      <td>NaN</td>\n",
       "      <td>NaN</td>\n",
       "      <td>NaN</td>\n",
       "      <td>NaN</td>\n",
       "      <td>NaN</td>\n",
       "      <td>NaN</td>\n",
       "    </tr>\n",
       "    <tr>\n",
       "      <th>2172</th>\n",
       "      <td>NaN</td>\n",
       "      <td>NaN</td>\n",
       "      <td>NaN</td>\n",
       "      <td>NaN</td>\n",
       "      <td>NaN</td>\n",
       "      <td>NaN</td>\n",
       "      <td>NaN</td>\n",
       "      <td>NaN</td>\n",
       "      <td>NaN</td>\n",
       "      <td>NaN</td>\n",
       "      <td>NaN</td>\n",
       "      <td>NaN</td>\n",
       "      <td>NaN</td>\n",
       "    </tr>\n",
       "    <tr>\n",
       "      <th>2173</th>\n",
       "      <td>NaN</td>\n",
       "      <td>NaN</td>\n",
       "      <td>NaN</td>\n",
       "      <td>NaN</td>\n",
       "      <td>NaN</td>\n",
       "      <td>NaN</td>\n",
       "      <td>NaN</td>\n",
       "      <td>NaN</td>\n",
       "      <td>NaN</td>\n",
       "      <td>NaN</td>\n",
       "      <td>NaN</td>\n",
       "      <td>NaN</td>\n",
       "      <td>NaN</td>\n",
       "    </tr>\n",
       "    <tr>\n",
       "      <th>2174</th>\n",
       "      <td>NaN</td>\n",
       "      <td>NaN</td>\n",
       "      <td>NaN</td>\n",
       "      <td>NaN</td>\n",
       "      <td>NaN</td>\n",
       "      <td>NaN</td>\n",
       "      <td>NaN</td>\n",
       "      <td>NaN</td>\n",
       "      <td>NaN</td>\n",
       "      <td>NaN</td>\n",
       "      <td>NaN</td>\n",
       "      <td>NaN</td>\n",
       "      <td>NaN</td>\n",
       "    </tr>\n",
       "    <tr>\n",
       "      <th>2175</th>\n",
       "      <td>NaN</td>\n",
       "      <td>NaN</td>\n",
       "      <td>NaN</td>\n",
       "      <td>NaN</td>\n",
       "      <td>NaN</td>\n",
       "      <td>NaN</td>\n",
       "      <td>NaN</td>\n",
       "      <td>NaN</td>\n",
       "      <td>NaN</td>\n",
       "      <td>NaN</td>\n",
       "      <td>NaN</td>\n",
       "      <td>NaN</td>\n",
       "      <td>NaN</td>\n",
       "    </tr>\n",
       "    <tr>\n",
       "      <th>2176</th>\n",
       "      <td>NaN</td>\n",
       "      <td>NaN</td>\n",
       "      <td>NaN</td>\n",
       "      <td>NaN</td>\n",
       "      <td>NaN</td>\n",
       "      <td>NaN</td>\n",
       "      <td>NaN</td>\n",
       "      <td>NaN</td>\n",
       "      <td>NaN</td>\n",
       "      <td>NaN</td>\n",
       "      <td>NaN</td>\n",
       "      <td>NaN</td>\n",
       "      <td>NaN</td>\n",
       "    </tr>\n",
       "    <tr>\n",
       "      <th>2177</th>\n",
       "      <td>NaN</td>\n",
       "      <td>NaN</td>\n",
       "      <td>NaN</td>\n",
       "      <td>NaN</td>\n",
       "      <td>NaN</td>\n",
       "      <td>NaN</td>\n",
       "      <td>NaN</td>\n",
       "      <td>NaN</td>\n",
       "      <td>NaN</td>\n",
       "      <td>NaN</td>\n",
       "      <td>NaN</td>\n",
       "      <td>NaN</td>\n",
       "      <td>NaN</td>\n",
       "    </tr>\n",
       "    <tr>\n",
       "      <th>2178</th>\n",
       "      <td>NaN</td>\n",
       "      <td>NaN</td>\n",
       "      <td>NaN</td>\n",
       "      <td>NaN</td>\n",
       "      <td>NaN</td>\n",
       "      <td>NaN</td>\n",
       "      <td>NaN</td>\n",
       "      <td>NaN</td>\n",
       "      <td>NaN</td>\n",
       "      <td>NaN</td>\n",
       "      <td>NaN</td>\n",
       "      <td>NaN</td>\n",
       "      <td>NaN</td>\n",
       "    </tr>\n",
       "    <tr>\n",
       "      <th>2179</th>\n",
       "      <td>NaN</td>\n",
       "      <td>NaN</td>\n",
       "      <td>NaN</td>\n",
       "      <td>NaN</td>\n",
       "      <td>NaN</td>\n",
       "      <td>NaN</td>\n",
       "      <td>NaN</td>\n",
       "      <td>NaN</td>\n",
       "      <td>NaN</td>\n",
       "      <td>NaN</td>\n",
       "      <td>NaN</td>\n",
       "      <td>NaN</td>\n",
       "      <td>NaN</td>\n",
       "    </tr>\n",
       "    <tr>\n",
       "      <th>2180</th>\n",
       "      <td>NaN</td>\n",
       "      <td>NaN</td>\n",
       "      <td>NaN</td>\n",
       "      <td>NaN</td>\n",
       "      <td>NaN</td>\n",
       "      <td>NaN</td>\n",
       "      <td>NaN</td>\n",
       "      <td>NaN</td>\n",
       "      <td>NaN</td>\n",
       "      <td>NaN</td>\n",
       "      <td>NaN</td>\n",
       "      <td>NaN</td>\n",
       "      <td>NaN</td>\n",
       "    </tr>\n",
       "    <tr>\n",
       "      <th>2181</th>\n",
       "      <td>NaN</td>\n",
       "      <td>NaN</td>\n",
       "      <td>NaN</td>\n",
       "      <td>NaN</td>\n",
       "      <td>NaN</td>\n",
       "      <td>NaN</td>\n",
       "      <td>NaN</td>\n",
       "      <td>NaN</td>\n",
       "      <td>NaN</td>\n",
       "      <td>NaN</td>\n",
       "      <td>NaN</td>\n",
       "      <td>NaN</td>\n",
       "      <td>NaN</td>\n",
       "    </tr>\n",
       "    <tr>\n",
       "      <th>2182</th>\n",
       "      <td>NaN</td>\n",
       "      <td>NaN</td>\n",
       "      <td>NaN</td>\n",
       "      <td>NaN</td>\n",
       "      <td>NaN</td>\n",
       "      <td>NaN</td>\n",
       "      <td>NaN</td>\n",
       "      <td>NaN</td>\n",
       "      <td>NaN</td>\n",
       "      <td>NaN</td>\n",
       "      <td>NaN</td>\n",
       "      <td>NaN</td>\n",
       "      <td>NaN</td>\n",
       "    </tr>\n",
       "    <tr>\n",
       "      <th>2183</th>\n",
       "      <td>NaN</td>\n",
       "      <td>NaN</td>\n",
       "      <td>NaN</td>\n",
       "      <td>NaN</td>\n",
       "      <td>NaN</td>\n",
       "      <td>NaN</td>\n",
       "      <td>NaN</td>\n",
       "      <td>NaN</td>\n",
       "      <td>NaN</td>\n",
       "      <td>NaN</td>\n",
       "      <td>NaN</td>\n",
       "      <td>NaN</td>\n",
       "      <td>NaN</td>\n",
       "    </tr>\n",
       "    <tr>\n",
       "      <th>2184</th>\n",
       "      <td>NaN</td>\n",
       "      <td>NaN</td>\n",
       "      <td>NaN</td>\n",
       "      <td>NaN</td>\n",
       "      <td>NaN</td>\n",
       "      <td>NaN</td>\n",
       "      <td>NaN</td>\n",
       "      <td>NaN</td>\n",
       "      <td>NaN</td>\n",
       "      <td>NaN</td>\n",
       "      <td>NaN</td>\n",
       "      <td>NaN</td>\n",
       "      <td>NaN</td>\n",
       "    </tr>\n",
       "    <tr>\n",
       "      <th>2185</th>\n",
       "      <td>NaN</td>\n",
       "      <td>NaN</td>\n",
       "      <td>NaN</td>\n",
       "      <td>NaN</td>\n",
       "      <td>NaN</td>\n",
       "      <td>NaN</td>\n",
       "      <td>NaN</td>\n",
       "      <td>NaN</td>\n",
       "      <td>NaN</td>\n",
       "      <td>NaN</td>\n",
       "      <td>NaN</td>\n",
       "      <td>NaN</td>\n",
       "      <td>NaN</td>\n",
       "    </tr>\n",
       "    <tr>\n",
       "      <th>2186</th>\n",
       "      <td>NaN</td>\n",
       "      <td>NaN</td>\n",
       "      <td>NaN</td>\n",
       "      <td>NaN</td>\n",
       "      <td>NaN</td>\n",
       "      <td>NaN</td>\n",
       "      <td>NaN</td>\n",
       "      <td>NaN</td>\n",
       "      <td>NaN</td>\n",
       "      <td>NaN</td>\n",
       "      <td>NaN</td>\n",
       "      <td>NaN</td>\n",
       "      <td>NaN</td>\n",
       "    </tr>\n",
       "    <tr>\n",
       "      <th>2187</th>\n",
       "      <td>NaN</td>\n",
       "      <td>NaN</td>\n",
       "      <td>NaN</td>\n",
       "      <td>NaN</td>\n",
       "      <td>NaN</td>\n",
       "      <td>NaN</td>\n",
       "      <td>NaN</td>\n",
       "      <td>NaN</td>\n",
       "      <td>NaN</td>\n",
       "      <td>NaN</td>\n",
       "      <td>NaN</td>\n",
       "      <td>NaN</td>\n",
       "      <td>NaN</td>\n",
       "    </tr>\n",
       "    <tr>\n",
       "      <th>2188</th>\n",
       "      <td>NaN</td>\n",
       "      <td>NaN</td>\n",
       "      <td>NaN</td>\n",
       "      <td>NaN</td>\n",
       "      <td>NaN</td>\n",
       "      <td>NaN</td>\n",
       "      <td>NaN</td>\n",
       "      <td>NaN</td>\n",
       "      <td>NaN</td>\n",
       "      <td>NaN</td>\n",
       "      <td>NaN</td>\n",
       "      <td>NaN</td>\n",
       "      <td>NaN</td>\n",
       "    </tr>\n",
       "    <tr>\n",
       "      <th>2189</th>\n",
       "      <td>NaN</td>\n",
       "      <td>NaN</td>\n",
       "      <td>NaN</td>\n",
       "      <td>NaN</td>\n",
       "      <td>NaN</td>\n",
       "      <td>NaN</td>\n",
       "      <td>NaN</td>\n",
       "      <td>NaN</td>\n",
       "      <td>NaN</td>\n",
       "      <td>NaN</td>\n",
       "      <td>NaN</td>\n",
       "      <td>NaN</td>\n",
       "      <td>NaN</td>\n",
       "    </tr>\n",
       "    <tr>\n",
       "      <th>2190</th>\n",
       "      <td>NaN</td>\n",
       "      <td>NaN</td>\n",
       "      <td>NaN</td>\n",
       "      <td>NaN</td>\n",
       "      <td>NaN</td>\n",
       "      <td>NaN</td>\n",
       "      <td>NaN</td>\n",
       "      <td>NaN</td>\n",
       "      <td>NaN</td>\n",
       "      <td>NaN</td>\n",
       "      <td>NaN</td>\n",
       "      <td>NaN</td>\n",
       "      <td>NaN</td>\n",
       "    </tr>\n",
       "    <tr>\n",
       "      <th>2191</th>\n",
       "      <td>NaN</td>\n",
       "      <td>NaN</td>\n",
       "      <td>NaN</td>\n",
       "      <td>NaN</td>\n",
       "      <td>NaN</td>\n",
       "      <td>NaN</td>\n",
       "      <td>NaN</td>\n",
       "      <td>NaN</td>\n",
       "      <td>NaN</td>\n",
       "      <td>NaN</td>\n",
       "      <td>NaN</td>\n",
       "      <td>NaN</td>\n",
       "      <td>NaN</td>\n",
       "    </tr>\n",
       "    <tr>\n",
       "      <th>2192</th>\n",
       "      <td>NaN</td>\n",
       "      <td>NaN</td>\n",
       "      <td>NaN</td>\n",
       "      <td>NaN</td>\n",
       "      <td>NaN</td>\n",
       "      <td>NaN</td>\n",
       "      <td>NaN</td>\n",
       "      <td>NaN</td>\n",
       "      <td>NaN</td>\n",
       "      <td>NaN</td>\n",
       "      <td>NaN</td>\n",
       "      <td>NaN</td>\n",
       "      <td>NaN</td>\n",
       "    </tr>\n",
       "    <tr>\n",
       "      <th>2193</th>\n",
       "      <td>NaN</td>\n",
       "      <td>NaN</td>\n",
       "      <td>NaN</td>\n",
       "      <td>NaN</td>\n",
       "      <td>NaN</td>\n",
       "      <td>NaN</td>\n",
       "      <td>NaN</td>\n",
       "      <td>NaN</td>\n",
       "      <td>NaN</td>\n",
       "      <td>NaN</td>\n",
       "      <td>NaN</td>\n",
       "      <td>NaN</td>\n",
       "      <td>NaN</td>\n",
       "    </tr>\n",
       "    <tr>\n",
       "      <th>2194</th>\n",
       "      <td>NaN</td>\n",
       "      <td>NaN</td>\n",
       "      <td>NaN</td>\n",
       "      <td>NaN</td>\n",
       "      <td>NaN</td>\n",
       "      <td>NaN</td>\n",
       "      <td>NaN</td>\n",
       "      <td>NaN</td>\n",
       "      <td>NaN</td>\n",
       "      <td>NaN</td>\n",
       "      <td>NaN</td>\n",
       "      <td>NaN</td>\n",
       "      <td>NaN</td>\n",
       "    </tr>\n",
       "    <tr>\n",
       "      <th>2195</th>\n",
       "      <td>NaN</td>\n",
       "      <td>NaN</td>\n",
       "      <td>NaN</td>\n",
       "      <td>NaN</td>\n",
       "      <td>NaN</td>\n",
       "      <td>NaN</td>\n",
       "      <td>NaN</td>\n",
       "      <td>NaN</td>\n",
       "      <td>NaN</td>\n",
       "      <td>NaN</td>\n",
       "      <td>NaN</td>\n",
       "      <td>NaN</td>\n",
       "      <td>NaN</td>\n",
       "    </tr>\n",
       "    <tr>\n",
       "      <th>2196</th>\n",
       "      <td>NaN</td>\n",
       "      <td>NaN</td>\n",
       "      <td>NaN</td>\n",
       "      <td>NaN</td>\n",
       "      <td>NaN</td>\n",
       "      <td>NaN</td>\n",
       "      <td>NaN</td>\n",
       "      <td>NaN</td>\n",
       "      <td>NaN</td>\n",
       "      <td>NaN</td>\n",
       "      <td>NaN</td>\n",
       "      <td>NaN</td>\n",
       "      <td>NaN</td>\n",
       "    </tr>\n",
       "    <tr>\n",
       "      <th>2197</th>\n",
       "      <td>NaN</td>\n",
       "      <td>NaN</td>\n",
       "      <td>NaN</td>\n",
       "      <td>NaN</td>\n",
       "      <td>NaN</td>\n",
       "      <td>NaN</td>\n",
       "      <td>NaN</td>\n",
       "      <td>NaN</td>\n",
       "      <td>NaN</td>\n",
       "      <td>NaN</td>\n",
       "      <td>NaN</td>\n",
       "      <td>NaN</td>\n",
       "      <td>NaN</td>\n",
       "    </tr>\n",
       "    <tr>\n",
       "      <th>2198</th>\n",
       "      <td>NaN</td>\n",
       "      <td>NaN</td>\n",
       "      <td>NaN</td>\n",
       "      <td>NaN</td>\n",
       "      <td>NaN</td>\n",
       "      <td>NaN</td>\n",
       "      <td>NaN</td>\n",
       "      <td>NaN</td>\n",
       "      <td>NaN</td>\n",
       "      <td>NaN</td>\n",
       "      <td>NaN</td>\n",
       "      <td>NaN</td>\n",
       "      <td>NaN</td>\n",
       "    </tr>\n",
       "    <tr>\n",
       "      <th>2199</th>\n",
       "      <td>NaN</td>\n",
       "      <td>NaN</td>\n",
       "      <td>NaN</td>\n",
       "      <td>NaN</td>\n",
       "      <td>NaN</td>\n",
       "      <td>NaN</td>\n",
       "      <td>NaN</td>\n",
       "      <td>NaN</td>\n",
       "      <td>NaN</td>\n",
       "      <td>NaN</td>\n",
       "      <td>NaN</td>\n",
       "      <td>NaN</td>\n",
       "      <td>NaN</td>\n",
       "    </tr>\n",
       "    <tr>\n",
       "      <th>2200</th>\n",
       "      <td>NaN</td>\n",
       "      <td>NaN</td>\n",
       "      <td>NaN</td>\n",
       "      <td>NaN</td>\n",
       "      <td>NaN</td>\n",
       "      <td>NaN</td>\n",
       "      <td>NaN</td>\n",
       "      <td>NaN</td>\n",
       "      <td>NaN</td>\n",
       "      <td>NaN</td>\n",
       "      <td>NaN</td>\n",
       "      <td>NaN</td>\n",
       "      <td>NaN</td>\n",
       "    </tr>\n",
       "  </tbody>\n",
       "</table>\n",
       "<p>240 rows × 13 columns</p>\n",
       "</div>"
      ],
      "text/plain": [
       "             d            ac      a                        ec       e      ic  \\\n",
       "Year Code                                                                       \n",
       "1961        QA  Live Animals  231.0  United States of America  5114.0  Stocks   \n",
       "1962        QA  Live Animals  231.0  United States of America  5114.0  Stocks   \n",
       "1963        QA  Live Animals  231.0  United States of America  5114.0  Stocks   \n",
       "1964        QA  Live Animals  231.0  United States of America  5114.0  Stocks   \n",
       "1965        QA  Live Animals  231.0  United States of America  5114.0  Stocks   \n",
       "1966        QA  Live Animals  231.0  United States of America  5114.0  Stocks   \n",
       "1967        QA  Live Animals  231.0  United States of America  5114.0  Stocks   \n",
       "1968        QA  Live Animals  231.0  United States of America  5114.0  Stocks   \n",
       "1969        QA  Live Animals  231.0  United States of America  5114.0  Stocks   \n",
       "1970        QA  Live Animals  231.0  United States of America  5114.0  Stocks   \n",
       "1971        QA  Live Animals  231.0  United States of America  5114.0  Stocks   \n",
       "1972        QA  Live Animals  231.0  United States of America  5114.0  Stocks   \n",
       "1973        QA  Live Animals  231.0  United States of America  5114.0  Stocks   \n",
       "1974        QA  Live Animals  231.0  United States of America  5114.0  Stocks   \n",
       "1975        QA  Live Animals  231.0  United States of America  5114.0  Stocks   \n",
       "1976        QA  Live Animals  231.0  United States of America  5114.0  Stocks   \n",
       "1977        QA  Live Animals  231.0  United States of America  5114.0  Stocks   \n",
       "1978        QA  Live Animals  231.0  United States of America  5114.0  Stocks   \n",
       "1979        QA  Live Animals  231.0  United States of America  5114.0  Stocks   \n",
       "1980        QA  Live Animals  231.0  United States of America  5114.0  Stocks   \n",
       "1981        QA  Live Animals  231.0  United States of America  5114.0  Stocks   \n",
       "1982        QA  Live Animals  231.0  United States of America  5114.0  Stocks   \n",
       "1983        QA  Live Animals  231.0  United States of America  5114.0  Stocks   \n",
       "1984        QA  Live Animals  231.0  United States of America  5114.0  Stocks   \n",
       "1985        QA  Live Animals  231.0  United States of America  5114.0  Stocks   \n",
       "1986        QA  Live Animals  231.0  United States of America  5114.0  Stocks   \n",
       "1987        QA  Live Animals  231.0  United States of America  5114.0  Stocks   \n",
       "1988        QA  Live Animals  231.0  United States of America  5114.0  Stocks   \n",
       "1989        QA  Live Animals  231.0  United States of America  5114.0  Stocks   \n",
       "1990        QA  Live Animals  231.0  United States of America  5114.0  Stocks   \n",
       "...        ...           ...    ...                       ...     ...     ...   \n",
       "2171       NaN           NaN    NaN                       NaN     NaN     NaN   \n",
       "2172       NaN           NaN    NaN                       NaN     NaN     NaN   \n",
       "2173       NaN           NaN    NaN                       NaN     NaN     NaN   \n",
       "2174       NaN           NaN    NaN                       NaN     NaN     NaN   \n",
       "2175       NaN           NaN    NaN                       NaN     NaN     NaN   \n",
       "2176       NaN           NaN    NaN                       NaN     NaN     NaN   \n",
       "2177       NaN           NaN    NaN                       NaN     NaN     NaN   \n",
       "2178       NaN           NaN    NaN                       NaN     NaN     NaN   \n",
       "2179       NaN           NaN    NaN                       NaN     NaN     NaN   \n",
       "2180       NaN           NaN    NaN                       NaN     NaN     NaN   \n",
       "2181       NaN           NaN    NaN                       NaN     NaN     NaN   \n",
       "2182       NaN           NaN    NaN                       NaN     NaN     NaN   \n",
       "2183       NaN           NaN    NaN                       NaN     NaN     NaN   \n",
       "2184       NaN           NaN    NaN                       NaN     NaN     NaN   \n",
       "2185       NaN           NaN    NaN                       NaN     NaN     NaN   \n",
       "2186       NaN           NaN    NaN                       NaN     NaN     NaN   \n",
       "2187       NaN           NaN    NaN                       NaN     NaN     NaN   \n",
       "2188       NaN           NaN    NaN                       NaN     NaN     NaN   \n",
       "2189       NaN           NaN    NaN                       NaN     NaN     NaN   \n",
       "2190       NaN           NaN    NaN                       NaN     NaN     NaN   \n",
       "2191       NaN           NaN    NaN                       NaN     NaN     NaN   \n",
       "2192       NaN           NaN    NaN                       NaN     NaN     NaN   \n",
       "2193       NaN           NaN    NaN                       NaN     NaN     NaN   \n",
       "2194       NaN           NaN    NaN                       NaN     NaN     NaN   \n",
       "2195       NaN           NaN    NaN                       NaN     NaN     NaN   \n",
       "2196       NaN           NaN    NaN                       NaN     NaN     NaN   \n",
       "2197       NaN           NaN    NaN                       NaN     NaN     NaN   \n",
       "2198       NaN           NaN    NaN                       NaN     NaN     NaN   \n",
       "2199       NaN           NaN    NaN                       NaN     NaN     NaN   \n",
       "2200       NaN           NaN    NaN                       NaN     NaN     NaN   \n",
       "\n",
       "                i        yc    year    u      value   f             fd  \n",
       "Year Code                                                               \n",
       "1961       1181.0  Beehives  1961.0   No  5514000.0 NaN  Official data  \n",
       "1962       1181.0  Beehives  1962.0   No  5506000.0 NaN  Official data  \n",
       "1963       1181.0  Beehives  1963.0   No  5528000.0 NaN  Official data  \n",
       "1964       1181.0  Beehives  1964.0   No  5601000.0 NaN  Official data  \n",
       "1965       1181.0  Beehives  1965.0   No  4718000.0 NaN  Official data  \n",
       "1966       1181.0  Beehives  1966.0   No  4646000.0 NaN  Official data  \n",
       "1967       1181.0  Beehives  1967.0   No  4635000.0 NaN  Official data  \n",
       "1968       1181.0  Beehives  1968.0   No  4539000.0 NaN  Official data  \n",
       "1969       1181.0  Beehives  1969.0   No  4433000.0 NaN  Official data  \n",
       "1970       1181.0  Beehives  1970.0   No  4634000.0 NaN  Official data  \n",
       "1971       1181.0  Beehives  1971.0   No  4107000.0 NaN  Official data  \n",
       "1972       1181.0  Beehives  1972.0   No  4085000.0 NaN  Official data  \n",
       "1973       1181.0  Beehives  1973.0   No  4124000.0 NaN  Official data  \n",
       "1974       1181.0  Beehives  1974.0   No  4210000.0 NaN  Official data  \n",
       "1975       1181.0  Beehives  1975.0   No  4206000.0 NaN  Official data  \n",
       "1976       1181.0  Beehives  1976.0   No  4269000.0 NaN  Official data  \n",
       "1977       1181.0  Beehives  1977.0   No  4323000.0 NaN  Official data  \n",
       "1978       1181.0  Beehives  1978.0   No  4090000.0 NaN  Official data  \n",
       "1979       1181.0  Beehives  1979.0   No  4163000.0 NaN  Official data  \n",
       "1980       1181.0  Beehives  1980.0   No  4141000.0 NaN  Official data  \n",
       "1981       1181.0  Beehives  1981.0   No  4213000.0 NaN  Official data  \n",
       "1982       1181.0  Beehives  1982.0   No  4250000.0 NaN  Official data  \n",
       "1983       1181.0  Beehives  1983.0   No  4275000.0 NaN  Official data  \n",
       "1984       1181.0  Beehives  1984.0   No  4300000.0 NaN  Official data  \n",
       "1985       1181.0  Beehives  1985.0   No  4325000.0 NaN  Official data  \n",
       "1986       1181.0  Beehives  1986.0   No  3205000.0 NaN  Official data  \n",
       "1987       1181.0  Beehives  1987.0   No  3190000.0 NaN  Official data  \n",
       "1988       1181.0  Beehives  1988.0   No  3219000.0 NaN  Official data  \n",
       "1989       1181.0  Beehives  1989.0   No  3443000.0 NaN  Official data  \n",
       "1990       1181.0  Beehives  1990.0   No  3210000.0 NaN  Official data  \n",
       "...           ...       ...     ...  ...        ...  ..            ...  \n",
       "2171          NaN       NaN     NaN  NaN        NaN NaN            NaN  \n",
       "2172          NaN       NaN     NaN  NaN        NaN NaN            NaN  \n",
       "2173          NaN       NaN     NaN  NaN        NaN NaN            NaN  \n",
       "2174          NaN       NaN     NaN  NaN        NaN NaN            NaN  \n",
       "2175          NaN       NaN     NaN  NaN        NaN NaN            NaN  \n",
       "2176          NaN       NaN     NaN  NaN        NaN NaN            NaN  \n",
       "2177          NaN       NaN     NaN  NaN        NaN NaN            NaN  \n",
       "2178          NaN       NaN     NaN  NaN        NaN NaN            NaN  \n",
       "2179          NaN       NaN     NaN  NaN        NaN NaN            NaN  \n",
       "2180          NaN       NaN     NaN  NaN        NaN NaN            NaN  \n",
       "2181          NaN       NaN     NaN  NaN        NaN NaN            NaN  \n",
       "2182          NaN       NaN     NaN  NaN        NaN NaN            NaN  \n",
       "2183          NaN       NaN     NaN  NaN        NaN NaN            NaN  \n",
       "2184          NaN       NaN     NaN  NaN        NaN NaN            NaN  \n",
       "2185          NaN       NaN     NaN  NaN        NaN NaN            NaN  \n",
       "2186          NaN       NaN     NaN  NaN        NaN NaN            NaN  \n",
       "2187          NaN       NaN     NaN  NaN        NaN NaN            NaN  \n",
       "2188          NaN       NaN     NaN  NaN        NaN NaN            NaN  \n",
       "2189          NaN       NaN     NaN  NaN        NaN NaN            NaN  \n",
       "2190          NaN       NaN     NaN  NaN        NaN NaN            NaN  \n",
       "2191          NaN       NaN     NaN  NaN        NaN NaN            NaN  \n",
       "2192          NaN       NaN     NaN  NaN        NaN NaN            NaN  \n",
       "2193          NaN       NaN     NaN  NaN        NaN NaN            NaN  \n",
       "2194          NaN       NaN     NaN  NaN        NaN NaN            NaN  \n",
       "2195          NaN       NaN     NaN  NaN        NaN NaN            NaN  \n",
       "2196          NaN       NaN     NaN  NaN        NaN NaN            NaN  \n",
       "2197          NaN       NaN     NaN  NaN        NaN NaN            NaN  \n",
       "2198          NaN       NaN     NaN  NaN        NaN NaN            NaN  \n",
       "2199          NaN       NaN     NaN  NaN        NaN NaN            NaN  \n",
       "2200          NaN       NaN     NaN  NaN        NaN NaN            NaN  \n",
       "\n",
       "[240 rows x 13 columns]"
      ]
     },
     "execution_count": 474,
     "metadata": {},
     "output_type": "execute_result"
    }
   ],
   "source": [
    "\n",
    "tables.columns = ['d', 'ac', 'a', 'ec', 'e', 'ic', 'i', 'yc', 'year', 'u', 'value', 'f', 'fd']\n",
    "tables\n",
    "\n"
   ]
  },
  {
   "cell_type": "code",
   "execution_count": 475,
   "metadata": {},
   "outputs": [
    {
     "data": {
      "text/plain": [
       "Year Code\n",
       "1961    5514000.0\n",
       "1962    5506000.0\n",
       "1963    5528000.0\n",
       "1964    5601000.0\n",
       "1965    4718000.0\n",
       "1966    4646000.0\n",
       "1967    4635000.0\n",
       "1968    4539000.0\n",
       "1969    4433000.0\n",
       "1970    4634000.0\n",
       "1971    4107000.0\n",
       "1972    4085000.0\n",
       "1973    4124000.0\n",
       "1974    4210000.0\n",
       "1975    4206000.0\n",
       "1976    4269000.0\n",
       "1977    4323000.0\n",
       "1978    4090000.0\n",
       "1979    4163000.0\n",
       "1980    4141000.0\n",
       "1981    4213000.0\n",
       "1982    4250000.0\n",
       "1983    4275000.0\n",
       "1984    4300000.0\n",
       "1985    4325000.0\n",
       "1986    3205000.0\n",
       "1987    3190000.0\n",
       "1988    3219000.0\n",
       "1989    3443000.0\n",
       "1990    3210000.0\n",
       "          ...    \n",
       "2171          NaN\n",
       "2172          NaN\n",
       "2173          NaN\n",
       "2174          NaN\n",
       "2175          NaN\n",
       "2176          NaN\n",
       "2177          NaN\n",
       "2178          NaN\n",
       "2179          NaN\n",
       "2180          NaN\n",
       "2181          NaN\n",
       "2182          NaN\n",
       "2183          NaN\n",
       "2184          NaN\n",
       "2185          NaN\n",
       "2186          NaN\n",
       "2187          NaN\n",
       "2188          NaN\n",
       "2189          NaN\n",
       "2190          NaN\n",
       "2191          NaN\n",
       "2192          NaN\n",
       "2193          NaN\n",
       "2194          NaN\n",
       "2195          NaN\n",
       "2196          NaN\n",
       "2197          NaN\n",
       "2198          NaN\n",
       "2199          NaN\n",
       "2200          NaN\n",
       "Name: value, Length: 240, dtype: float64"
      ]
     },
     "execution_count": 475,
     "metadata": {},
     "output_type": "execute_result"
    }
   ],
   "source": [
    "value = tables.value\n",
    "value\n",
    "\n"
   ]
  },
  {
   "cell_type": "code",
   "execution_count": 476,
   "metadata": {},
   "outputs": [
    {
     "data": {
      "text/plain": [
       "array([ 5514000.,  5506000.,  5528000.,  5601000.,  4718000.,  4646000.,\n",
       "        4635000.,  4539000.,  4433000.,  4634000.,  4107000.,  4085000.,\n",
       "        4124000.,  4210000.,  4206000.,  4269000.,  4323000.,  4090000.,\n",
       "        4163000.,  4141000.,  4213000.,  4250000.,  4275000.,  4300000.,\n",
       "        4325000.,  3205000.,  3190000.,  3219000.,  3443000.,  3210000.,\n",
       "        3181000.,  3030000.,  2880000.,  2770000.,  2648000.,  2566000.,\n",
       "        2631000.,  2633000.,  2688000.,  2620000.,  2513000.,  2574000.,\n",
       "        2590000.,  2556000.,  2413000.,  2392000.,  2301000.,  2342000.,\n",
       "        2498000.,  2692000.,  2491000.,  2539000.,  2640000.,  2740000.,\n",
       "             nan,       nan,       nan,       nan,       nan,       nan,\n",
       "             nan,       nan,       nan,       nan,       nan,       nan,\n",
       "             nan,       nan,       nan,       nan,       nan,       nan,\n",
       "             nan,       nan,       nan,       nan,       nan,       nan,\n",
       "             nan,       nan,       nan,       nan,       nan,       nan,\n",
       "             nan,       nan,       nan,       nan,       nan,       nan,\n",
       "             nan,       nan,       nan,       nan,       nan,       nan,\n",
       "             nan,       nan,       nan,       nan,       nan,       nan,\n",
       "             nan,       nan,       nan,       nan,       nan,       nan,\n",
       "             nan,       nan,       nan,       nan,       nan,       nan,\n",
       "             nan,       nan,       nan,       nan,       nan,       nan,\n",
       "             nan,       nan,       nan,       nan,       nan,       nan,\n",
       "             nan,       nan,       nan,       nan,       nan,       nan,\n",
       "             nan,       nan,       nan,       nan,       nan,       nan,\n",
       "             nan,       nan,       nan,       nan,       nan,       nan,\n",
       "             nan,       nan,       nan,       nan,       nan,       nan,\n",
       "             nan,       nan,       nan,       nan,       nan,       nan,\n",
       "             nan,       nan,       nan,       nan,       nan,       nan,\n",
       "             nan,       nan,       nan,       nan,       nan,       nan,\n",
       "             nan,       nan,       nan,       nan,       nan,       nan,\n",
       "             nan,       nan,       nan,       nan,       nan,       nan,\n",
       "             nan,       nan,       nan,       nan,       nan,       nan,\n",
       "             nan,       nan,       nan,       nan,       nan,       nan,\n",
       "             nan,       nan,       nan,       nan,       nan,       nan,\n",
       "             nan,       nan,       nan,       nan,       nan,       nan,\n",
       "             nan,       nan,       nan,       nan,       nan,       nan,\n",
       "             nan,       nan,       nan,       nan,       nan,       nan,\n",
       "             nan,       nan,       nan,       nan,       nan,       nan,\n",
       "             nan,       nan,       nan,       nan,       nan,       nan,\n",
       "             nan,       nan,       nan,       nan,       nan,       nan,\n",
       "             nan,       nan,       nan,       nan,       nan,       nan])"
      ]
     },
     "execution_count": 476,
     "metadata": {},
     "output_type": "execute_result"
    }
   ],
   "source": [
    "value.values"
   ]
  },
  {
   "cell_type": "code",
   "execution_count": 477,
   "metadata": {},
   "outputs": [
    {
     "data": {
      "text/plain": [
       "Int64Index([1961, 1962, 1963, 1964, 1965, 1966, 1967, 1968, 1969, 1970,\n",
       "            ...\n",
       "            2191, 2192, 2193, 2194, 2195, 2196, 2197, 2198, 2199, 2200],\n",
       "           dtype='int64', name='Year Code', length=240)"
      ]
     },
     "execution_count": 477,
     "metadata": {},
     "output_type": "execute_result"
    }
   ],
   "source": [
    "\n",
    "value.index\n",
    "\n",
    "\n"
   ]
  },
  {
   "cell_type": "code",
   "execution_count": 478,
   "metadata": {
    "collapsed": true
   },
   "outputs": [],
   "source": [
    "def plot_estimates(tables):\n",
    "    value = tables.value / 1e6\n",
    "    plot(value.dropna(), '--', color='green', label='FAO Stats')\n",
    "    \n",
    "    decorate(xlabel='Year',\n",
    "             ylabel='Number of Registered Hives (in Millions)')\n",
    "    \n"
   ]
  },
  {
   "cell_type": "code",
   "execution_count": 479,
   "metadata": {},
   "outputs": [
    {
     "data": {
      "image/png": "[encoded data removed]",
      "text/plain": [
       "<matplotlib.figure.Figure at 0x25857683748>"
      ]
     },
     "metadata": {},
     "output_type": "display_data"
    }
   ],
   "source": [
    "   \n",
    "newfig()\n",
    "plot_estimates(tables)"
   ]
  },
  {
   "cell_type": "code",
   "execution_count": 568,
   "metadata": {},
   "outputs": [],
   "source": [
    "t0 = value.index[0]\n",
    "t_end = value.index[-1]\n",
    "total_change = value[t_end] - value[t0]\n",
    "elapsed_time = t_end - t0\n",
    "\n",
    "system = System(t0=t0,\n",
    "                t_end=t_end,\n",
    "                p0 = value[t0])\n",
    "\n",
    "def update_function2(value, t, system):\n",
    "    net_change = system.alpha * value ** 2 + system.beta * value\n",
    "    \n",
    "    return value + net_change \n",
    "\n"
   ]
  },
  {
   "cell_type": "code",
   "execution_count": 619,
   "metadata": {},
   "outputs": [],
   "source": [
    "system.alpha = -1e-8\n",
    "system.beta = .02\n"
   ]
  },
  {
   "cell_type": "code",
   "execution_count": 620,
   "metadata": {
    "collapsed": true
   },
   "outputs": [],
   "source": [
    "def run_simulation(system, update_function2):\n",
    "    results = TimeSeries() \n",
    "    results[system.t0] = system.p0\n",
    "    for t in linrange(system.t0, system.t_end):\n",
    "        results[t+1] = update_function2(results[t], t, system)\n",
    "        \n",
    "    system.results = results / 1e6\n",
    "    "
   ]
  },
  {
   "cell_type": "code",
   "execution_count": 621,
   "metadata": {
    "collapsed": true
   },
   "outputs": [],
   "source": [
    "def plot_results(system, title=None):\n",
    "    newfig()\n",
    "    plot_estimates(tables)\n",
    "    plot(system.results, '--', color='gray', label='model')\n",
    "    decorate(xlabel='Time (Years)',\n",
    "             ylabel='Number of Registered Hives (Millions)',\n",
    "            title=title)"
   ]
  },
  {
   "cell_type": "code",
   "execution_count": 622,
   "metadata": {},
   "outputs": [
    {
     "data": {
      "image/png": "[encoded data removed]",
      "text/plain": [
       "<matplotlib.figure.Figure at 0x2585bd836a0>"
      ]
     },
     "metadata": {},
     "output_type": "display_data"
    }
   ],
   "source": [
    "run_simulation(system, update_function2)\n",
    "plot_results(system, title='Bees')"
   ]
  },
  {
   "cell_type": "code",
   "execution_count": 623,
   "metadata": {
    "collapsed": true
   },
   "outputs": [],
   "source": [
    "t_end = 2050"
   ]
  },
  {
   "cell_type": "code",
   "execution_count": 639,
   "metadata": {
    "collapsed": true
   },
   "outputs": [],
   "source": [
    "t0 = value.index[0]\n",
    "t_end = value.index[50]\n",
    "total_change = value[t_end] - value[t0]\n",
    "elapsed_time = t_end - t0\n",
    "\n",
    "system = System(t0=t0,\n",
    "                t_end=t_end,\n",
    "                p0 = value[t0])\n",
    "\n",
    "system.alpha = -1e-8\n",
    "system.beta = .02\n",
    "\n",
    "\n",
    "def run_simulation(system, update_function2):\n",
    "    results = TimeSeries() \n",
    "    results[system.t0] = system.p0\n",
    "    for t in linrange(system.t0, system.t_end):\n",
    "        results[t+1] = update_function2(results[t], t, system)\n",
    "        \n",
    "    system.results = results / 1e6\n",
    "    \n",
    "def update_function2(value, t, system):\n",
    "    net_change = system.alpha * value ** 2 + system.beta * value\n",
    "    \n",
    "    return value + net_change "
   ]
  },
  {
   "cell_type": "code",
   "execution_count": 640,
   "metadata": {},
   "outputs": [
    {
     "data": {
      "image/png": "[encoded data removed]",
      "text/plain": [
       "<matplotlib.figure.Figure at 0x2585c0642b0>"
      ]
     },
     "metadata": {},
     "output_type": "display_data"
    }
   ],
   "source": [
    "run_simulation(system, update_function2)\n",
    "plot_results(system, title='Bees')"
   ]
  },
  {
   "cell_type": "code",
   "execution_count": null,
   "metadata": {
    "collapsed": true
   },
   "outputs": [],
   "source": []
  }
 ],
 "metadata": {
  "kernelspec": {
   "display_name": "Python 3",
   "language": "python",
   "name": "python3"
  },
  "language_info": {
   "codemirror_mode": {
    "name": "ipython",
    "version": 3
   },
   "file_extension": ".py",
   "mimetype": "text/x-python",
   "name": "python",
   "nbconvert_exporter": "python",
   "pygments_lexer": "ipython3",
   "version": "3.6.1"
  }
 },
 "nbformat": 4,
 "nbformat_minor": 1
}
